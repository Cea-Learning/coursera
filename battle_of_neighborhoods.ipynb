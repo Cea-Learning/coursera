{
 "metadata": {
  "language_info": {
   "codemirror_mode": {
    "name": "ipython",
    "version": 3
   },
   "file_extension": ".py",
   "mimetype": "text/x-python",
   "name": "python",
   "nbconvert_exporter": "python",
   "pygments_lexer": "ipython3",
   "version": "3.8.5"
  },
  "orig_nbformat": 2,
  "kernelspec": {
   "name": "python3",
   "display_name": "Python 3.8.5 64-bit",
   "metadata": {
    "interpreter": {
     "hash": "aee8b7b246df8f9039afb4144a1f6fd8d2ca17a180786b69acc140d282b71a49"
    }
   }
  }
 },
 "nbformat": 4,
 "nbformat_minor": 2,
 "cells": [
  {
   "source": [
    "#    THE BATTLE OF NEIGHBOURHOODS\n",
    "### A comparative analysis of Lagos to Kigali\n"
   ],
   "cell_type": "markdown",
   "metadata": {}
  },
  {
   "source": [
    "## 1. Introductiom"
   ],
   "cell_type": "markdown",
   "metadata": {}
  },
  {
   "source": [
    "### 1.1 Background\n",
    "Lagos, a city with an approximate land size 3,577 km-square and a population of about 14,862,111, is the busiest city and most populated city in West Africa, the smallest city by land size in Nigeria and the largest economy in Africa. Lagos has five (5) administrative divisions, with 20 local government areas, 56 local council development areas and many neighbourhoods. Despite government policies and being overly populated, Lagos continues to thrive in investments as we see new businesses (startups) springing up regularly.\n",
    "\n",
    "On the other hand, Kigali, with an approximate land size of 738 km-square, is a fast growing city, with a current population of 1,169,889, and one of the largest economies in East Africa. It is also the safest and cleanest city in Africa. Kigali is divided into three (3) districts, thirty-five (35) sectors and one hundred and sixty-one (161) cells and many villages. Despite its welcoming nature and proposed ease of doing business, there is more rise in tourist activities than people settling in the city and investing in businesses. \n"
   ],
   "cell_type": "markdown",
   "metadata": {}
  },
  {
   "source": [
    "### 1.2 Problem\n",
    "The purpose of the project is to compare the neighbourhoods of both Lagos and Kigali, exploring similarities and dissimilarities between these neighbourhoods and investigating the suitability of a city or neighbourhood for an individual.\n"
   ],
   "cell_type": "markdown",
   "metadata": {}
  },
  {
   "source": [
    "### 1.3  Interests\n",
    "This project would also be helpful to those seeking to relocate from one of this city to another, as it is easy to fit into a neighborhood in a city similar to where one is relocating from. The project also provides insight into the cost of living in these cities. Clustering neighbourhoods can help investors along with other factors not considered in this project decide which neighbourhood is best suited for their business in any of these cities and which city to invest in with the advantage of localization.\n",
    "\n"
   ],
   "cell_type": "markdown",
   "metadata": {}
  },
  {
   "source": [
    "## 2. Data Acqusition and Processing"
   ],
   "cell_type": "markdown",
   "metadata": {}
  },
  {
   "source": [
    "### 2.1 Data Aquisition\n",
    "\n",
    "The  data used for this project was obtained from multiple sources. The data containing the sectors, cells and  districts in Kigali was obtained from the Rwandan Energy Group [1] list of Nep results. Data about Lagos division was obtained from wikipedia [2]() including its wards. Both information were merged into a single csv file. Data containing information on cost of living in Kigali versus Lagos is scrapped from Numbeo [3](), the world’s largest cost of living database and read into jupyter notebooks.\n",
    "\n"
   ],
   "cell_type": "markdown",
   "metadata": {}
  },
  {
   "source": [
    "### 2.2 Data Pre-processing\n",
    "\n",
    "For the sake of similarity, Kigali city divisions of districts, sectors and cells were renamed into divisions, areas and neighbourhoods respectively. The same was done to Lagos city divisions of  divisions, Local government areas and wards. Using a python package Geocoder, the longitude and latitude of each area was derived and merged as part of the data. Also using a python package BeautifulSoup, the cost of living information was scraped and formatted into a pandas dataframe ready for analysis.\n"
   ],
   "cell_type": "markdown",
   "metadata": {}
  },
  {
   "source": [
    "### 2.3 Data Description\n",
    "\n",
    "The neighbourhoods data consist of six (6) columns and fifty-five ( 55) rows of data. The six columns are city, divisions, areas, neighbourhoods, latitude and longitude. The latitude and longitude is obtained from the name of the individual areas using the geocoder.nominatim package. The process is then repeated for a specific area, getting the longitude and latitude of specific neighbourhoods . The Folium package is used for visualizing the data on the map and Foursquare Api is used to explore a specific neighbourhood getting at most 100 venues around a radius of 500m within a specific neighbourhood. The data can be clustered to find similar neighbourhoods in terms of how dense the environment is  and what businesses are around a specific neighbourhood. We use the independent T-test from the scipy package for testing if there is a significant difference in the cost of  living in kigali versus living in Lagos city using the cost of living data. The data consist of two three columns:- variable been measured, Kigali, Lagos. Each row consists of a variable being measured.\n"
   ],
   "cell_type": "markdown",
   "metadata": {}
  }
 ]
}