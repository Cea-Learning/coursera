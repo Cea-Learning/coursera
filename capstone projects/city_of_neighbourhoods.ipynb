{
 "metadata": {
  "language_info": {
   "codemirror_mode": {
    "name": "ipython",
    "version": 3
   },
   "file_extension": ".py",
   "mimetype": "text/x-python",
   "name": "python",
   "nbconvert_exporter": "python",
   "pygments_lexer": "ipython3",
   "version": "3.8.5"
  },
  "orig_nbformat": 2,
  "kernelspec": {
   "name": "python3",
   "display_name": "Python 3.8.5 64-bit",
   "metadata": {
    "interpreter": {
     "hash": "aee8b7b246df8f9039afb4144a1f6fd8d2ca17a180786b69acc140d282b71a49"
    }
   }
  }
 },
 "nbformat": 4,
 "nbformat_minor": 2,
 "cells": [
  {
   "source": [
    "# Toronto - The City Of Neighborhoods "
   ],
   "cell_type": "markdown",
   "metadata": {}
  },
  {
   "source": [
    "The strength and vitality of the many neighbourhoods that make up Toronto, Ontario, Canada has earned the city its unofficial nickname of \"the city of neighbourhoods. There are over 140 neighbourhoods officially recognized by the City of Toronto. The aim of this project is to explore, segment and clusterise Toronto according to its neighborhoods and find similarites and disimilarities using data science techniques."
   ],
   "cell_type": "markdown",
   "metadata": {}
  },
  {
   "source": [
    "### Install Dependencies"
   ],
   "cell_type": "markdown",
   "metadata": {}
  },
  {
   "cell_type": "code",
   "execution_count": 1,
   "metadata": {},
   "outputs": [
    {
     "output_type": "stream",
     "name": "stdout",
     "text": [
      "Requirement already satisfied: bs4 in /opt/anaconda3/lib/python3.7/site-packages (0.0.1)\n",
      "Requirement already satisfied: beautifulsoup4 in /opt/anaconda3/lib/python3.7/site-packages (from bs4) (4.8.2)\n",
      "Requirement already satisfied: soupsieve>=1.2 in /opt/anaconda3/lib/python3.7/site-packages (from beautifulsoup4->bs4) (1.9.5)\n",
      "Requirement already satisfied: requests in /opt/anaconda3/lib/python3.7/site-packages (2.22.0)\n",
      "Requirement already satisfied: urllib3!=1.25.0,!=1.25.1,<1.26,>=1.21.1 in /opt/anaconda3/lib/python3.7/site-packages (from requests) (1.25.8)\n",
      "Requirement already satisfied: idna<2.9,>=2.5 in /opt/anaconda3/lib/python3.7/site-packages (from requests) (2.8)\n",
      "Requirement already satisfied: certifi>=2017.4.17 in /opt/anaconda3/lib/python3.7/site-packages (from requests) (2019.11.28)\n",
      "Requirement already satisfied: chardet<3.1.0,>=3.0.2 in /opt/anaconda3/lib/python3.7/site-packages (from requests) (3.0.4)\n",
      "Requirement already satisfied: html5lib in /opt/anaconda3/lib/python3.7/site-packages (1.0.1)\n",
      "Requirement already satisfied: six>=1.9 in /opt/anaconda3/lib/python3.7/site-packages (from html5lib) (1.14.0)\n",
      "Requirement already satisfied: webencodings in /opt/anaconda3/lib/python3.7/site-packages (from html5lib) (0.5.1)\n"
     ]
    }
   ],
   "source": [
    "!pip3 install bs4\n",
    "!pip3 install requests\n",
    "!pip3 install html5lib"
   ]
  },
  {
   "source": [
    "### Import Dependencies\n",
    " We import Beautifulsoup dependency for web scraping of wikipedia page, requests for making http calls, html5lib a type of beautifulsoup parser for html files and pandas for working with extracted data in the form of a dataframe\n",
    " "
   ],
   "cell_type": "markdown",
   "metadata": {}
  },
  {
   "cell_type": "code",
   "execution_count": 2,
   "metadata": {},
   "outputs": [],
   "source": [
    "from bs4 import BeautifulSoup\n",
    "import requests\n",
    "import html5lib\n",
    "import pandas as pd"
   ]
  },
  {
   "source": [
    "## Data Collection - Scrape Files"
   ],
   "cell_type": "markdown",
   "metadata": {}
  },
  {
   "cell_type": "code",
   "execution_count": 3,
   "metadata": {
    "tags": []
   },
   "outputs": [],
   "source": [
    "scraping_url = \"https://en.wikipedia.org/wiki/List_of_postal_codes_of_Canada:_M\"\n",
    "html_file = requests.get(scraping_url).text\t\n",
    "soup = BeautifulSoup(html_file, \"html5lib\")\n",
    "pd.set_option(\"display.max_columns\", None)\n"
   ]
  },
  {
   "source": [
    "## Data Preprocessing - Convert Files into DataFrame\n",
    "\n",
    "The scraped html files will be conerted using pandas into a dataframe consisting on three columns postal code , borough and neighborhood"
   ],
   "cell_type": "markdown",
   "metadata": {}
  },
  {
   "cell_type": "code",
   "execution_count": 4,
   "metadata": {},
   "outputs": [],
   "source": [
    "# Create a list of neighborhoods\n",
    "neighborhoods = []\n",
    "for row in soup.find(\"table\").findAll(\"td\"):\n",
    "    data = {}\n",
    "    if row.span.text == \"Not assigned\":\n",
    "        pass\n",
    "    else:\n",
    "        data[\"PostalCode\"] = row.p.text[:3]\n",
    "        data[\"Borough\"] = row.span.text.split(\"(\")[0]\n",
    "        data[\"Neighborhood\"] = (((row.span.text.split(\"(\")[1]).strip(\")\")).replace(\"/\",\",\").replace(')',' ')).strip(' ')\n",
    "        neighborhoods.append(data)\n",
    "\n",
    "# create dataframe\n",
    "df = pd.DataFrame(neighborhoods)\n",
    "\n",
    "# replace outlying formats for boroughs\n",
    "df['Borough']=df['Borough'].replace({\n",
    "    'Downtown TorontoStn A PO Boxes25 The Esplanade':'Downtown Toronto Stn A',\n",
    "    'East TorontoBusiness reply mail Processing Centre969 Eastern':'East Toronto Business',\n",
    "    'EtobicokeNorthwest':'Etobicoke Northwest',\n",
    "    'East YorkEast Toronto':'East York/East Toronto',\n",
    "    'MississaugaCanada Post Gateway Processing Centre':'Mississauga'})\n",
    "\n",
    "# replace not assigned neighborhoods                                           \n",
    "not_assigned_neighborhoods = df[df[\"Neighborhood\"]== \"Not assigned\"]\n",
    "not_assigned_neighborhoods[\"Neighborhood\"] = not_assigned_neighborhoods[\"Borough\"]\n",
    "df.sort_values([\"PostalCode\"],ascending=True, inplace=True)\n",
    "df.reset_index(drop=True,inplace=True)\n",
    "    "
   ]
  },
  {
   "cell_type": "code",
   "execution_count": 5,
   "metadata": {},
   "outputs": [
    {
     "output_type": "stream",
     "name": "stdout",
     "text": [
      "(103, 3)\n"
     ]
    }
   ],
   "source": [
    "df.head(10)\n",
    "print(df.shape)"
   ]
  },
  {
   "source": [
    "### Get the Latitude and Longitude based on Postal Codes"
   ],
   "cell_type": "markdown",
   "metadata": {}
  },
  {
   "cell_type": "code",
   "execution_count": 6,
   "metadata": {},
   "outputs": [
    {
     "output_type": "execute_result",
     "data": {
      "text/plain": [
       "  Postal Code   Latitude  Longitude\n",
       "0         M1B  43.806686 -79.194353\n",
       "1         M1C  43.784535 -79.160497\n",
       "2         M1E  43.763573 -79.188711\n",
       "3         M1G  43.770992 -79.216917\n",
       "4         M1H  43.773136 -79.239476"
      ],
      "text/html": "<div>\n<style scoped>\n    .dataframe tbody tr th:only-of-type {\n        vertical-align: middle;\n    }\n\n    .dataframe tbody tr th {\n        vertical-align: top;\n    }\n\n    .dataframe thead th {\n        text-align: right;\n    }\n</style>\n<table border=\"1\" class=\"dataframe\">\n  <thead>\n    <tr style=\"text-align: right;\">\n      <th></th>\n      <th>Postal Code</th>\n      <th>Latitude</th>\n      <th>Longitude</th>\n    </tr>\n  </thead>\n  <tbody>\n    <tr>\n      <th>0</th>\n      <td>M1B</td>\n      <td>43.806686</td>\n      <td>-79.194353</td>\n    </tr>\n    <tr>\n      <th>1</th>\n      <td>M1C</td>\n      <td>43.784535</td>\n      <td>-79.160497</td>\n    </tr>\n    <tr>\n      <th>2</th>\n      <td>M1E</td>\n      <td>43.763573</td>\n      <td>-79.188711</td>\n    </tr>\n    <tr>\n      <th>3</th>\n      <td>M1G</td>\n      <td>43.770992</td>\n      <td>-79.216917</td>\n    </tr>\n    <tr>\n      <th>4</th>\n      <td>M1H</td>\n      <td>43.773136</td>\n      <td>-79.239476</td>\n    </tr>\n  </tbody>\n</table>\n</div>"
     },
     "metadata": {},
     "execution_count": 6
    }
   ],
   "source": [
    "gc_df = pd.read_csv(\"Geospatial_Coordinates.csv\")\n",
    "gc_df.head()"
   ]
  },
  {
   "cell_type": "code",
   "execution_count": 7,
   "metadata": {},
   "outputs": [
    {
     "output_type": "execute_result",
     "data": {
      "text/plain": [
       "  PostalCode      Borough                              Neighborhood  \\\n",
       "0        M1B  Scarborough                           Malvern , Rouge   \n",
       "1        M1C  Scarborough  Rouge Hill , Port Union , Highland Creek   \n",
       "2        M1E  Scarborough       Guildwood , Morningside , West Hill   \n",
       "3        M1G  Scarborough                                    Woburn   \n",
       "4        M1H  Scarborough                                 Cedarbrae   \n",
       "\n",
       "    Latitude  Longitude  \n",
       "0  43.806686 -79.194353  \n",
       "1  43.784535 -79.160497  \n",
       "2  43.763573 -79.188711  \n",
       "3  43.770992 -79.216917  \n",
       "4  43.773136 -79.239476  "
      ],
      "text/html": "<div>\n<style scoped>\n    .dataframe tbody tr th:only-of-type {\n        vertical-align: middle;\n    }\n\n    .dataframe tbody tr th {\n        vertical-align: top;\n    }\n\n    .dataframe thead th {\n        text-align: right;\n    }\n</style>\n<table border=\"1\" class=\"dataframe\">\n  <thead>\n    <tr style=\"text-align: right;\">\n      <th></th>\n      <th>PostalCode</th>\n      <th>Borough</th>\n      <th>Neighborhood</th>\n      <th>Latitude</th>\n      <th>Longitude</th>\n    </tr>\n  </thead>\n  <tbody>\n    <tr>\n      <th>0</th>\n      <td>M1B</td>\n      <td>Scarborough</td>\n      <td>Malvern , Rouge</td>\n      <td>43.806686</td>\n      <td>-79.194353</td>\n    </tr>\n    <tr>\n      <th>1</th>\n      <td>M1C</td>\n      <td>Scarborough</td>\n      <td>Rouge Hill , Port Union , Highland Creek</td>\n      <td>43.784535</td>\n      <td>-79.160497</td>\n    </tr>\n    <tr>\n      <th>2</th>\n      <td>M1E</td>\n      <td>Scarborough</td>\n      <td>Guildwood , Morningside , West Hill</td>\n      <td>43.763573</td>\n      <td>-79.188711</td>\n    </tr>\n    <tr>\n      <th>3</th>\n      <td>M1G</td>\n      <td>Scarborough</td>\n      <td>Woburn</td>\n      <td>43.770992</td>\n      <td>-79.216917</td>\n    </tr>\n    <tr>\n      <th>4</th>\n      <td>M1H</td>\n      <td>Scarborough</td>\n      <td>Cedarbrae</td>\n      <td>43.773136</td>\n      <td>-79.239476</td>\n    </tr>\n  </tbody>\n</table>\n</div>"
     },
     "metadata": {},
     "execution_count": 7
    }
   ],
   "source": [
    "df[\"Latitude\"] = gc_df[df[\"PostalCode\"] == gc_df[\"Postal Code\"]][\"Latitude\"]\n",
    "df[\"Longitude\"] = gc_df[df[\"PostalCode\"] == gc_df[\"Postal Code\"]][\"Longitude\"]\n",
    "df.head(5)"
   ]
  },
  {
   "source": [
    "## Exploring Neighborhoods\n",
    "  \n",
    "  We want to explore the borough that has the large number of neighborhoods to find out similiarities amongst it neighbourhood "
   ],
   "cell_type": "markdown",
   "metadata": {}
  },
  {
   "source": [
    "Get the Borough with the maximum number of postal codes placement"
   ],
   "cell_type": "markdown",
   "metadata": {}
  },
  {
   "cell_type": "code",
   "execution_count": 8,
   "metadata": {},
   "outputs": [
    {
     "output_type": "execute_result",
     "data": {
      "text/plain": [
       "      Borough  PostalCode  Neighborhood  Latitude  Longitude\n",
       "0  North York          24            24        24         24"
      ],
      "text/html": "<div>\n<style scoped>\n    .dataframe tbody tr th:only-of-type {\n        vertical-align: middle;\n    }\n\n    .dataframe tbody tr th {\n        vertical-align: top;\n    }\n\n    .dataframe thead th {\n        text-align: right;\n    }\n</style>\n<table border=\"1\" class=\"dataframe\">\n  <thead>\n    <tr style=\"text-align: right;\">\n      <th></th>\n      <th>Borough</th>\n      <th>PostalCode</th>\n      <th>Neighborhood</th>\n      <th>Latitude</th>\n      <th>Longitude</th>\n    </tr>\n  </thead>\n  <tbody>\n    <tr>\n      <th>0</th>\n      <td>North York</td>\n      <td>24</td>\n      <td>24</td>\n      <td>24</td>\n      <td>24</td>\n    </tr>\n  </tbody>\n</table>\n</div>"
     },
     "metadata": {},
     "execution_count": 8
    }
   ],
   "source": [
    "grouped_neighbourhood = df.groupby([\"Borough\"], axis=0).count()\n",
    "grouped_neighbourhood.sort_values([\"PostalCode\"], ascending=False, inplace=True)\n",
    "grouped_neighbourhood.reset_index(inplace=True)\n",
    "grouped_neighbourhood.head(1)"
   ]
  },
  {
   "source": [
    "### Get the Borough with the maximum number of neighborhoods"
   ],
   "cell_type": "markdown",
   "metadata": {}
  },
  {
   "cell_type": "code",
   "execution_count": 9,
   "metadata": {},
   "outputs": [
    {
     "output_type": "execute_result",
     "data": {
      "text/plain": [
       "     Borough  Neighborhood Count\n",
       "0  Etobicoke                  44"
      ],
      "text/html": "<div>\n<style scoped>\n    .dataframe tbody tr th:only-of-type {\n        vertical-align: middle;\n    }\n\n    .dataframe tbody tr th {\n        vertical-align: top;\n    }\n\n    .dataframe thead th {\n        text-align: right;\n    }\n</style>\n<table border=\"1\" class=\"dataframe\">\n  <thead>\n    <tr style=\"text-align: right;\">\n      <th></th>\n      <th>Borough</th>\n      <th>Neighborhood Count</th>\n    </tr>\n  </thead>\n  <tbody>\n    <tr>\n      <th>0</th>\n      <td>Etobicoke</td>\n      <td>44</td>\n    </tr>\n  </tbody>\n</table>\n</div>"
     },
     "metadata": {},
     "execution_count": 9
    }
   ],
   "source": [
    "\n",
    "# for each row get the number of neighbourhood in it\n",
    "# first create a new data frame\n",
    "new_neighborhoods = []\n",
    "for index, row in df.iterrows():\n",
    "    data = {}\n",
    "    data[\"Borough\"] = row[\"Borough\"]\n",
    "    data[\"Neighborhood Count\"] = row[\"Neighborhood\"].count(\",\") + 1\n",
    "    new_neighborhoods.append(data)\n",
    "neighborhoods_count = pd.DataFrame(new_neighborhoods)\n",
    "grouped_neighbourhood = neighborhoods_count.groupby([\"Borough\"], axis=0).sum()\n",
    "grouped_neighbourhood.sort_values([\"Neighborhood Count\"], ascending=False, inplace=True)\n",
    "grouped_neighbourhood.reset_index(inplace=True)\n",
    "grouped_neighbourhood.head(1)"
   ]
  },
  {
   "source": [
    "The results shows that while North York has the highest number of postal codes placements in the city of Toronto, Etobicoke has the highest numbr of neighborhoods. However because each postal code is attached to just a set of longitude and latitude, we will be using North York that has more postal codes instead of Etobicoke"
   ],
   "cell_type": "markdown",
   "metadata": {}
  },
  {
   "source": [
    "### Exploring North York Neighborhoods"
   ],
   "cell_type": "markdown",
   "metadata": {}
  },
  {
   "source": [
    "We install and import the neccessary packages for our exploration"
   ],
   "cell_type": "markdown",
   "metadata": {}
  },
  {
   "cell_type": "code",
   "execution_count": 10,
   "metadata": {},
   "outputs": [
    {
     "output_type": "execute_result",
     "data": {
      "text/plain": [
       "  PostalCode     Borough                    Neighborhood   Latitude  Longitude\n",
       "0        M2H  North York               Hillcrest Village  43.803762 -79.363452\n",
       "1        M2J  North York  Fairview , Henry Farm , Oriole  43.778517 -79.346556\n",
       "2        M2K  North York                 Bayview Village  43.786947 -79.385975\n",
       "3        M2L  North York       York Mills , Silver Hills  43.757490 -79.374714\n",
       "4        M2M  North York        Willowdale , Newtonbrook  43.789053 -79.408493"
      ],
      "text/html": "<div>\n<style scoped>\n    .dataframe tbody tr th:only-of-type {\n        vertical-align: middle;\n    }\n\n    .dataframe tbody tr th {\n        vertical-align: top;\n    }\n\n    .dataframe thead th {\n        text-align: right;\n    }\n</style>\n<table border=\"1\" class=\"dataframe\">\n  <thead>\n    <tr style=\"text-align: right;\">\n      <th></th>\n      <th>PostalCode</th>\n      <th>Borough</th>\n      <th>Neighborhood</th>\n      <th>Latitude</th>\n      <th>Longitude</th>\n    </tr>\n  </thead>\n  <tbody>\n    <tr>\n      <th>0</th>\n      <td>M2H</td>\n      <td>North York</td>\n      <td>Hillcrest Village</td>\n      <td>43.803762</td>\n      <td>-79.363452</td>\n    </tr>\n    <tr>\n      <th>1</th>\n      <td>M2J</td>\n      <td>North York</td>\n      <td>Fairview , Henry Farm , Oriole</td>\n      <td>43.778517</td>\n      <td>-79.346556</td>\n    </tr>\n    <tr>\n      <th>2</th>\n      <td>M2K</td>\n      <td>North York</td>\n      <td>Bayview Village</td>\n      <td>43.786947</td>\n      <td>-79.385975</td>\n    </tr>\n    <tr>\n      <th>3</th>\n      <td>M2L</td>\n      <td>North York</td>\n      <td>York Mills , Silver Hills</td>\n      <td>43.757490</td>\n      <td>-79.374714</td>\n    </tr>\n    <tr>\n      <th>4</th>\n      <td>M2M</td>\n      <td>North York</td>\n      <td>Willowdale , Newtonbrook</td>\n      <td>43.789053</td>\n      <td>-79.408493</td>\n    </tr>\n  </tbody>\n</table>\n</div>"
     },
     "metadata": {},
     "execution_count": 10
    }
   ],
   "source": [
    "north_york_data = df[df[\"Borough\"] == \"North York\"].reset_index(drop=True)\n",
    "north_york_data.head()"
   ]
  },
  {
   "cell_type": "code",
   "execution_count": 11,
   "metadata": {},
   "outputs": [],
   "source": [
    "from geopy.geocoders import Nominatim\n",
    "from sklearn.cluster import KMeans\n",
    "import json\n",
    "import matplotlib.colors as colors\n",
    "import matplotlib.cm as cm\n",
    "import folium"
   ]
  },
  {
   "cell_type": "code",
   "execution_count": 12,
   "metadata": {},
   "outputs": [
    {
     "output_type": "stream",
     "name": "stdout",
     "text": [
      "The geograpical coordinate of North York, Toronto are 43.7543263, -79.44911696639593.\n"
     ]
    }
   ],
   "source": [
    "geolocator = Nominatim(user_agent=\"ny_explorer\")\n",
    "location = geolocator.geocode(\"North York, Toronto\")\n",
    "latitude = location.latitude\n",
    "longitude = location.longitude\n",
    "print('The geograpical coordinate of North York, Toronto are {}, {}.'.format(latitude, longitude))"
   ]
  },
  {
   "source": [
    "### Map of North York with its neighbourhoods superimposed on it."
   ],
   "cell_type": "markdown",
   "metadata": {}
  },
  {
   "cell_type": "code",
   "execution_count": 13,
   "metadata": {},
   "outputs": [
    {
     "output_type": "execute_result",
     "data": {
      "text/plain": [
       "<folium.folium.Map at 0x1350b53d0>"
      ],
      "text/html": "<div style=\"width:100%;\"><div style=\"position:relative;width:100%;height:0;padding-bottom:60%;\"><span style=\"color:#565656\">Make this Notebook Trusted to load map: File -> Trust Notebook</span><iframe src=\"about:blank\" style=\"position:absolute;width:100%;height:100%;left:0;top:0;border:none !important;\" data-html=%3C%21DOCTYPE%20html%3E%0A%3Chead%3E%20%20%20%20%0A%20%20%20%20%3Cmeta%20http-equiv%3D%22content-type%22%20content%3D%22text/html%3B%20charset%3DUTF-8%22%20/%3E%0A%20%20%20%20%0A%20%20%20%20%20%20%20%20%3Cscript%3E%0A%20%20%20%20%20%20%20%20%20%20%20%20L_NO_TOUCH%20%3D%20false%3B%0A%20%20%20%20%20%20%20%20%20%20%20%20L_DISABLE_3D%20%3D%20false%3B%0A%20%20%20%20%20%20%20%20%3C/script%3E%0A%20%20%20%20%0A%20%20%20%20%3Cstyle%3Ehtml%2C%20body%20%7Bwidth%3A%20100%25%3Bheight%3A%20100%25%3Bmargin%3A%200%3Bpadding%3A%200%3B%7D%3C/style%3E%0A%20%20%20%20%3Cstyle%3E%23map%20%7Bposition%3Aabsolute%3Btop%3A0%3Bbottom%3A0%3Bright%3A0%3Bleft%3A0%3B%7D%3C/style%3E%0A%20%20%20%20%3Cscript%20src%3D%22https%3A//cdn.jsdelivr.net/npm/leaflet%401.6.0/dist/leaflet.js%22%3E%3C/script%3E%0A%20%20%20%20%3Cscript%20src%3D%22https%3A//code.jquery.com/jquery-1.12.4.min.js%22%3E%3C/script%3E%0A%20%20%20%20%3Cscript%20src%3D%22https%3A//maxcdn.bootstrapcdn.com/bootstrap/3.2.0/js/bootstrap.min.js%22%3E%3C/script%3E%0A%20%20%20%20%3Cscript%20src%3D%22https%3A//cdnjs.cloudflare.com/ajax/libs/Leaflet.awesome-markers/2.0.2/leaflet.awesome-markers.js%22%3E%3C/script%3E%0A%20%20%20%20%3Clink%20rel%3D%22stylesheet%22%20href%3D%22https%3A//cdn.jsdelivr.net/npm/leaflet%401.6.0/dist/leaflet.css%22/%3E%0A%20%20%20%20%3Clink%20rel%3D%22stylesheet%22%20href%3D%22https%3A//maxcdn.bootstrapcdn.com/bootstrap/3.2.0/css/bootstrap.min.css%22/%3E%0A%20%20%20%20%3Clink%20rel%3D%22stylesheet%22%20href%3D%22https%3A//maxcdn.bootstrapcdn.com/bootstrap/3.2.0/css/bootstrap-theme.min.css%22/%3E%0A%20%20%20%20%3Clink%20rel%3D%22stylesheet%22%20href%3D%22https%3A//maxcdn.bootstrapcdn.com/font-awesome/4.6.3/css/font-awesome.min.css%22/%3E%0A%20%20%20%20%3Clink%20rel%3D%22stylesheet%22%20href%3D%22https%3A//cdnjs.cloudflare.com/ajax/libs/Leaflet.awesome-markers/2.0.2/leaflet.awesome-markers.css%22/%3E%0A%20%20%20%20%3Clink%20rel%3D%22stylesheet%22%20href%3D%22https%3A//cdn.jsdelivr.net/gh/python-visualization/folium/folium/templates/leaflet.awesome.rotate.min.css%22/%3E%0A%20%20%20%20%0A%20%20%20%20%20%20%20%20%20%20%20%20%3Cmeta%20name%3D%22viewport%22%20content%3D%22width%3Ddevice-width%2C%0A%20%20%20%20%20%20%20%20%20%20%20%20%20%20%20%20initial-scale%3D1.0%2C%20maximum-scale%3D1.0%2C%20user-scalable%3Dno%22%20/%3E%0A%20%20%20%20%20%20%20%20%20%20%20%20%3Cstyle%3E%0A%20%20%20%20%20%20%20%20%20%20%20%20%20%20%20%20%23map_50e7d571e83c459d934f0da72fb5fc3f%20%7B%0A%20%20%20%20%20%20%20%20%20%20%20%20%20%20%20%20%20%20%20%20position%3A%20relative%3B%0A%20%20%20%20%20%20%20%20%20%20%20%20%20%20%20%20%20%20%20%20width%3A%20100.0%25%3B%0A%20%20%20%20%20%20%20%20%20%20%20%20%20%20%20%20%20%20%20%20height%3A%20100.0%25%3B%0A%20%20%20%20%20%20%20%20%20%20%20%20%20%20%20%20%20%20%20%20left%3A%200.0%25%3B%0A%20%20%20%20%20%20%20%20%20%20%20%20%20%20%20%20%20%20%20%20top%3A%200.0%25%3B%0A%20%20%20%20%20%20%20%20%20%20%20%20%20%20%20%20%7D%0A%20%20%20%20%20%20%20%20%20%20%20%20%3C/style%3E%0A%20%20%20%20%20%20%20%20%0A%3C/head%3E%0A%3Cbody%3E%20%20%20%20%0A%20%20%20%20%0A%20%20%20%20%20%20%20%20%20%20%20%20%3Cdiv%20class%3D%22folium-map%22%20id%3D%22map_50e7d571e83c459d934f0da72fb5fc3f%22%20%3E%3C/div%3E%0A%20%20%20%20%20%20%20%20%0A%3C/body%3E%0A%3Cscript%3E%20%20%20%20%0A%20%20%20%20%0A%20%20%20%20%20%20%20%20%20%20%20%20var%20map_50e7d571e83c459d934f0da72fb5fc3f%20%3D%20L.map%28%0A%20%20%20%20%20%20%20%20%20%20%20%20%20%20%20%20%22map_50e7d571e83c459d934f0da72fb5fc3f%22%2C%0A%20%20%20%20%20%20%20%20%20%20%20%20%20%20%20%20%7B%0A%20%20%20%20%20%20%20%20%20%20%20%20%20%20%20%20%20%20%20%20center%3A%20%5B43.7543263%2C%20-79.44911696639593%5D%2C%0A%20%20%20%20%20%20%20%20%20%20%20%20%20%20%20%20%20%20%20%20crs%3A%20L.CRS.EPSG3857%2C%0A%20%20%20%20%20%20%20%20%20%20%20%20%20%20%20%20%20%20%20%20zoom%3A%2010%2C%0A%20%20%20%20%20%20%20%20%20%20%20%20%20%20%20%20%20%20%20%20zoomControl%3A%20true%2C%0A%20%20%20%20%20%20%20%20%20%20%20%20%20%20%20%20%20%20%20%20preferCanvas%3A%20false%2C%0A%20%20%20%20%20%20%20%20%20%20%20%20%20%20%20%20%7D%0A%20%20%20%20%20%20%20%20%20%20%20%20%29%3B%0A%0A%20%20%20%20%20%20%20%20%20%20%20%20%0A%0A%20%20%20%20%20%20%20%20%0A%20%20%20%20%0A%20%20%20%20%20%20%20%20%20%20%20%20var%20tile_layer_bd386769f8eb4e2cb4c60eda9534d7af%20%3D%20L.tileLayer%28%0A%20%20%20%20%20%20%20%20%20%20%20%20%20%20%20%20%22https%3A//%7Bs%7D.tile.openstreetmap.org/%7Bz%7D/%7Bx%7D/%7By%7D.png%22%2C%0A%20%20%20%20%20%20%20%20%20%20%20%20%20%20%20%20%7B%22attribution%22%3A%20%22Data%20by%20%5Cu0026copy%3B%20%5Cu003ca%20href%3D%5C%22http%3A//openstreetmap.org%5C%22%5Cu003eOpenStreetMap%5Cu003c/a%5Cu003e%2C%20under%20%5Cu003ca%20href%3D%5C%22http%3A//www.openstreetmap.org/copyright%5C%22%5Cu003eODbL%5Cu003c/a%5Cu003e.%22%2C%20%22detectRetina%22%3A%20false%2C%20%22maxNativeZoom%22%3A%2018%2C%20%22maxZoom%22%3A%2018%2C%20%22minZoom%22%3A%200%2C%20%22noWrap%22%3A%20false%2C%20%22opacity%22%3A%201%2C%20%22subdomains%22%3A%20%22abc%22%2C%20%22tms%22%3A%20false%7D%0A%20%20%20%20%20%20%20%20%20%20%20%20%29.addTo%28map_50e7d571e83c459d934f0da72fb5fc3f%29%3B%0A%20%20%20%20%20%20%20%20%0A%20%20%20%20%0A%20%20%20%20%20%20%20%20%20%20%20%20var%20circle_marker_e5904114e94e404d91b77396af1f1cc2%20%3D%20L.circleMarker%28%0A%20%20%20%20%20%20%20%20%20%20%20%20%20%20%20%20%5B43.8037622%2C%20-79.3634517%5D%2C%0A%20%20%20%20%20%20%20%20%20%20%20%20%20%20%20%20%7B%22bubblingMouseEvents%22%3A%20true%2C%20%22color%22%3A%20%22blue%22%2C%20%22dashArray%22%3A%20null%2C%20%22dashOffset%22%3A%20null%2C%20%22fill%22%3A%20true%2C%20%22fillColor%22%3A%20%22%233186cc%22%2C%20%22fillOpacity%22%3A%200.7%2C%20%22fillRule%22%3A%20%22evenodd%22%2C%20%22lineCap%22%3A%20%22round%22%2C%20%22lineJoin%22%3A%20%22round%22%2C%20%22opacity%22%3A%201.0%2C%20%22radius%22%3A%205%2C%20%22stroke%22%3A%20true%2C%20%22weight%22%3A%203%7D%0A%20%20%20%20%20%20%20%20%20%20%20%20%29.addTo%28map_50e7d571e83c459d934f0da72fb5fc3f%29%3B%0A%20%20%20%20%20%20%20%20%0A%20%20%20%20%0A%20%20%20%20%20%20%20%20var%20popup_a4d08d93dce24bfcbc4d7b451451f152%20%3D%20L.popup%28%7B%22maxWidth%22%3A%20%22100%25%22%7D%29%3B%0A%0A%20%20%20%20%20%20%20%20%0A%20%20%20%20%20%20%20%20%20%20%20%20var%20html_7142be46be3f46c7b9f8b48de2c278a2%20%3D%20%24%28%60%3Cdiv%20id%3D%22html_7142be46be3f46c7b9f8b48de2c278a2%22%20style%3D%22width%3A%20100.0%25%3B%20height%3A%20100.0%25%3B%22%3EHillcrest%20Village%3C/div%3E%60%29%5B0%5D%3B%0A%20%20%20%20%20%20%20%20%20%20%20%20popup_a4d08d93dce24bfcbc4d7b451451f152.setContent%28html_7142be46be3f46c7b9f8b48de2c278a2%29%3B%0A%20%20%20%20%20%20%20%20%0A%0A%20%20%20%20%20%20%20%20circle_marker_e5904114e94e404d91b77396af1f1cc2.bindPopup%28popup_a4d08d93dce24bfcbc4d7b451451f152%29%0A%20%20%20%20%20%20%20%20%3B%0A%0A%20%20%20%20%20%20%20%20%0A%20%20%20%20%0A%20%20%20%20%0A%20%20%20%20%20%20%20%20%20%20%20%20var%20circle_marker_b7355d21734941819ce8b6593e72a42e%20%3D%20L.circleMarker%28%0A%20%20%20%20%20%20%20%20%20%20%20%20%20%20%20%20%5B43.7785175%2C%20-79.3465557%5D%2C%0A%20%20%20%20%20%20%20%20%20%20%20%20%20%20%20%20%7B%22bubblingMouseEvents%22%3A%20true%2C%20%22color%22%3A%20%22blue%22%2C%20%22dashArray%22%3A%20null%2C%20%22dashOffset%22%3A%20null%2C%20%22fill%22%3A%20true%2C%20%22fillColor%22%3A%20%22%233186cc%22%2C%20%22fillOpacity%22%3A%200.7%2C%20%22fillRule%22%3A%20%22evenodd%22%2C%20%22lineCap%22%3A%20%22round%22%2C%20%22lineJoin%22%3A%20%22round%22%2C%20%22opacity%22%3A%201.0%2C%20%22radius%22%3A%205%2C%20%22stroke%22%3A%20true%2C%20%22weight%22%3A%203%7D%0A%20%20%20%20%20%20%20%20%20%20%20%20%29.addTo%28map_50e7d571e83c459d934f0da72fb5fc3f%29%3B%0A%20%20%20%20%20%20%20%20%0A%20%20%20%20%0A%20%20%20%20%20%20%20%20var%20popup_5c404a365ce64a4caef212f9d85417e4%20%3D%20L.popup%28%7B%22maxWidth%22%3A%20%22100%25%22%7D%29%3B%0A%0A%20%20%20%20%20%20%20%20%0A%20%20%20%20%20%20%20%20%20%20%20%20var%20html_645d087861614411a6e0f0e5fc5ccb46%20%3D%20%24%28%60%3Cdiv%20id%3D%22html_645d087861614411a6e0f0e5fc5ccb46%22%20style%3D%22width%3A%20100.0%25%3B%20height%3A%20100.0%25%3B%22%3EFairview%20%2C%20Henry%20Farm%20%2C%20Oriole%3C/div%3E%60%29%5B0%5D%3B%0A%20%20%20%20%20%20%20%20%20%20%20%20popup_5c404a365ce64a4caef212f9d85417e4.setContent%28html_645d087861614411a6e0f0e5fc5ccb46%29%3B%0A%20%20%20%20%20%20%20%20%0A%0A%20%20%20%20%20%20%20%20circle_marker_b7355d21734941819ce8b6593e72a42e.bindPopup%28popup_5c404a365ce64a4caef212f9d85417e4%29%0A%20%20%20%20%20%20%20%20%3B%0A%0A%20%20%20%20%20%20%20%20%0A%20%20%20%20%0A%20%20%20%20%0A%20%20%20%20%20%20%20%20%20%20%20%20var%20circle_marker_4618f19419f04b0b8897854131edfa9e%20%3D%20L.circleMarker%28%0A%20%20%20%20%20%20%20%20%20%20%20%20%20%20%20%20%5B43.7869473%2C%20-79.385975%5D%2C%0A%20%20%20%20%20%20%20%20%20%20%20%20%20%20%20%20%7B%22bubblingMouseEvents%22%3A%20true%2C%20%22color%22%3A%20%22blue%22%2C%20%22dashArray%22%3A%20null%2C%20%22dashOffset%22%3A%20null%2C%20%22fill%22%3A%20true%2C%20%22fillColor%22%3A%20%22%233186cc%22%2C%20%22fillOpacity%22%3A%200.7%2C%20%22fillRule%22%3A%20%22evenodd%22%2C%20%22lineCap%22%3A%20%22round%22%2C%20%22lineJoin%22%3A%20%22round%22%2C%20%22opacity%22%3A%201.0%2C%20%22radius%22%3A%205%2C%20%22stroke%22%3A%20true%2C%20%22weight%22%3A%203%7D%0A%20%20%20%20%20%20%20%20%20%20%20%20%29.addTo%28map_50e7d571e83c459d934f0da72fb5fc3f%29%3B%0A%20%20%20%20%20%20%20%20%0A%20%20%20%20%0A%20%20%20%20%20%20%20%20var%20popup_b3f3c4f208f94553881198ec6f784d84%20%3D%20L.popup%28%7B%22maxWidth%22%3A%20%22100%25%22%7D%29%3B%0A%0A%20%20%20%20%20%20%20%20%0A%20%20%20%20%20%20%20%20%20%20%20%20var%20html_e6d747deb20e488fa80d485b8287ec21%20%3D%20%24%28%60%3Cdiv%20id%3D%22html_e6d747deb20e488fa80d485b8287ec21%22%20style%3D%22width%3A%20100.0%25%3B%20height%3A%20100.0%25%3B%22%3EBayview%20Village%3C/div%3E%60%29%5B0%5D%3B%0A%20%20%20%20%20%20%20%20%20%20%20%20popup_b3f3c4f208f94553881198ec6f784d84.setContent%28html_e6d747deb20e488fa80d485b8287ec21%29%3B%0A%20%20%20%20%20%20%20%20%0A%0A%20%20%20%20%20%20%20%20circle_marker_4618f19419f04b0b8897854131edfa9e.bindPopup%28popup_b3f3c4f208f94553881198ec6f784d84%29%0A%20%20%20%20%20%20%20%20%3B%0A%0A%20%20%20%20%20%20%20%20%0A%20%20%20%20%0A%20%20%20%20%0A%20%20%20%20%20%20%20%20%20%20%20%20var%20circle_marker_0bb4f9358ce140409699ae283435aab5%20%3D%20L.circleMarker%28%0A%20%20%20%20%20%20%20%20%20%20%20%20%20%20%20%20%5B43.7574902%2C%20-79.3747141%5D%2C%0A%20%20%20%20%20%20%20%20%20%20%20%20%20%20%20%20%7B%22bubblingMouseEvents%22%3A%20true%2C%20%22color%22%3A%20%22blue%22%2C%20%22dashArray%22%3A%20null%2C%20%22dashOffset%22%3A%20null%2C%20%22fill%22%3A%20true%2C%20%22fillColor%22%3A%20%22%233186cc%22%2C%20%22fillOpacity%22%3A%200.7%2C%20%22fillRule%22%3A%20%22evenodd%22%2C%20%22lineCap%22%3A%20%22round%22%2C%20%22lineJoin%22%3A%20%22round%22%2C%20%22opacity%22%3A%201.0%2C%20%22radius%22%3A%205%2C%20%22stroke%22%3A%20true%2C%20%22weight%22%3A%203%7D%0A%20%20%20%20%20%20%20%20%20%20%20%20%29.addTo%28map_50e7d571e83c459d934f0da72fb5fc3f%29%3B%0A%20%20%20%20%20%20%20%20%0A%20%20%20%20%0A%20%20%20%20%20%20%20%20var%20popup_2f51958dd14342eeb4c0a39a69ce3258%20%3D%20L.popup%28%7B%22maxWidth%22%3A%20%22100%25%22%7D%29%3B%0A%0A%20%20%20%20%20%20%20%20%0A%20%20%20%20%20%20%20%20%20%20%20%20var%20html_3ffb68f318e748d0bdb567a7b62b97bb%20%3D%20%24%28%60%3Cdiv%20id%3D%22html_3ffb68f318e748d0bdb567a7b62b97bb%22%20style%3D%22width%3A%20100.0%25%3B%20height%3A%20100.0%25%3B%22%3EYork%20Mills%20%2C%20Silver%20Hills%3C/div%3E%60%29%5B0%5D%3B%0A%20%20%20%20%20%20%20%20%20%20%20%20popup_2f51958dd14342eeb4c0a39a69ce3258.setContent%28html_3ffb68f318e748d0bdb567a7b62b97bb%29%3B%0A%20%20%20%20%20%20%20%20%0A%0A%20%20%20%20%20%20%20%20circle_marker_0bb4f9358ce140409699ae283435aab5.bindPopup%28popup_2f51958dd14342eeb4c0a39a69ce3258%29%0A%20%20%20%20%20%20%20%20%3B%0A%0A%20%20%20%20%20%20%20%20%0A%20%20%20%20%0A%20%20%20%20%0A%20%20%20%20%20%20%20%20%20%20%20%20var%20circle_marker_ff0e4a3937b344cabd6142d9391d698f%20%3D%20L.circleMarker%28%0A%20%20%20%20%20%20%20%20%20%20%20%20%20%20%20%20%5B43.789053%2C%20-79.4084928%5D%2C%0A%20%20%20%20%20%20%20%20%20%20%20%20%20%20%20%20%7B%22bubblingMouseEvents%22%3A%20true%2C%20%22color%22%3A%20%22blue%22%2C%20%22dashArray%22%3A%20null%2C%20%22dashOffset%22%3A%20null%2C%20%22fill%22%3A%20true%2C%20%22fillColor%22%3A%20%22%233186cc%22%2C%20%22fillOpacity%22%3A%200.7%2C%20%22fillRule%22%3A%20%22evenodd%22%2C%20%22lineCap%22%3A%20%22round%22%2C%20%22lineJoin%22%3A%20%22round%22%2C%20%22opacity%22%3A%201.0%2C%20%22radius%22%3A%205%2C%20%22stroke%22%3A%20true%2C%20%22weight%22%3A%203%7D%0A%20%20%20%20%20%20%20%20%20%20%20%20%29.addTo%28map_50e7d571e83c459d934f0da72fb5fc3f%29%3B%0A%20%20%20%20%20%20%20%20%0A%20%20%20%20%0A%20%20%20%20%20%20%20%20var%20popup_20dd3ea890ad4c3f9980c165f34b87be%20%3D%20L.popup%28%7B%22maxWidth%22%3A%20%22100%25%22%7D%29%3B%0A%0A%20%20%20%20%20%20%20%20%0A%20%20%20%20%20%20%20%20%20%20%20%20var%20html_92756530b5ca4c13a910d40feceffba4%20%3D%20%24%28%60%3Cdiv%20id%3D%22html_92756530b5ca4c13a910d40feceffba4%22%20style%3D%22width%3A%20100.0%25%3B%20height%3A%20100.0%25%3B%22%3EWillowdale%20%2C%20Newtonbrook%3C/div%3E%60%29%5B0%5D%3B%0A%20%20%20%20%20%20%20%20%20%20%20%20popup_20dd3ea890ad4c3f9980c165f34b87be.setContent%28html_92756530b5ca4c13a910d40feceffba4%29%3B%0A%20%20%20%20%20%20%20%20%0A%0A%20%20%20%20%20%20%20%20circle_marker_ff0e4a3937b344cabd6142d9391d698f.bindPopup%28popup_20dd3ea890ad4c3f9980c165f34b87be%29%0A%20%20%20%20%20%20%20%20%3B%0A%0A%20%20%20%20%20%20%20%20%0A%20%20%20%20%0A%20%20%20%20%0A%20%20%20%20%20%20%20%20%20%20%20%20var%20circle_marker_1de3210d33404852a5294f37355c633a%20%3D%20L.circleMarker%28%0A%20%20%20%20%20%20%20%20%20%20%20%20%20%20%20%20%5B43.7701199%2C%20-79.4084928%5D%2C%0A%20%20%20%20%20%20%20%20%20%20%20%20%20%20%20%20%7B%22bubblingMouseEvents%22%3A%20true%2C%20%22color%22%3A%20%22blue%22%2C%20%22dashArray%22%3A%20null%2C%20%22dashOffset%22%3A%20null%2C%20%22fill%22%3A%20true%2C%20%22fillColor%22%3A%20%22%233186cc%22%2C%20%22fillOpacity%22%3A%200.7%2C%20%22fillRule%22%3A%20%22evenodd%22%2C%20%22lineCap%22%3A%20%22round%22%2C%20%22lineJoin%22%3A%20%22round%22%2C%20%22opacity%22%3A%201.0%2C%20%22radius%22%3A%205%2C%20%22stroke%22%3A%20true%2C%20%22weight%22%3A%203%7D%0A%20%20%20%20%20%20%20%20%20%20%20%20%29.addTo%28map_50e7d571e83c459d934f0da72fb5fc3f%29%3B%0A%20%20%20%20%20%20%20%20%0A%20%20%20%20%0A%20%20%20%20%20%20%20%20var%20popup_51c83abeda094af5b11a4083621ba6bf%20%3D%20L.popup%28%7B%22maxWidth%22%3A%20%22100%25%22%7D%29%3B%0A%0A%20%20%20%20%20%20%20%20%0A%20%20%20%20%20%20%20%20%20%20%20%20var%20html_2d2f40e6869d41558bd6dc08e912fe79%20%3D%20%24%28%60%3Cdiv%20id%3D%22html_2d2f40e6869d41558bd6dc08e912fe79%22%20style%3D%22width%3A%20100.0%25%3B%20height%3A%20100.0%25%3B%22%3EWillowdale%20South%3C/div%3E%60%29%5B0%5D%3B%0A%20%20%20%20%20%20%20%20%20%20%20%20popup_51c83abeda094af5b11a4083621ba6bf.setContent%28html_2d2f40e6869d41558bd6dc08e912fe79%29%3B%0A%20%20%20%20%20%20%20%20%0A%0A%20%20%20%20%20%20%20%20circle_marker_1de3210d33404852a5294f37355c633a.bindPopup%28popup_51c83abeda094af5b11a4083621ba6bf%29%0A%20%20%20%20%20%20%20%20%3B%0A%0A%20%20%20%20%20%20%20%20%0A%20%20%20%20%0A%20%20%20%20%0A%20%20%20%20%20%20%20%20%20%20%20%20var%20circle_marker_b43823dff9b348548a838991c3385fe2%20%3D%20L.circleMarker%28%0A%20%20%20%20%20%20%20%20%20%20%20%20%20%20%20%20%5B43.7527583%2C%20-79.4000493%5D%2C%0A%20%20%20%20%20%20%20%20%20%20%20%20%20%20%20%20%7B%22bubblingMouseEvents%22%3A%20true%2C%20%22color%22%3A%20%22blue%22%2C%20%22dashArray%22%3A%20null%2C%20%22dashOffset%22%3A%20null%2C%20%22fill%22%3A%20true%2C%20%22fillColor%22%3A%20%22%233186cc%22%2C%20%22fillOpacity%22%3A%200.7%2C%20%22fillRule%22%3A%20%22evenodd%22%2C%20%22lineCap%22%3A%20%22round%22%2C%20%22lineJoin%22%3A%20%22round%22%2C%20%22opacity%22%3A%201.0%2C%20%22radius%22%3A%205%2C%20%22stroke%22%3A%20true%2C%20%22weight%22%3A%203%7D%0A%20%20%20%20%20%20%20%20%20%20%20%20%29.addTo%28map_50e7d571e83c459d934f0da72fb5fc3f%29%3B%0A%20%20%20%20%20%20%20%20%0A%20%20%20%20%0A%20%20%20%20%20%20%20%20var%20popup_803711ddecf649ed8150f566b4878c0a%20%3D%20L.popup%28%7B%22maxWidth%22%3A%20%22100%25%22%7D%29%3B%0A%0A%20%20%20%20%20%20%20%20%0A%20%20%20%20%20%20%20%20%20%20%20%20var%20html_aac6702259be46d68b51f4bdb45ce1a6%20%3D%20%24%28%60%3Cdiv%20id%3D%22html_aac6702259be46d68b51f4bdb45ce1a6%22%20style%3D%22width%3A%20100.0%25%3B%20height%3A%20100.0%25%3B%22%3EYork%20Mills%20West%3C/div%3E%60%29%5B0%5D%3B%0A%20%20%20%20%20%20%20%20%20%20%20%20popup_803711ddecf649ed8150f566b4878c0a.setContent%28html_aac6702259be46d68b51f4bdb45ce1a6%29%3B%0A%20%20%20%20%20%20%20%20%0A%0A%20%20%20%20%20%20%20%20circle_marker_b43823dff9b348548a838991c3385fe2.bindPopup%28popup_803711ddecf649ed8150f566b4878c0a%29%0A%20%20%20%20%20%20%20%20%3B%0A%0A%20%20%20%20%20%20%20%20%0A%20%20%20%20%0A%20%20%20%20%0A%20%20%20%20%20%20%20%20%20%20%20%20var%20circle_marker_984dd57a0579480a94f5ec9056273d63%20%3D%20L.circleMarker%28%0A%20%20%20%20%20%20%20%20%20%20%20%20%20%20%20%20%5B43.7827364%2C%20-79.4422593%5D%2C%0A%20%20%20%20%20%20%20%20%20%20%20%20%20%20%20%20%7B%22bubblingMouseEvents%22%3A%20true%2C%20%22color%22%3A%20%22blue%22%2C%20%22dashArray%22%3A%20null%2C%20%22dashOffset%22%3A%20null%2C%20%22fill%22%3A%20true%2C%20%22fillColor%22%3A%20%22%233186cc%22%2C%20%22fillOpacity%22%3A%200.7%2C%20%22fillRule%22%3A%20%22evenodd%22%2C%20%22lineCap%22%3A%20%22round%22%2C%20%22lineJoin%22%3A%20%22round%22%2C%20%22opacity%22%3A%201.0%2C%20%22radius%22%3A%205%2C%20%22stroke%22%3A%20true%2C%20%22weight%22%3A%203%7D%0A%20%20%20%20%20%20%20%20%20%20%20%20%29.addTo%28map_50e7d571e83c459d934f0da72fb5fc3f%29%3B%0A%20%20%20%20%20%20%20%20%0A%20%20%20%20%0A%20%20%20%20%20%20%20%20var%20popup_2ceb4fde013244ddbfd3f03c5420e150%20%3D%20L.popup%28%7B%22maxWidth%22%3A%20%22100%25%22%7D%29%3B%0A%0A%20%20%20%20%20%20%20%20%0A%20%20%20%20%20%20%20%20%20%20%20%20var%20html_af87171b32034baab3cdd2b5077646fa%20%3D%20%24%28%60%3Cdiv%20id%3D%22html_af87171b32034baab3cdd2b5077646fa%22%20style%3D%22width%3A%20100.0%25%3B%20height%3A%20100.0%25%3B%22%3EWillowdale%20West%3C/div%3E%60%29%5B0%5D%3B%0A%20%20%20%20%20%20%20%20%20%20%20%20popup_2ceb4fde013244ddbfd3f03c5420e150.setContent%28html_af87171b32034baab3cdd2b5077646fa%29%3B%0A%20%20%20%20%20%20%20%20%0A%0A%20%20%20%20%20%20%20%20circle_marker_984dd57a0579480a94f5ec9056273d63.bindPopup%28popup_2ceb4fde013244ddbfd3f03c5420e150%29%0A%20%20%20%20%20%20%20%20%3B%0A%0A%20%20%20%20%20%20%20%20%0A%20%20%20%20%0A%20%20%20%20%0A%20%20%20%20%20%20%20%20%20%20%20%20var%20circle_marker_913504303de94d4ba87862e26680003c%20%3D%20L.circleMarker%28%0A%20%20%20%20%20%20%20%20%20%20%20%20%20%20%20%20%5B43.7532586%2C%20-79.3296565%5D%2C%0A%20%20%20%20%20%20%20%20%20%20%20%20%20%20%20%20%7B%22bubblingMouseEvents%22%3A%20true%2C%20%22color%22%3A%20%22blue%22%2C%20%22dashArray%22%3A%20null%2C%20%22dashOffset%22%3A%20null%2C%20%22fill%22%3A%20true%2C%20%22fillColor%22%3A%20%22%233186cc%22%2C%20%22fillOpacity%22%3A%200.7%2C%20%22fillRule%22%3A%20%22evenodd%22%2C%20%22lineCap%22%3A%20%22round%22%2C%20%22lineJoin%22%3A%20%22round%22%2C%20%22opacity%22%3A%201.0%2C%20%22radius%22%3A%205%2C%20%22stroke%22%3A%20true%2C%20%22weight%22%3A%203%7D%0A%20%20%20%20%20%20%20%20%20%20%20%20%29.addTo%28map_50e7d571e83c459d934f0da72fb5fc3f%29%3B%0A%20%20%20%20%20%20%20%20%0A%20%20%20%20%0A%20%20%20%20%20%20%20%20var%20popup_997d184f59a44f1f859d78c5d80e8545%20%3D%20L.popup%28%7B%22maxWidth%22%3A%20%22100%25%22%7D%29%3B%0A%0A%20%20%20%20%20%20%20%20%0A%20%20%20%20%20%20%20%20%20%20%20%20var%20html_b7b878681957420e8a752626c6966887%20%3D%20%24%28%60%3Cdiv%20id%3D%22html_b7b878681957420e8a752626c6966887%22%20style%3D%22width%3A%20100.0%25%3B%20height%3A%20100.0%25%3B%22%3EParkwoods%3C/div%3E%60%29%5B0%5D%3B%0A%20%20%20%20%20%20%20%20%20%20%20%20popup_997d184f59a44f1f859d78c5d80e8545.setContent%28html_b7b878681957420e8a752626c6966887%29%3B%0A%20%20%20%20%20%20%20%20%0A%0A%20%20%20%20%20%20%20%20circle_marker_913504303de94d4ba87862e26680003c.bindPopup%28popup_997d184f59a44f1f859d78c5d80e8545%29%0A%20%20%20%20%20%20%20%20%3B%0A%0A%20%20%20%20%20%20%20%20%0A%20%20%20%20%0A%20%20%20%20%0A%20%20%20%20%20%20%20%20%20%20%20%20var%20circle_marker_545f7df3b70e429db505c7891a80f119%20%3D%20L.circleMarker%28%0A%20%20%20%20%20%20%20%20%20%20%20%20%20%20%20%20%5B43.7459058%2C%20-79.352188%5D%2C%0A%20%20%20%20%20%20%20%20%20%20%20%20%20%20%20%20%7B%22bubblingMouseEvents%22%3A%20true%2C%20%22color%22%3A%20%22blue%22%2C%20%22dashArray%22%3A%20null%2C%20%22dashOffset%22%3A%20null%2C%20%22fill%22%3A%20true%2C%20%22fillColor%22%3A%20%22%233186cc%22%2C%20%22fillOpacity%22%3A%200.7%2C%20%22fillRule%22%3A%20%22evenodd%22%2C%20%22lineCap%22%3A%20%22round%22%2C%20%22lineJoin%22%3A%20%22round%22%2C%20%22opacity%22%3A%201.0%2C%20%22radius%22%3A%205%2C%20%22stroke%22%3A%20true%2C%20%22weight%22%3A%203%7D%0A%20%20%20%20%20%20%20%20%20%20%20%20%29.addTo%28map_50e7d571e83c459d934f0da72fb5fc3f%29%3B%0A%20%20%20%20%20%20%20%20%0A%20%20%20%20%0A%20%20%20%20%20%20%20%20var%20popup_3ad9fff9e0584a4eb4de2a5af8e0131e%20%3D%20L.popup%28%7B%22maxWidth%22%3A%20%22100%25%22%7D%29%3B%0A%0A%20%20%20%20%20%20%20%20%0A%20%20%20%20%20%20%20%20%20%20%20%20var%20html_866dba93bc304d1ca67a04155cf35d2b%20%3D%20%24%28%60%3Cdiv%20id%3D%22html_866dba93bc304d1ca67a04155cf35d2b%22%20style%3D%22width%3A%20100.0%25%3B%20height%3A%20100.0%25%3B%22%3EDon%20Mills%20North%3C/div%3E%60%29%5B0%5D%3B%0A%20%20%20%20%20%20%20%20%20%20%20%20popup_3ad9fff9e0584a4eb4de2a5af8e0131e.setContent%28html_866dba93bc304d1ca67a04155cf35d2b%29%3B%0A%20%20%20%20%20%20%20%20%0A%0A%20%20%20%20%20%20%20%20circle_marker_545f7df3b70e429db505c7891a80f119.bindPopup%28popup_3ad9fff9e0584a4eb4de2a5af8e0131e%29%0A%20%20%20%20%20%20%20%20%3B%0A%0A%20%20%20%20%20%20%20%20%0A%20%20%20%20%0A%20%20%20%20%0A%20%20%20%20%20%20%20%20%20%20%20%20var%20circle_marker_17ab7aac45d04b5fac7a8b4527bea3df%20%3D%20L.circleMarker%28%0A%20%20%20%20%20%20%20%20%20%20%20%20%20%20%20%20%5B43.7258997%2C%20-79.340923%5D%2C%0A%20%20%20%20%20%20%20%20%20%20%20%20%20%20%20%20%7B%22bubblingMouseEvents%22%3A%20true%2C%20%22color%22%3A%20%22blue%22%2C%20%22dashArray%22%3A%20null%2C%20%22dashOffset%22%3A%20null%2C%20%22fill%22%3A%20true%2C%20%22fillColor%22%3A%20%22%233186cc%22%2C%20%22fillOpacity%22%3A%200.7%2C%20%22fillRule%22%3A%20%22evenodd%22%2C%20%22lineCap%22%3A%20%22round%22%2C%20%22lineJoin%22%3A%20%22round%22%2C%20%22opacity%22%3A%201.0%2C%20%22radius%22%3A%205%2C%20%22stroke%22%3A%20true%2C%20%22weight%22%3A%203%7D%0A%20%20%20%20%20%20%20%20%20%20%20%20%29.addTo%28map_50e7d571e83c459d934f0da72fb5fc3f%29%3B%0A%20%20%20%20%20%20%20%20%0A%20%20%20%20%0A%20%20%20%20%20%20%20%20var%20popup_6a8e59bd69d64cc0bc3717b44984062f%20%3D%20L.popup%28%7B%22maxWidth%22%3A%20%22100%25%22%7D%29%3B%0A%0A%20%20%20%20%20%20%20%20%0A%20%20%20%20%20%20%20%20%20%20%20%20var%20html_3a25e63acb0b4aab95066e7942474d3f%20%3D%20%24%28%60%3Cdiv%20id%3D%22html_3a25e63acb0b4aab95066e7942474d3f%22%20style%3D%22width%3A%20100.0%25%3B%20height%3A%20100.0%25%3B%22%3EDon%20Mills%20South%3C/div%3E%60%29%5B0%5D%3B%0A%20%20%20%20%20%20%20%20%20%20%20%20popup_6a8e59bd69d64cc0bc3717b44984062f.setContent%28html_3a25e63acb0b4aab95066e7942474d3f%29%3B%0A%20%20%20%20%20%20%20%20%0A%0A%20%20%20%20%20%20%20%20circle_marker_17ab7aac45d04b5fac7a8b4527bea3df.bindPopup%28popup_6a8e59bd69d64cc0bc3717b44984062f%29%0A%20%20%20%20%20%20%20%20%3B%0A%0A%20%20%20%20%20%20%20%20%0A%20%20%20%20%0A%20%20%20%20%0A%20%20%20%20%20%20%20%20%20%20%20%20var%20circle_marker_61d6ba9d56a14cd3b8ad493f55f8d0fc%20%3D%20L.circleMarker%28%0A%20%20%20%20%20%20%20%20%20%20%20%20%20%20%20%20%5B43.7543283%2C%20-79.4422593%5D%2C%0A%20%20%20%20%20%20%20%20%20%20%20%20%20%20%20%20%7B%22bubblingMouseEvents%22%3A%20true%2C%20%22color%22%3A%20%22blue%22%2C%20%22dashArray%22%3A%20null%2C%20%22dashOffset%22%3A%20null%2C%20%22fill%22%3A%20true%2C%20%22fillColor%22%3A%20%22%233186cc%22%2C%20%22fillOpacity%22%3A%200.7%2C%20%22fillRule%22%3A%20%22evenodd%22%2C%20%22lineCap%22%3A%20%22round%22%2C%20%22lineJoin%22%3A%20%22round%22%2C%20%22opacity%22%3A%201.0%2C%20%22radius%22%3A%205%2C%20%22stroke%22%3A%20true%2C%20%22weight%22%3A%203%7D%0A%20%20%20%20%20%20%20%20%20%20%20%20%29.addTo%28map_50e7d571e83c459d934f0da72fb5fc3f%29%3B%0A%20%20%20%20%20%20%20%20%0A%20%20%20%20%0A%20%20%20%20%20%20%20%20var%20popup_c9d1496f8c2b4255aed99b886034d2cc%20%3D%20L.popup%28%7B%22maxWidth%22%3A%20%22100%25%22%7D%29%3B%0A%0A%20%20%20%20%20%20%20%20%0A%20%20%20%20%20%20%20%20%20%20%20%20var%20html_6030a71e4a474a338aa1d9f4acd877b6%20%3D%20%24%28%60%3Cdiv%20id%3D%22html_6030a71e4a474a338aa1d9f4acd877b6%22%20style%3D%22width%3A%20100.0%25%3B%20height%3A%20100.0%25%3B%22%3EBathurst%20Manor%20%2C%20Wilson%20Heights%20%2C%20Downsview%20North%3C/div%3E%60%29%5B0%5D%3B%0A%20%20%20%20%20%20%20%20%20%20%20%20popup_c9d1496f8c2b4255aed99b886034d2cc.setContent%28html_6030a71e4a474a338aa1d9f4acd877b6%29%3B%0A%20%20%20%20%20%20%20%20%0A%0A%20%20%20%20%20%20%20%20circle_marker_61d6ba9d56a14cd3b8ad493f55f8d0fc.bindPopup%28popup_c9d1496f8c2b4255aed99b886034d2cc%29%0A%20%20%20%20%20%20%20%20%3B%0A%0A%20%20%20%20%20%20%20%20%0A%20%20%20%20%0A%20%20%20%20%0A%20%20%20%20%20%20%20%20%20%20%20%20var%20circle_marker_683b2ac660204cebab2e377f62ad772c%20%3D%20L.circleMarker%28%0A%20%20%20%20%20%20%20%20%20%20%20%20%20%20%20%20%5B43.7679803%2C%20-79.4872619%5D%2C%0A%20%20%20%20%20%20%20%20%20%20%20%20%20%20%20%20%7B%22bubblingMouseEvents%22%3A%20true%2C%20%22color%22%3A%20%22blue%22%2C%20%22dashArray%22%3A%20null%2C%20%22dashOffset%22%3A%20null%2C%20%22fill%22%3A%20true%2C%20%22fillColor%22%3A%20%22%233186cc%22%2C%20%22fillOpacity%22%3A%200.7%2C%20%22fillRule%22%3A%20%22evenodd%22%2C%20%22lineCap%22%3A%20%22round%22%2C%20%22lineJoin%22%3A%20%22round%22%2C%20%22opacity%22%3A%201.0%2C%20%22radius%22%3A%205%2C%20%22stroke%22%3A%20true%2C%20%22weight%22%3A%203%7D%0A%20%20%20%20%20%20%20%20%20%20%20%20%29.addTo%28map_50e7d571e83c459d934f0da72fb5fc3f%29%3B%0A%20%20%20%20%20%20%20%20%0A%20%20%20%20%0A%20%20%20%20%20%20%20%20var%20popup_e920be3ad2cb4da3a265d8a39410cc52%20%3D%20L.popup%28%7B%22maxWidth%22%3A%20%22100%25%22%7D%29%3B%0A%0A%20%20%20%20%20%20%20%20%0A%20%20%20%20%20%20%20%20%20%20%20%20var%20html_5f3a04c42bf04156be3c81d910e62b8a%20%3D%20%24%28%60%3Cdiv%20id%3D%22html_5f3a04c42bf04156be3c81d910e62b8a%22%20style%3D%22width%3A%20100.0%25%3B%20height%3A%20100.0%25%3B%22%3ENorthwood%20Park%20%2C%20York%20University%3C/div%3E%60%29%5B0%5D%3B%0A%20%20%20%20%20%20%20%20%20%20%20%20popup_e920be3ad2cb4da3a265d8a39410cc52.setContent%28html_5f3a04c42bf04156be3c81d910e62b8a%29%3B%0A%20%20%20%20%20%20%20%20%0A%0A%20%20%20%20%20%20%20%20circle_marker_683b2ac660204cebab2e377f62ad772c.bindPopup%28popup_e920be3ad2cb4da3a265d8a39410cc52%29%0A%20%20%20%20%20%20%20%20%3B%0A%0A%20%20%20%20%20%20%20%20%0A%20%20%20%20%0A%20%20%20%20%0A%20%20%20%20%20%20%20%20%20%20%20%20var%20circle_marker_73e0b823bb2a42b4a7b89324ea48a94a%20%3D%20L.circleMarker%28%0A%20%20%20%20%20%20%20%20%20%20%20%20%20%20%20%20%5B43.7374732%2C%20-79.4647633%5D%2C%0A%20%20%20%20%20%20%20%20%20%20%20%20%20%20%20%20%7B%22bubblingMouseEvents%22%3A%20true%2C%20%22color%22%3A%20%22blue%22%2C%20%22dashArray%22%3A%20null%2C%20%22dashOffset%22%3A%20null%2C%20%22fill%22%3A%20true%2C%20%22fillColor%22%3A%20%22%233186cc%22%2C%20%22fillOpacity%22%3A%200.7%2C%20%22fillRule%22%3A%20%22evenodd%22%2C%20%22lineCap%22%3A%20%22round%22%2C%20%22lineJoin%22%3A%20%22round%22%2C%20%22opacity%22%3A%201.0%2C%20%22radius%22%3A%205%2C%20%22stroke%22%3A%20true%2C%20%22weight%22%3A%203%7D%0A%20%20%20%20%20%20%20%20%20%20%20%20%29.addTo%28map_50e7d571e83c459d934f0da72fb5fc3f%29%3B%0A%20%20%20%20%20%20%20%20%0A%20%20%20%20%0A%20%20%20%20%20%20%20%20var%20popup_0cfae11bcd2b43cebd1765e1bfc5d730%20%3D%20L.popup%28%7B%22maxWidth%22%3A%20%22100%25%22%7D%29%3B%0A%0A%20%20%20%20%20%20%20%20%0A%20%20%20%20%20%20%20%20%20%20%20%20var%20html_563a2bd1daa94ab8a1d91cf631c497d5%20%3D%20%24%28%60%3Cdiv%20id%3D%22html_563a2bd1daa94ab8a1d91cf631c497d5%22%20style%3D%22width%3A%20100.0%25%3B%20height%3A%20100.0%25%3B%22%3EDownsview%20East%3C/div%3E%60%29%5B0%5D%3B%0A%20%20%20%20%20%20%20%20%20%20%20%20popup_0cfae11bcd2b43cebd1765e1bfc5d730.setContent%28html_563a2bd1daa94ab8a1d91cf631c497d5%29%3B%0A%20%20%20%20%20%20%20%20%0A%0A%20%20%20%20%20%20%20%20circle_marker_73e0b823bb2a42b4a7b89324ea48a94a.bindPopup%28popup_0cfae11bcd2b43cebd1765e1bfc5d730%29%0A%20%20%20%20%20%20%20%20%3B%0A%0A%20%20%20%20%20%20%20%20%0A%20%20%20%20%0A%20%20%20%20%0A%20%20%20%20%20%20%20%20%20%20%20%20var%20circle_marker_6999f1db6d29413d989f70031cc50f8f%20%3D%20L.circleMarker%28%0A%20%20%20%20%20%20%20%20%20%20%20%20%20%20%20%20%5B43.7390146%2C%20-79.5069436%5D%2C%0A%20%20%20%20%20%20%20%20%20%20%20%20%20%20%20%20%7B%22bubblingMouseEvents%22%3A%20true%2C%20%22color%22%3A%20%22blue%22%2C%20%22dashArray%22%3A%20null%2C%20%22dashOffset%22%3A%20null%2C%20%22fill%22%3A%20true%2C%20%22fillColor%22%3A%20%22%233186cc%22%2C%20%22fillOpacity%22%3A%200.7%2C%20%22fillRule%22%3A%20%22evenodd%22%2C%20%22lineCap%22%3A%20%22round%22%2C%20%22lineJoin%22%3A%20%22round%22%2C%20%22opacity%22%3A%201.0%2C%20%22radius%22%3A%205%2C%20%22stroke%22%3A%20true%2C%20%22weight%22%3A%203%7D%0A%20%20%20%20%20%20%20%20%20%20%20%20%29.addTo%28map_50e7d571e83c459d934f0da72fb5fc3f%29%3B%0A%20%20%20%20%20%20%20%20%0A%20%20%20%20%0A%20%20%20%20%20%20%20%20var%20popup_26ff1e56d0244b8a836e03b00845168b%20%3D%20L.popup%28%7B%22maxWidth%22%3A%20%22100%25%22%7D%29%3B%0A%0A%20%20%20%20%20%20%20%20%0A%20%20%20%20%20%20%20%20%20%20%20%20var%20html_0732a411663b451ea1eca142c5be334b%20%3D%20%24%28%60%3Cdiv%20id%3D%22html_0732a411663b451ea1eca142c5be334b%22%20style%3D%22width%3A%20100.0%25%3B%20height%3A%20100.0%25%3B%22%3EDownsview%20West%3C/div%3E%60%29%5B0%5D%3B%0A%20%20%20%20%20%20%20%20%20%20%20%20popup_26ff1e56d0244b8a836e03b00845168b.setContent%28html_0732a411663b451ea1eca142c5be334b%29%3B%0A%20%20%20%20%20%20%20%20%0A%0A%20%20%20%20%20%20%20%20circle_marker_6999f1db6d29413d989f70031cc50f8f.bindPopup%28popup_26ff1e56d0244b8a836e03b00845168b%29%0A%20%20%20%20%20%20%20%20%3B%0A%0A%20%20%20%20%20%20%20%20%0A%20%20%20%20%0A%20%20%20%20%0A%20%20%20%20%20%20%20%20%20%20%20%20var%20circle_marker_51f805b8286243d28618d34b671fec8b%20%3D%20L.circleMarker%28%0A%20%20%20%20%20%20%20%20%20%20%20%20%20%20%20%20%5B43.7284964%2C%20-79.4956974%5D%2C%0A%20%20%20%20%20%20%20%20%20%20%20%20%20%20%20%20%7B%22bubblingMouseEvents%22%3A%20true%2C%20%22color%22%3A%20%22blue%22%2C%20%22dashArray%22%3A%20null%2C%20%22dashOffset%22%3A%20null%2C%20%22fill%22%3A%20true%2C%20%22fillColor%22%3A%20%22%233186cc%22%2C%20%22fillOpacity%22%3A%200.7%2C%20%22fillRule%22%3A%20%22evenodd%22%2C%20%22lineCap%22%3A%20%22round%22%2C%20%22lineJoin%22%3A%20%22round%22%2C%20%22opacity%22%3A%201.0%2C%20%22radius%22%3A%205%2C%20%22stroke%22%3A%20true%2C%20%22weight%22%3A%203%7D%0A%20%20%20%20%20%20%20%20%20%20%20%20%29.addTo%28map_50e7d571e83c459d934f0da72fb5fc3f%29%3B%0A%20%20%20%20%20%20%20%20%0A%20%20%20%20%0A%20%20%20%20%20%20%20%20var%20popup_cdad7671632a45759a683aadb7560f4f%20%3D%20L.popup%28%7B%22maxWidth%22%3A%20%22100%25%22%7D%29%3B%0A%0A%20%20%20%20%20%20%20%20%0A%20%20%20%20%20%20%20%20%20%20%20%20var%20html_09b1be45d81049e8be29383a00378660%20%3D%20%24%28%60%3Cdiv%20id%3D%22html_09b1be45d81049e8be29383a00378660%22%20style%3D%22width%3A%20100.0%25%3B%20height%3A%20100.0%25%3B%22%3EDownsview%20Central%3C/div%3E%60%29%5B0%5D%3B%0A%20%20%20%20%20%20%20%20%20%20%20%20popup_cdad7671632a45759a683aadb7560f4f.setContent%28html_09b1be45d81049e8be29383a00378660%29%3B%0A%20%20%20%20%20%20%20%20%0A%0A%20%20%20%20%20%20%20%20circle_marker_51f805b8286243d28618d34b671fec8b.bindPopup%28popup_cdad7671632a45759a683aadb7560f4f%29%0A%20%20%20%20%20%20%20%20%3B%0A%0A%20%20%20%20%20%20%20%20%0A%20%20%20%20%0A%20%20%20%20%0A%20%20%20%20%20%20%20%20%20%20%20%20var%20circle_marker_3eed584febb740068750aa9d2ad7fd40%20%3D%20L.circleMarker%28%0A%20%20%20%20%20%20%20%20%20%20%20%20%20%20%20%20%5B43.7616313%2C%20-79.5209994%5D%2C%0A%20%20%20%20%20%20%20%20%20%20%20%20%20%20%20%20%7B%22bubblingMouseEvents%22%3A%20true%2C%20%22color%22%3A%20%22blue%22%2C%20%22dashArray%22%3A%20null%2C%20%22dashOffset%22%3A%20null%2C%20%22fill%22%3A%20true%2C%20%22fillColor%22%3A%20%22%233186cc%22%2C%20%22fillOpacity%22%3A%200.7%2C%20%22fillRule%22%3A%20%22evenodd%22%2C%20%22lineCap%22%3A%20%22round%22%2C%20%22lineJoin%22%3A%20%22round%22%2C%20%22opacity%22%3A%201.0%2C%20%22radius%22%3A%205%2C%20%22stroke%22%3A%20true%2C%20%22weight%22%3A%203%7D%0A%20%20%20%20%20%20%20%20%20%20%20%20%29.addTo%28map_50e7d571e83c459d934f0da72fb5fc3f%29%3B%0A%20%20%20%20%20%20%20%20%0A%20%20%20%20%0A%20%20%20%20%20%20%20%20var%20popup_68995318f8644cfdb38bf26cccfaceb9%20%3D%20L.popup%28%7B%22maxWidth%22%3A%20%22100%25%22%7D%29%3B%0A%0A%20%20%20%20%20%20%20%20%0A%20%20%20%20%20%20%20%20%20%20%20%20var%20html_530631f4dbf44d30b5941e1280e9bd35%20%3D%20%24%28%60%3Cdiv%20id%3D%22html_530631f4dbf44d30b5941e1280e9bd35%22%20style%3D%22width%3A%20100.0%25%3B%20height%3A%20100.0%25%3B%22%3EDownsview%20Northwest%3C/div%3E%60%29%5B0%5D%3B%0A%20%20%20%20%20%20%20%20%20%20%20%20popup_68995318f8644cfdb38bf26cccfaceb9.setContent%28html_530631f4dbf44d30b5941e1280e9bd35%29%3B%0A%20%20%20%20%20%20%20%20%0A%0A%20%20%20%20%20%20%20%20circle_marker_3eed584febb740068750aa9d2ad7fd40.bindPopup%28popup_68995318f8644cfdb38bf26cccfaceb9%29%0A%20%20%20%20%20%20%20%20%3B%0A%0A%20%20%20%20%20%20%20%20%0A%20%20%20%20%0A%20%20%20%20%0A%20%20%20%20%20%20%20%20%20%20%20%20var%20circle_marker_f8bd2e5defdc4373bd810250b0d360d6%20%3D%20L.circleMarker%28%0A%20%20%20%20%20%20%20%20%20%20%20%20%20%20%20%20%5B43.7258823%2C%20-79.3155716%5D%2C%0A%20%20%20%20%20%20%20%20%20%20%20%20%20%20%20%20%7B%22bubblingMouseEvents%22%3A%20true%2C%20%22color%22%3A%20%22blue%22%2C%20%22dashArray%22%3A%20null%2C%20%22dashOffset%22%3A%20null%2C%20%22fill%22%3A%20true%2C%20%22fillColor%22%3A%20%22%233186cc%22%2C%20%22fillOpacity%22%3A%200.7%2C%20%22fillRule%22%3A%20%22evenodd%22%2C%20%22lineCap%22%3A%20%22round%22%2C%20%22lineJoin%22%3A%20%22round%22%2C%20%22opacity%22%3A%201.0%2C%20%22radius%22%3A%205%2C%20%22stroke%22%3A%20true%2C%20%22weight%22%3A%203%7D%0A%20%20%20%20%20%20%20%20%20%20%20%20%29.addTo%28map_50e7d571e83c459d934f0da72fb5fc3f%29%3B%0A%20%20%20%20%20%20%20%20%0A%20%20%20%20%0A%20%20%20%20%20%20%20%20var%20popup_94cc3b2f50d543c1bf0c6e93b7db8888%20%3D%20L.popup%28%7B%22maxWidth%22%3A%20%22100%25%22%7D%29%3B%0A%0A%20%20%20%20%20%20%20%20%0A%20%20%20%20%20%20%20%20%20%20%20%20var%20html_e1a84f77ea5a43949625fde2bae87e43%20%3D%20%24%28%60%3Cdiv%20id%3D%22html_e1a84f77ea5a43949625fde2bae87e43%22%20style%3D%22width%3A%20100.0%25%3B%20height%3A%20100.0%25%3B%22%3EVictoria%20Village%3C/div%3E%60%29%5B0%5D%3B%0A%20%20%20%20%20%20%20%20%20%20%20%20popup_94cc3b2f50d543c1bf0c6e93b7db8888.setContent%28html_e1a84f77ea5a43949625fde2bae87e43%29%3B%0A%20%20%20%20%20%20%20%20%0A%0A%20%20%20%20%20%20%20%20circle_marker_f8bd2e5defdc4373bd810250b0d360d6.bindPopup%28popup_94cc3b2f50d543c1bf0c6e93b7db8888%29%0A%20%20%20%20%20%20%20%20%3B%0A%0A%20%20%20%20%20%20%20%20%0A%20%20%20%20%0A%20%20%20%20%0A%20%20%20%20%20%20%20%20%20%20%20%20var%20circle_marker_516289436ae34231bbbf2d3777892259%20%3D%20L.circleMarker%28%0A%20%20%20%20%20%20%20%20%20%20%20%20%20%20%20%20%5B43.7332825%2C%20-79.4197497%5D%2C%0A%20%20%20%20%20%20%20%20%20%20%20%20%20%20%20%20%7B%22bubblingMouseEvents%22%3A%20true%2C%20%22color%22%3A%20%22blue%22%2C%20%22dashArray%22%3A%20null%2C%20%22dashOffset%22%3A%20null%2C%20%22fill%22%3A%20true%2C%20%22fillColor%22%3A%20%22%233186cc%22%2C%20%22fillOpacity%22%3A%200.7%2C%20%22fillRule%22%3A%20%22evenodd%22%2C%20%22lineCap%22%3A%20%22round%22%2C%20%22lineJoin%22%3A%20%22round%22%2C%20%22opacity%22%3A%201.0%2C%20%22radius%22%3A%205%2C%20%22stroke%22%3A%20true%2C%20%22weight%22%3A%203%7D%0A%20%20%20%20%20%20%20%20%20%20%20%20%29.addTo%28map_50e7d571e83c459d934f0da72fb5fc3f%29%3B%0A%20%20%20%20%20%20%20%20%0A%20%20%20%20%0A%20%20%20%20%20%20%20%20var%20popup_e1805fb6874245a9912262e74636ec97%20%3D%20L.popup%28%7B%22maxWidth%22%3A%20%22100%25%22%7D%29%3B%0A%0A%20%20%20%20%20%20%20%20%0A%20%20%20%20%20%20%20%20%20%20%20%20var%20html_b59a6b7a8cdb4b128ac060ef705c7865%20%3D%20%24%28%60%3Cdiv%20id%3D%22html_b59a6b7a8cdb4b128ac060ef705c7865%22%20style%3D%22width%3A%20100.0%25%3B%20height%3A%20100.0%25%3B%22%3EBedford%20Park%20%2C%20Lawrence%20Manor%20East%3C/div%3E%60%29%5B0%5D%3B%0A%20%20%20%20%20%20%20%20%20%20%20%20popup_e1805fb6874245a9912262e74636ec97.setContent%28html_b59a6b7a8cdb4b128ac060ef705c7865%29%3B%0A%20%20%20%20%20%20%20%20%0A%0A%20%20%20%20%20%20%20%20circle_marker_516289436ae34231bbbf2d3777892259.bindPopup%28popup_e1805fb6874245a9912262e74636ec97%29%0A%20%20%20%20%20%20%20%20%3B%0A%0A%20%20%20%20%20%20%20%20%0A%20%20%20%20%0A%20%20%20%20%0A%20%20%20%20%20%20%20%20%20%20%20%20var%20circle_marker_1bb0b78c663d4ab29c5d4fb8e766d887%20%3D%20L.circleMarker%28%0A%20%20%20%20%20%20%20%20%20%20%20%20%20%20%20%20%5B43.718518%2C%20-79.4647633%5D%2C%0A%20%20%20%20%20%20%20%20%20%20%20%20%20%20%20%20%7B%22bubblingMouseEvents%22%3A%20true%2C%20%22color%22%3A%20%22blue%22%2C%20%22dashArray%22%3A%20null%2C%20%22dashOffset%22%3A%20null%2C%20%22fill%22%3A%20true%2C%20%22fillColor%22%3A%20%22%233186cc%22%2C%20%22fillOpacity%22%3A%200.7%2C%20%22fillRule%22%3A%20%22evenodd%22%2C%20%22lineCap%22%3A%20%22round%22%2C%20%22lineJoin%22%3A%20%22round%22%2C%20%22opacity%22%3A%201.0%2C%20%22radius%22%3A%205%2C%20%22stroke%22%3A%20true%2C%20%22weight%22%3A%203%7D%0A%20%20%20%20%20%20%20%20%20%20%20%20%29.addTo%28map_50e7d571e83c459d934f0da72fb5fc3f%29%3B%0A%20%20%20%20%20%20%20%20%0A%20%20%20%20%0A%20%20%20%20%20%20%20%20var%20popup_77aaf0e662324f51abfe8ac94cf7a420%20%3D%20L.popup%28%7B%22maxWidth%22%3A%20%22100%25%22%7D%29%3B%0A%0A%20%20%20%20%20%20%20%20%0A%20%20%20%20%20%20%20%20%20%20%20%20var%20html_1198b922af8d42818cc96d53f88801e4%20%3D%20%24%28%60%3Cdiv%20id%3D%22html_1198b922af8d42818cc96d53f88801e4%22%20style%3D%22width%3A%20100.0%25%3B%20height%3A%20100.0%25%3B%22%3ELawrence%20Manor%20%2C%20Lawrence%20Heights%3C/div%3E%60%29%5B0%5D%3B%0A%20%20%20%20%20%20%20%20%20%20%20%20popup_77aaf0e662324f51abfe8ac94cf7a420.setContent%28html_1198b922af8d42818cc96d53f88801e4%29%3B%0A%20%20%20%20%20%20%20%20%0A%0A%20%20%20%20%20%20%20%20circle_marker_1bb0b78c663d4ab29c5d4fb8e766d887.bindPopup%28popup_77aaf0e662324f51abfe8ac94cf7a420%29%0A%20%20%20%20%20%20%20%20%3B%0A%0A%20%20%20%20%20%20%20%20%0A%20%20%20%20%0A%20%20%20%20%0A%20%20%20%20%20%20%20%20%20%20%20%20var%20circle_marker_76abc254f809463f9969ee703b07a997%20%3D%20L.circleMarker%28%0A%20%20%20%20%20%20%20%20%20%20%20%20%20%20%20%20%5B43.709577%2C%20-79.4450726%5D%2C%0A%20%20%20%20%20%20%20%20%20%20%20%20%20%20%20%20%7B%22bubblingMouseEvents%22%3A%20true%2C%20%22color%22%3A%20%22blue%22%2C%20%22dashArray%22%3A%20null%2C%20%22dashOffset%22%3A%20null%2C%20%22fill%22%3A%20true%2C%20%22fillColor%22%3A%20%22%233186cc%22%2C%20%22fillOpacity%22%3A%200.7%2C%20%22fillRule%22%3A%20%22evenodd%22%2C%20%22lineCap%22%3A%20%22round%22%2C%20%22lineJoin%22%3A%20%22round%22%2C%20%22opacity%22%3A%201.0%2C%20%22radius%22%3A%205%2C%20%22stroke%22%3A%20true%2C%20%22weight%22%3A%203%7D%0A%20%20%20%20%20%20%20%20%20%20%20%20%29.addTo%28map_50e7d571e83c459d934f0da72fb5fc3f%29%3B%0A%20%20%20%20%20%20%20%20%0A%20%20%20%20%0A%20%20%20%20%20%20%20%20var%20popup_3f369a7eb184435b8cde37afabee3303%20%3D%20L.popup%28%7B%22maxWidth%22%3A%20%22100%25%22%7D%29%3B%0A%0A%20%20%20%20%20%20%20%20%0A%20%20%20%20%20%20%20%20%20%20%20%20var%20html_414dbe8dc61e481e8e8af112e558196e%20%3D%20%24%28%60%3Cdiv%20id%3D%22html_414dbe8dc61e481e8e8af112e558196e%22%20style%3D%22width%3A%20100.0%25%3B%20height%3A%20100.0%25%3B%22%3EGlencairn%3C/div%3E%60%29%5B0%5D%3B%0A%20%20%20%20%20%20%20%20%20%20%20%20popup_3f369a7eb184435b8cde37afabee3303.setContent%28html_414dbe8dc61e481e8e8af112e558196e%29%3B%0A%20%20%20%20%20%20%20%20%0A%0A%20%20%20%20%20%20%20%20circle_marker_76abc254f809463f9969ee703b07a997.bindPopup%28popup_3f369a7eb184435b8cde37afabee3303%29%0A%20%20%20%20%20%20%20%20%3B%0A%0A%20%20%20%20%20%20%20%20%0A%20%20%20%20%0A%20%20%20%20%0A%20%20%20%20%20%20%20%20%20%20%20%20var%20circle_marker_1f60a3d937b64b2985ba92b890fd567f%20%3D%20L.circleMarker%28%0A%20%20%20%20%20%20%20%20%20%20%20%20%20%20%20%20%5B43.7137562%2C%20-79.4900738%5D%2C%0A%20%20%20%20%20%20%20%20%20%20%20%20%20%20%20%20%7B%22bubblingMouseEvents%22%3A%20true%2C%20%22color%22%3A%20%22blue%22%2C%20%22dashArray%22%3A%20null%2C%20%22dashOffset%22%3A%20null%2C%20%22fill%22%3A%20true%2C%20%22fillColor%22%3A%20%22%233186cc%22%2C%20%22fillOpacity%22%3A%200.7%2C%20%22fillRule%22%3A%20%22evenodd%22%2C%20%22lineCap%22%3A%20%22round%22%2C%20%22lineJoin%22%3A%20%22round%22%2C%20%22opacity%22%3A%201.0%2C%20%22radius%22%3A%205%2C%20%22stroke%22%3A%20true%2C%20%22weight%22%3A%203%7D%0A%20%20%20%20%20%20%20%20%20%20%20%20%29.addTo%28map_50e7d571e83c459d934f0da72fb5fc3f%29%3B%0A%20%20%20%20%20%20%20%20%0A%20%20%20%20%0A%20%20%20%20%20%20%20%20var%20popup_7d1eea4f3a0f4cd2bac5caf82129f36a%20%3D%20L.popup%28%7B%22maxWidth%22%3A%20%22100%25%22%7D%29%3B%0A%0A%20%20%20%20%20%20%20%20%0A%20%20%20%20%20%20%20%20%20%20%20%20var%20html_5d8075622f8d49a8b7df2bfbf48d33e2%20%3D%20%24%28%60%3Cdiv%20id%3D%22html_5d8075622f8d49a8b7df2bfbf48d33e2%22%20style%3D%22width%3A%20100.0%25%3B%20height%3A%20100.0%25%3B%22%3ENorth%20Park%20%2C%20Maple%20Leaf%20Park%20%2C%20Upwood%20Park%3C/div%3E%60%29%5B0%5D%3B%0A%20%20%20%20%20%20%20%20%20%20%20%20popup_7d1eea4f3a0f4cd2bac5caf82129f36a.setContent%28html_5d8075622f8d49a8b7df2bfbf48d33e2%29%3B%0A%20%20%20%20%20%20%20%20%0A%0A%20%20%20%20%20%20%20%20circle_marker_1f60a3d937b64b2985ba92b890fd567f.bindPopup%28popup_7d1eea4f3a0f4cd2bac5caf82129f36a%29%0A%20%20%20%20%20%20%20%20%3B%0A%0A%20%20%20%20%20%20%20%20%0A%20%20%20%20%0A%20%20%20%20%0A%20%20%20%20%20%20%20%20%20%20%20%20var%20circle_marker_9ee491a416b04b6897dc7eaf683639f3%20%3D%20L.circleMarker%28%0A%20%20%20%20%20%20%20%20%20%20%20%20%20%20%20%20%5B43.7563033%2C%20-79.5659633%5D%2C%0A%20%20%20%20%20%20%20%20%20%20%20%20%20%20%20%20%7B%22bubblingMouseEvents%22%3A%20true%2C%20%22color%22%3A%20%22blue%22%2C%20%22dashArray%22%3A%20null%2C%20%22dashOffset%22%3A%20null%2C%20%22fill%22%3A%20true%2C%20%22fillColor%22%3A%20%22%233186cc%22%2C%20%22fillOpacity%22%3A%200.7%2C%20%22fillRule%22%3A%20%22evenodd%22%2C%20%22lineCap%22%3A%20%22round%22%2C%20%22lineJoin%22%3A%20%22round%22%2C%20%22opacity%22%3A%201.0%2C%20%22radius%22%3A%205%2C%20%22stroke%22%3A%20true%2C%20%22weight%22%3A%203%7D%0A%20%20%20%20%20%20%20%20%20%20%20%20%29.addTo%28map_50e7d571e83c459d934f0da72fb5fc3f%29%3B%0A%20%20%20%20%20%20%20%20%0A%20%20%20%20%0A%20%20%20%20%20%20%20%20var%20popup_ac8f14f0504745c6b812939da24e4de7%20%3D%20L.popup%28%7B%22maxWidth%22%3A%20%22100%25%22%7D%29%3B%0A%0A%20%20%20%20%20%20%20%20%0A%20%20%20%20%20%20%20%20%20%20%20%20var%20html_84a25a544a544551a724754a2e4d2863%20%3D%20%24%28%60%3Cdiv%20id%3D%22html_84a25a544a544551a724754a2e4d2863%22%20style%3D%22width%3A%20100.0%25%3B%20height%3A%20100.0%25%3B%22%3EHumber%20Summit%3C/div%3E%60%29%5B0%5D%3B%0A%20%20%20%20%20%20%20%20%20%20%20%20popup_ac8f14f0504745c6b812939da24e4de7.setContent%28html_84a25a544a544551a724754a2e4d2863%29%3B%0A%20%20%20%20%20%20%20%20%0A%0A%20%20%20%20%20%20%20%20circle_marker_9ee491a416b04b6897dc7eaf683639f3.bindPopup%28popup_ac8f14f0504745c6b812939da24e4de7%29%0A%20%20%20%20%20%20%20%20%3B%0A%0A%20%20%20%20%20%20%20%20%0A%20%20%20%20%0A%20%20%20%20%0A%20%20%20%20%20%20%20%20%20%20%20%20var%20circle_marker_589ce3de362646b693bfeea67165c33f%20%3D%20L.circleMarker%28%0A%20%20%20%20%20%20%20%20%20%20%20%20%20%20%20%20%5B43.7247659%2C%20-79.5322424%5D%2C%0A%20%20%20%20%20%20%20%20%20%20%20%20%20%20%20%20%7B%22bubblingMouseEvents%22%3A%20true%2C%20%22color%22%3A%20%22blue%22%2C%20%22dashArray%22%3A%20null%2C%20%22dashOffset%22%3A%20null%2C%20%22fill%22%3A%20true%2C%20%22fillColor%22%3A%20%22%233186cc%22%2C%20%22fillOpacity%22%3A%200.7%2C%20%22fillRule%22%3A%20%22evenodd%22%2C%20%22lineCap%22%3A%20%22round%22%2C%20%22lineJoin%22%3A%20%22round%22%2C%20%22opacity%22%3A%201.0%2C%20%22radius%22%3A%205%2C%20%22stroke%22%3A%20true%2C%20%22weight%22%3A%203%7D%0A%20%20%20%20%20%20%20%20%20%20%20%20%29.addTo%28map_50e7d571e83c459d934f0da72fb5fc3f%29%3B%0A%20%20%20%20%20%20%20%20%0A%20%20%20%20%0A%20%20%20%20%20%20%20%20var%20popup_2333aed10cd34602a9cb5e170d9b2d5b%20%3D%20L.popup%28%7B%22maxWidth%22%3A%20%22100%25%22%7D%29%3B%0A%0A%20%20%20%20%20%20%20%20%0A%20%20%20%20%20%20%20%20%20%20%20%20var%20html_11f21468767d45a6b784a5ee5fa67903%20%3D%20%24%28%60%3Cdiv%20id%3D%22html_11f21468767d45a6b784a5ee5fa67903%22%20style%3D%22width%3A%20100.0%25%3B%20height%3A%20100.0%25%3B%22%3EHumberlea%20%2C%20Emery%3C/div%3E%60%29%5B0%5D%3B%0A%20%20%20%20%20%20%20%20%20%20%20%20popup_2333aed10cd34602a9cb5e170d9b2d5b.setContent%28html_11f21468767d45a6b784a5ee5fa67903%29%3B%0A%20%20%20%20%20%20%20%20%0A%0A%20%20%20%20%20%20%20%20circle_marker_589ce3de362646b693bfeea67165c33f.bindPopup%28popup_2333aed10cd34602a9cb5e170d9b2d5b%29%0A%20%20%20%20%20%20%20%20%3B%0A%0A%20%20%20%20%20%20%20%20%0A%20%20%20%20%0A%3C/script%3E onload=\"this.contentDocument.open();this.contentDocument.write(    decodeURIComponent(this.getAttribute('data-html')));this.contentDocument.close();\" allowfullscreen webkitallowfullscreen mozallowfullscreen></iframe></div></div>"
     },
     "metadata": {},
     "execution_count": 13
    }
   ],
   "source": [
    "north_york_map = folium.Map(location=[latitude,longitude], zoom_start=10)\n",
    "for lat, lng, label in zip(north_york_data['Latitude'], north_york_data['Longitude'], north_york_data['Neighborhood']):\n",
    "    label = folium.Popup(label, parse_html=True)\n",
    "    folium.CircleMarker(\n",
    "        [lat, lng],\n",
    "        radius=5,\n",
    "        popup=label,\n",
    "        color='blue',\n",
    "        fill=True,\n",
    "        fill_color='#3186cc',\n",
    "        fill_opacity=0.7,\n",
    "        parse_html=False).add_to(north_york_map)\n",
    "north_york_map"
   ]
  },
  {
   "cell_type": "code",
   "execution_count": 14,
   "metadata": {},
   "outputs": [
    {
     "output_type": "error",
     "ename": "SyntaxError",
     "evalue": "invalid syntax (<ipython-input-14-4ac3bff26eb2>, line 2)",
     "traceback": [
      "\u001b[0;36m  File \u001b[0;32m\"<ipython-input-14-4ac3bff26eb2>\"\u001b[0;36m, line \u001b[0;32m2\u001b[0m\n\u001b[0;31m    using foursquare api, we collect data about places nearby to a specific longitude and latitude\u001b[0m\n\u001b[0m          ^\u001b[0m\n\u001b[0;31mSyntaxError\u001b[0m\u001b[0;31m:\u001b[0m invalid syntax\n"
     ]
    }
   ],
   "source": [
    "### Using Forsquare API\n",
    "using foursquare api, we collect data about places nearby to a specific longitude and latitude"
   ]
  },
  {
   "cell_type": "code",
   "execution_count": 387,
   "metadata": {},
   "outputs": [],
   "source": [
    "CLIENT_ID = 'JQUCF02XCSTKMVE4GD1AT3G3XJJPQQ3V0MJXWQZKV4ABTBQZ' # your Foursquare ID\n",
    "CLIENT_SECRET = '1IPWZTMXB3ASQYSQ3N5PLQESNYXYMH0D1DEQA0QOONW3HDNR' # your Foursquare Secret\n",
    "ACCESS_TOKEN = \"BMWWH5P3FNH3KLK5ZAUTXSCYD1AZXZ1OB4UPF512Y4EWLGQN\" # your FourSquare Access Token\n",
    "VERSION = '20180605' # Foursquare API version\n",
    "LIMIT = 100"
   ]
  },
  {
   "source": [
    "Let explore the neighbourhoods of north york by getting the top nearby venues for each neighbourhood in north york. "
   ],
   "cell_type": "markdown",
   "metadata": {}
  },
  {
   "cell_type": "code",
   "execution_count": 388,
   "metadata": {},
   "outputs": [],
   "source": [
    "\n",
    "def getNearbyVenues(names, latitudes, longitudes, radius=500):\n",
    "    \n",
    "    venues_list=[]\n",
    "    for name, lat, lng in zip(names, latitudes, longitudes):\n",
    "        # create the API request URL\n",
    "        url = 'https://api.foursquare.com/v2/venues/explore?&client_id={}&client_secret={}&v={}&ll={},{}&radius={}&limit={}'.format(\n",
    "            CLIENT_ID, \n",
    "            CLIENT_SECRET, \n",
    "            VERSION, \n",
    "            lat, \n",
    "            lng, \n",
    "            radius, \n",
    "            LIMIT)\n",
    "            \n",
    "        # make the GET request\n",
    "        results = requests.get(url).json()[\"response\"]['groups'][0]['items']\n",
    "        \n",
    "        # return only relevant information for each nearby venue\n",
    "        venues_list.append([(\n",
    "            name, \n",
    "            lat, \n",
    "            lng, \n",
    "            venue['venue']['name'], \n",
    "            venue['venue']['location']['lat'], \n",
    "            venue['venue']['location']['lng'],  \n",
    "            venue['venue']['categories'][0]['name']) for venue in results])\n",
    "\n",
    "    nearby_venues = pd.DataFrame([item for venue_list in venues_list for item in venue_list])\n",
    "    nearby_venues.columns = ['Neighborhood', \n",
    "                  'Neighborhood Latitude', \n",
    "                  'Neighborhood Longitude', \n",
    "                  'Venue', \n",
    "                  'Venue Latitude', \n",
    "                  'Venue Longitude', \n",
    "                  'Venue Category']\n",
    "    \n",
    "    return(nearby_venues)\n",
    "        "
   ]
  },
  {
   "cell_type": "code",
   "execution_count": 391,
   "metadata": {},
   "outputs": [
    {
     "output_type": "error",
     "ename": "Error",
     "evalue": "connect ECONNREFUSED 127.0.0.1:62978",
     "traceback": [
      "Error: connect ECONNREFUSED 127.0.0.1:62978",
      "at TCPConnectWrap.afterConnect [as oncomplete] (net.js:1141:16)"
     ]
    }
   ],
   "source": [
    "north_york_venues = getNearbyVenues(north_york_data[\"Neighborhood\"], north_york_data[\"Latitude\"], north_york_data[\"Longitude\"])\n",
    "north_york_venues"
   ]
  },
  {
   "cell_type": "code",
   "execution_count": null,
   "metadata": {},
   "outputs": [
    {
     "output_type": "error",
     "ename": "Error",
     "evalue": "connect ECONNREFUSED 127.0.0.1:62978",
     "traceback": [
      "Error: connect ECONNREFUSED 127.0.0.1:62978",
      "at TCPConnectWrap.afterConnect [as oncomplete] (net.js:1141:16)"
     ]
    }
   ],
   "source": [
    "\n",
    "print(north_york_venues.groupby(\"Neighborhood\").count().shape)\n",
    "north_york_venues.groupby(\"Neighborhood\").count()\n",
    "#\n"
   ]
  },
  {
   "cell_type": "code",
   "execution_count": null,
   "metadata": {},
   "outputs": [],
   "source": [
    "# one of the neighborhoods in north york have no nearby places with a 500m range"
   ]
  },
  {
   "source": [
    "## Analyzing North York Neighbourhoods\n",
    "To be able to use this information for clustering we create dummy variables for each category"
   ],
   "cell_type": "markdown",
   "metadata": {}
  },
  {
   "cell_type": "code",
   "execution_count": 369,
   "metadata": {},
   "outputs": [],
   "source": [
    "\n",
    "# add neighborhood column back to dataframe\n",
    "north_york_dummies = pd.get_dummies(north_york_venues[['Venue Category']], prefix=\"\", prefix_sep=\"\")\n",
    "north_york_dummies['Neighborhood'] = north_york_venues['Neighborhood'] \n",
    "\n",
    "# move neighborhood column to the first column\n",
    "fixed_columns = [north_york_dummies.columns[-1]] + list(north_york_dummies.columns[:-1])\n",
    "north_york_dummies = north_york_dummies[fixed_columns]\n"
   ]
  },
  {
   "cell_type": "code",
   "execution_count": 370,
   "metadata": {},
   "outputs": [
    {
     "output_type": "execute_result",
     "data": {
      "text/plain": [
       "                                         Neighborhood  Accessories Store  \\\n",
       "0   Bathurst Manor , Wilson Heights , Downsview North           0.000000   \n",
       "1                                     Bayview Village           0.000000   \n",
       "2                  Bedford Park , Lawrence Manor East           0.000000   \n",
       "3                                     Don Mills North           0.000000   \n",
       "4                                     Don Mills South           0.000000   \n",
       "5                                   Downsview Central           0.000000   \n",
       "6                                      Downsview East           0.000000   \n",
       "7                                 Downsview Northwest           0.000000   \n",
       "8                                      Downsview West           0.000000   \n",
       "9                      Fairview , Henry Farm , Oriole           0.000000   \n",
       "10                                          Glencairn           0.000000   \n",
       "11                                  Hillcrest Village           0.000000   \n",
       "12                                      Humber Summit           0.000000   \n",
       "13                                  Humberlea , Emery           0.000000   \n",
       "14                  Lawrence Manor , Lawrence Heights           0.071429   \n",
       "15         North Park , Maple Leaf Park , Upwood Park           0.000000   \n",
       "16                   Northwood Park , York University           0.000000   \n",
       "17                                          Parkwoods           0.000000   \n",
       "18                                   Victoria Village           0.000000   \n",
       "19                           Willowdale , Newtonbrook           0.000000   \n",
       "20                                   Willowdale South           0.000000   \n",
       "21                                    Willowdale West           0.000000   \n",
       "22                                    York Mills West           0.000000   \n",
       "\n",
       "     Airport  American Restaurant  Art Gallery  Arts & Crafts Store  \\\n",
       "0   0.000000             0.000000     0.000000             0.000000   \n",
       "1   0.000000             0.000000     0.000000             0.000000   \n",
       "2   0.000000             0.040000     0.000000             0.000000   \n",
       "3   0.000000             0.000000     0.000000             0.000000   \n",
       "4   0.000000             0.000000     0.047619             0.000000   \n",
       "5   0.000000             0.000000     0.000000             0.000000   \n",
       "6   0.333333             0.000000     0.000000             0.000000   \n",
       "7   0.000000             0.000000     0.000000             0.000000   \n",
       "8   0.000000             0.000000     0.000000             0.000000   \n",
       "9   0.000000             0.015873     0.000000             0.000000   \n",
       "10  0.000000             0.000000     0.000000             0.000000   \n",
       "11  0.000000             0.000000     0.000000             0.000000   \n",
       "12  0.000000             0.000000     0.000000             0.000000   \n",
       "13  0.000000             0.000000     0.000000             0.000000   \n",
       "14  0.000000             0.000000     0.000000             0.000000   \n",
       "15  0.000000             0.000000     0.000000             0.000000   \n",
       "16  0.000000             0.000000     0.000000             0.000000   \n",
       "17  0.000000             0.000000     0.000000             0.000000   \n",
       "18  0.000000             0.000000     0.000000             0.000000   \n",
       "19  0.000000             0.000000     0.000000             0.000000   \n",
       "20  0.000000             0.000000     0.000000             0.029412   \n",
       "21  0.000000             0.000000     0.000000             0.000000   \n",
       "22  0.000000             0.000000     0.000000             0.000000   \n",
       "\n",
       "    Asian Restaurant  Athletics & Sports    Bakery      Bank       Bar  \\\n",
       "0           0.000000                 0.0  0.000000  0.083333  0.000000   \n",
       "1           0.000000                 0.0  0.000000  0.250000  0.000000   \n",
       "2           0.000000                 0.0  0.000000  0.000000  0.000000   \n",
       "3           0.000000                 0.0  0.000000  0.000000  0.000000   \n",
       "4           0.047619                 0.0  0.000000  0.000000  0.000000   \n",
       "5           0.000000                 0.0  0.000000  0.000000  0.000000   \n",
       "6           0.000000                 0.0  0.000000  0.000000  0.000000   \n",
       "7           0.000000                 0.2  0.000000  0.000000  0.000000   \n",
       "8           0.000000                 0.0  0.000000  0.200000  0.000000   \n",
       "9           0.015873                 0.0  0.031746  0.031746  0.015873   \n",
       "10          0.000000                 0.0  0.250000  0.000000  0.000000   \n",
       "11          0.000000                 0.0  0.000000  0.000000  0.000000   \n",
       "12          0.000000                 0.0  0.000000  0.000000  0.000000   \n",
       "13          0.000000                 0.0  0.000000  0.000000  0.000000   \n",
       "14          0.000000                 0.0  0.000000  0.000000  0.000000   \n",
       "15          0.000000                 0.0  0.250000  0.000000  0.000000   \n",
       "16          0.000000                 0.0  0.000000  0.000000  0.142857   \n",
       "17          0.000000                 0.0  0.000000  0.000000  0.000000   \n",
       "18          0.000000                 0.0  0.000000  0.000000  0.000000   \n",
       "19          0.000000                 0.0  0.000000  0.000000  0.000000   \n",
       "20          0.000000                 0.0  0.000000  0.029412  0.000000   \n",
       "21          0.000000                 0.0  0.000000  0.000000  0.000000   \n",
       "22          0.000000                 0.0  0.000000  0.000000  0.000000   \n",
       "\n",
       "    Baseball Field  Basketball Court  Beer Store  Bike Shop  Boutique  \\\n",
       "0         0.000000              0.00    0.000000   0.000000  0.000000   \n",
       "1         0.000000              0.00    0.000000   0.000000  0.000000   \n",
       "2         0.000000              0.00    0.000000   0.000000  0.000000   \n",
       "3         0.000000              0.00    0.000000   0.000000  0.000000   \n",
       "4         0.000000              0.00    0.047619   0.047619  0.000000   \n",
       "5         0.333333              0.00    0.000000   0.000000  0.000000   \n",
       "6         0.000000              0.00    0.000000   0.000000  0.000000   \n",
       "7         0.000000              0.00    0.000000   0.000000  0.000000   \n",
       "8         0.000000              0.00    0.000000   0.000000  0.000000   \n",
       "9         0.015873              0.00    0.000000   0.000000  0.015873   \n",
       "10        0.000000              0.00    0.000000   0.000000  0.000000   \n",
       "11        0.000000              0.00    0.000000   0.000000  0.000000   \n",
       "12        0.000000              0.00    0.000000   0.000000  0.000000   \n",
       "13        0.500000              0.00    0.000000   0.000000  0.000000   \n",
       "14        0.000000              0.00    0.000000   0.000000  0.071429   \n",
       "15        0.000000              0.25    0.000000   0.000000  0.000000   \n",
       "16        0.000000              0.00    0.000000   0.000000  0.000000   \n",
       "17        0.000000              0.00    0.000000   0.000000  0.000000   \n",
       "18        0.000000              0.00    0.000000   0.000000  0.000000   \n",
       "19        0.000000              0.00    0.000000   0.000000  0.000000   \n",
       "20        0.000000              0.00    0.000000   0.000000  0.000000   \n",
       "21        0.000000              0.00    0.000000   0.000000  0.000000   \n",
       "22        0.000000              0.00    0.000000   0.000000  0.000000   \n",
       "\n",
       "    Bridal Shop  Bubble Tea Shop  Burger Joint  Burrito Place  Bus Station  \\\n",
       "0      0.041667         0.000000      0.000000       0.000000     0.000000   \n",
       "1      0.000000         0.000000      0.000000       0.000000     0.000000   \n",
       "2      0.000000         0.000000      0.000000       0.000000     0.000000   \n",
       "3      0.000000         0.000000      0.000000       0.000000     0.000000   \n",
       "4      0.000000         0.000000      0.000000       0.000000     0.000000   \n",
       "5      0.000000         0.000000      0.000000       0.000000     0.000000   \n",
       "6      0.000000         0.000000      0.000000       0.000000     0.000000   \n",
       "7      0.000000         0.000000      0.000000       0.000000     0.000000   \n",
       "8      0.000000         0.000000      0.000000       0.000000     0.000000   \n",
       "9      0.000000         0.000000      0.015873       0.015873     0.015873   \n",
       "10     0.000000         0.000000      0.000000       0.000000     0.000000   \n",
       "11     0.000000         0.000000      0.000000       0.000000     0.000000   \n",
       "12     0.000000         0.000000      0.000000       0.000000     0.000000   \n",
       "13     0.000000         0.000000      0.000000       0.000000     0.000000   \n",
       "14     0.000000         0.000000      0.000000       0.000000     0.000000   \n",
       "15     0.000000         0.000000      0.000000       0.000000     0.000000   \n",
       "16     0.000000         0.000000      0.000000       0.000000     0.000000   \n",
       "17     0.000000         0.000000      0.000000       0.000000     0.000000   \n",
       "18     0.000000         0.000000      0.000000       0.000000     0.000000   \n",
       "19     0.000000         0.000000      0.000000       0.000000     0.000000   \n",
       "20     0.000000         0.029412      0.000000       0.000000     0.000000   \n",
       "21     0.000000         0.000000      0.000000       0.000000     0.000000   \n",
       "22     0.000000         0.000000      0.000000       0.000000     0.000000   \n",
       "\n",
       "    Business Service  Butcher      Café  Caribbean Restaurant  Carpet Store  \\\n",
       "0           0.000000     0.00  0.000000              0.000000      0.000000   \n",
       "1           0.000000     0.00  0.250000              0.000000      0.000000   \n",
       "2           0.000000     0.04  0.040000              0.000000      0.000000   \n",
       "3           0.000000     0.00  0.250000              0.250000      0.000000   \n",
       "4           0.000000     0.00  0.000000              0.000000      0.000000   \n",
       "5           0.333333     0.00  0.000000              0.000000      0.000000   \n",
       "6           0.333333     0.00  0.000000              0.000000      0.000000   \n",
       "7           0.000000     0.00  0.000000              0.000000      0.000000   \n",
       "8           0.000000     0.00  0.000000              0.000000      0.000000   \n",
       "9           0.000000     0.00  0.000000              0.000000      0.000000   \n",
       "10          0.000000     0.00  0.000000              0.000000      0.000000   \n",
       "11          0.000000     0.00  0.000000              0.000000      0.000000   \n",
       "12          0.000000     0.00  0.000000              0.333333      0.000000   \n",
       "13          0.000000     0.00  0.000000              0.000000      0.000000   \n",
       "14          0.000000     0.00  0.000000              0.000000      0.071429   \n",
       "15          0.000000     0.00  0.000000              0.000000      0.000000   \n",
       "16          0.000000     0.00  0.000000              0.142857      0.000000   \n",
       "17          0.000000     0.00  0.000000              0.000000      0.000000   \n",
       "18          0.000000     0.00  0.000000              0.000000      0.000000   \n",
       "19          0.000000     0.00  0.000000              0.000000      0.000000   \n",
       "20          0.000000     0.00  0.058824              0.000000      0.000000   \n",
       "21          0.000000     0.00  0.000000              0.000000      0.000000   \n",
       "22          0.000000     0.00  0.000000              0.000000      0.000000   \n",
       "\n",
       "    Chinese Restaurant  Chocolate Shop  Clothing Store  Coffee Shop  \\\n",
       "0             0.041667        0.000000        0.000000     0.083333   \n",
       "1             0.250000        0.000000        0.000000     0.000000   \n",
       "2             0.000000        0.000000        0.000000     0.080000   \n",
       "3             0.000000        0.000000        0.000000     0.000000   \n",
       "4             0.047619        0.000000        0.047619     0.095238   \n",
       "5             0.000000        0.000000        0.000000     0.000000   \n",
       "6             0.000000        0.000000        0.000000     0.000000   \n",
       "7             0.000000        0.000000        0.000000     0.000000   \n",
       "8             0.000000        0.000000        0.000000     0.000000   \n",
       "9             0.015873        0.015873        0.126984     0.079365   \n",
       "10            0.000000        0.000000        0.000000     0.000000   \n",
       "11            0.000000        0.000000        0.000000     0.000000   \n",
       "12            0.000000        0.000000        0.000000     0.000000   \n",
       "13            0.000000        0.000000        0.000000     0.000000   \n",
       "14            0.000000        0.000000        0.285714     0.071429   \n",
       "15            0.000000        0.000000        0.000000     0.000000   \n",
       "16            0.000000        0.000000        0.000000     0.142857   \n",
       "17            0.000000        0.000000        0.000000     0.000000   \n",
       "18            0.000000        0.000000        0.000000     0.250000   \n",
       "19            0.000000        0.000000        0.000000     0.000000   \n",
       "20            0.000000        0.000000        0.000000     0.088235   \n",
       "21            0.000000        0.000000        0.000000     0.250000   \n",
       "22            0.000000        0.000000        0.000000     0.000000   \n",
       "\n",
       "    Comfort Food Restaurant  Construction & Landscaping  Convenience Store  \\\n",
       "0                      0.00                    0.000000           0.000000   \n",
       "1                      0.00                    0.000000           0.000000   \n",
       "2                      0.04                    0.000000           0.000000   \n",
       "3                      0.00                    0.000000           0.000000   \n",
       "4                      0.00                    0.000000           0.000000   \n",
       "5                      0.00                    0.000000           0.000000   \n",
       "6                      0.00                    0.000000           0.000000   \n",
       "7                      0.00                    0.000000           0.000000   \n",
       "8                      0.00                    0.000000           0.000000   \n",
       "9                      0.00                    0.000000           0.015873   \n",
       "10                     0.00                    0.000000           0.000000   \n",
       "11                     0.00                    0.000000           0.000000   \n",
       "12                     0.00                    0.000000           0.000000   \n",
       "13                     0.00                    0.000000           0.000000   \n",
       "14                     0.00                    0.000000           0.000000   \n",
       "15                     0.00                    0.250000           0.000000   \n",
       "16                     0.00                    0.000000           0.000000   \n",
       "17                     0.00                    0.000000           0.000000   \n",
       "18                     0.00                    0.000000           0.000000   \n",
       "19                     0.00                    0.000000           0.000000   \n",
       "20                     0.00                    0.000000           0.000000   \n",
       "21                     0.00                    0.000000           0.000000   \n",
       "22                     0.00                    0.333333           0.333333   \n",
       "\n",
       "    Cosmetics Shop  Deli / Bodega  Department Store  Dim Sum Restaurant  \\\n",
       "0         0.000000       0.041667          0.000000            0.000000   \n",
       "1         0.000000       0.000000          0.000000            0.000000   \n",
       "2         0.000000       0.000000          0.000000            0.000000   \n",
       "3         0.000000       0.000000          0.000000            0.000000   \n",
       "4         0.000000       0.000000          0.000000            0.047619   \n",
       "5         0.000000       0.000000          0.000000            0.000000   \n",
       "6         0.000000       0.000000          0.000000            0.000000   \n",
       "7         0.000000       0.000000          0.000000            0.000000   \n",
       "8         0.000000       0.000000          0.000000            0.000000   \n",
       "9         0.015873       0.000000          0.015873            0.000000   \n",
       "10        0.000000       0.000000          0.000000            0.000000   \n",
       "11        0.000000       0.000000          0.000000            0.000000   \n",
       "12        0.000000       0.000000          0.000000            0.000000   \n",
       "13        0.000000       0.000000          0.000000            0.000000   \n",
       "14        0.000000       0.000000          0.000000            0.000000   \n",
       "15        0.000000       0.000000          0.000000            0.000000   \n",
       "16        0.000000       0.000000          0.000000            0.000000   \n",
       "17        0.000000       0.000000          0.000000            0.000000   \n",
       "18        0.000000       0.000000          0.000000            0.000000   \n",
       "19        0.000000       0.000000          0.000000            0.000000   \n",
       "20        0.000000       0.000000          0.000000            0.000000   \n",
       "21        0.000000       0.000000          0.000000            0.000000   \n",
       "22        0.000000       0.000000          0.000000            0.000000   \n",
       "\n",
       "       Diner  Discount Store  Distribution Center  Dog Run  Electronics Store  \\\n",
       "0   0.041667        0.000000             0.000000      0.0           0.000000   \n",
       "1   0.000000        0.000000             0.000000      0.0           0.000000   \n",
       "2   0.000000        0.000000             0.000000      0.0           0.000000   \n",
       "3   0.000000        0.000000             0.000000      0.0           0.000000   \n",
       "4   0.000000        0.047619             0.000000      0.0           0.000000   \n",
       "5   0.000000        0.000000             0.000000      0.0           0.000000   \n",
       "6   0.000000        0.000000             0.000000      0.0           0.000000   \n",
       "7   0.000000        0.200000             0.000000      0.0           0.000000   \n",
       "8   0.000000        0.000000             0.000000      0.0           0.000000   \n",
       "9   0.000000        0.000000             0.015873      0.0           0.015873   \n",
       "10  0.000000        0.000000             0.000000      0.0           0.000000   \n",
       "11  0.000000        0.000000             0.000000      0.2           0.000000   \n",
       "12  0.000000        0.000000             0.000000      0.0           0.000000   \n",
       "13  0.000000        0.000000             0.000000      0.0           0.000000   \n",
       "14  0.000000        0.000000             0.000000      0.0           0.000000   \n",
       "15  0.000000        0.000000             0.000000      0.0           0.000000   \n",
       "16  0.000000        0.000000             0.000000      0.0           0.000000   \n",
       "17  0.000000        0.000000             0.000000      0.0           0.000000   \n",
       "18  0.000000        0.000000             0.000000      0.0           0.000000   \n",
       "19  0.000000        0.000000             0.000000      0.0           0.000000   \n",
       "20  0.000000        0.029412             0.000000      0.0           0.029412   \n",
       "21  0.000000        0.000000             0.000000      0.0           0.000000   \n",
       "22  0.000000        0.000000             0.000000      0.0           0.000000   \n",
       "\n",
       "    Fast Food Restaurant  Food & Drink Shop  Food Court  Food Truck  \\\n",
       "0               0.000000                0.0    0.000000    0.000000   \n",
       "1               0.000000                0.0    0.000000    0.000000   \n",
       "2               0.040000                0.0    0.000000    0.000000   \n",
       "3               0.000000                0.0    0.000000    0.000000   \n",
       "4               0.000000                0.0    0.000000    0.000000   \n",
       "5               0.000000                0.0    0.000000    0.333333   \n",
       "6               0.000000                0.0    0.000000    0.000000   \n",
       "7               0.000000                0.0    0.000000    0.000000   \n",
       "8               0.000000                0.0    0.000000    0.000000   \n",
       "9               0.063492                0.0    0.031746    0.000000   \n",
       "10              0.000000                0.0    0.000000    0.000000   \n",
       "11              0.200000                0.0    0.000000    0.000000   \n",
       "12              0.000000                0.0    0.000000    0.000000   \n",
       "13              0.000000                0.0    0.000000    0.000000   \n",
       "14              0.000000                0.0    0.000000    0.000000   \n",
       "15              0.000000                0.0    0.000000    0.000000   \n",
       "16              0.000000                0.0    0.000000    0.000000   \n",
       "17              0.000000                0.5    0.000000    0.000000   \n",
       "18              0.000000                0.0    0.000000    0.000000   \n",
       "19              0.000000                0.0    0.000000    0.000000   \n",
       "20              0.029412                0.0    0.000000    0.000000   \n",
       "21              0.000000                0.0    0.000000    0.000000   \n",
       "22              0.000000                0.0    0.000000    0.000000   \n",
       "\n",
       "    Fried Chicken Joint  Frozen Yogurt Shop  Furniture / Home Store  \\\n",
       "0              0.041667            0.041667                0.000000   \n",
       "1              0.000000            0.000000                0.000000   \n",
       "2              0.000000            0.000000                0.000000   \n",
       "3              0.000000            0.000000                0.000000   \n",
       "4              0.000000            0.000000                0.000000   \n",
       "5              0.000000            0.000000                0.000000   \n",
       "6              0.000000            0.000000                0.000000   \n",
       "7              0.000000            0.000000                0.000000   \n",
       "8              0.000000            0.000000                0.000000   \n",
       "9              0.000000            0.000000                0.000000   \n",
       "10             0.000000            0.000000                0.000000   \n",
       "11             0.000000            0.000000                0.000000   \n",
       "12             0.000000            0.000000                0.000000   \n",
       "13             0.000000            0.000000                0.000000   \n",
       "14             0.000000            0.000000                0.071429   \n",
       "15             0.000000            0.000000                0.000000   \n",
       "16             0.000000            0.000000                0.142857   \n",
       "17             0.000000            0.000000                0.000000   \n",
       "18             0.000000            0.000000                0.000000   \n",
       "19             0.000000            0.000000                0.000000   \n",
       "20             0.000000            0.000000                0.000000   \n",
       "21             0.000000            0.000000                0.000000   \n",
       "22             0.000000            0.000000                0.000000   \n",
       "\n",
       "    Gas Station  Gift Shop  Golf Course  Greek Restaurant  Grocery Store  \\\n",
       "0      0.041667   0.041667          0.0              0.00       0.041667   \n",
       "1      0.000000   0.000000          0.0              0.00       0.000000   \n",
       "2      0.000000   0.000000          0.0              0.04       0.040000   \n",
       "3      0.000000   0.000000          0.0              0.00       0.000000   \n",
       "4      0.000000   0.000000          0.0              0.00       0.047619   \n",
       "5      0.000000   0.000000          0.0              0.00       0.000000   \n",
       "6      0.000000   0.000000          0.0              0.00       0.000000   \n",
       "7      0.000000   0.000000          0.0              0.00       0.200000   \n",
       "8      0.000000   0.000000          0.0              0.00       0.200000   \n",
       "9      0.000000   0.000000          0.0              0.00       0.000000   \n",
       "10     0.000000   0.000000          0.0              0.00       0.000000   \n",
       "11     0.000000   0.000000          0.2              0.00       0.000000   \n",
       "12     0.000000   0.000000          0.0              0.00       0.000000   \n",
       "13     0.000000   0.000000          0.0              0.00       0.000000   \n",
       "14     0.000000   0.071429          0.0              0.00       0.000000   \n",
       "15     0.000000   0.000000          0.0              0.00       0.000000   \n",
       "16     0.000000   0.000000          0.0              0.00       0.000000   \n",
       "17     0.000000   0.000000          0.0              0.00       0.000000   \n",
       "18     0.000000   0.000000          0.0              0.00       0.000000   \n",
       "19     0.000000   0.000000          0.0              0.00       0.000000   \n",
       "20     0.000000   0.000000          0.0              0.00       0.029412   \n",
       "21     0.000000   0.000000          0.0              0.00       0.000000   \n",
       "22     0.000000   0.000000          0.0              0.00       0.000000   \n",
       "\n",
       "         Gym  Gym / Fitness Center  Health Food Store  Hockey Arena     Hotel  \\\n",
       "0   0.000000                   0.0           0.041667          0.00  0.000000   \n",
       "1   0.000000                   0.0           0.000000          0.00  0.000000   \n",
       "2   0.000000                   0.0           0.000000          0.00  0.000000   \n",
       "3   0.250000                   0.0           0.000000          0.00  0.000000   \n",
       "4   0.095238                   0.0           0.000000          0.00  0.000000   \n",
       "5   0.000000                   0.0           0.000000          0.00  0.000000   \n",
       "6   0.000000                   0.0           0.000000          0.00  0.000000   \n",
       "7   0.000000                   0.2           0.000000          0.00  0.000000   \n",
       "8   0.000000                   0.0           0.000000          0.00  0.200000   \n",
       "9   0.000000                   0.0           0.000000          0.00  0.000000   \n",
       "10  0.000000                   0.0           0.000000          0.00  0.000000   \n",
       "11  0.000000                   0.0           0.000000          0.00  0.000000   \n",
       "12  0.000000                   0.0           0.000000          0.00  0.000000   \n",
       "13  0.000000                   0.0           0.000000          0.00  0.000000   \n",
       "14  0.000000                   0.0           0.000000          0.00  0.000000   \n",
       "15  0.000000                   0.0           0.000000          0.00  0.000000   \n",
       "16  0.000000                   0.0           0.000000          0.00  0.000000   \n",
       "17  0.000000                   0.0           0.000000          0.00  0.000000   \n",
       "18  0.000000                   0.0           0.000000          0.25  0.000000   \n",
       "19  0.500000                   0.0           0.000000          0.00  0.000000   \n",
       "20  0.000000                   0.0           0.000000          0.00  0.029412   \n",
       "21  0.000000                   0.0           0.000000          0.00  0.000000   \n",
       "22  0.000000                   0.0           0.000000          0.00  0.000000   \n",
       "\n",
       "    Ice Cream Shop  Indian Restaurant  Intersection  Italian Restaurant  \\\n",
       "0         0.041667               0.00      0.000000            0.000000   \n",
       "1         0.000000               0.00      0.000000            0.000000   \n",
       "2         0.000000               0.04      0.000000            0.080000   \n",
       "3         0.000000               0.00      0.000000            0.000000   \n",
       "4         0.000000               0.00      0.000000            0.047619   \n",
       "5         0.000000               0.00      0.000000            0.000000   \n",
       "6         0.000000               0.00      0.000000            0.000000   \n",
       "7         0.000000               0.00      0.000000            0.000000   \n",
       "8         0.000000               0.00      0.000000            0.000000   \n",
       "9         0.000000               0.00      0.000000            0.000000   \n",
       "10        0.000000               0.00      0.000000            0.000000   \n",
       "11        0.000000               0.00      0.000000            0.000000   \n",
       "12        0.000000               0.00      0.333333            0.000000   \n",
       "13        0.000000               0.00      0.000000            0.000000   \n",
       "14        0.000000               0.00      0.000000            0.000000   \n",
       "15        0.000000               0.00      0.000000            0.000000   \n",
       "16        0.000000               0.00      0.000000            0.000000   \n",
       "17        0.000000               0.00      0.000000            0.000000   \n",
       "18        0.000000               0.00      0.000000            0.000000   \n",
       "19        0.000000               0.00      0.000000            0.000000   \n",
       "20        0.029412               0.00      0.000000            0.000000   \n",
       "21        0.000000               0.00      0.000000            0.000000   \n",
       "22        0.000000               0.00      0.000000            0.000000   \n",
       "\n",
       "    Japanese Restaurant  Jewelry Store  Juice Bar  Korean Restaurant  \\\n",
       "0              0.000000       0.000000   0.000000           0.000000   \n",
       "1              0.250000       0.000000   0.000000           0.000000   \n",
       "2              0.000000       0.000000   0.040000           0.000000   \n",
       "3              0.250000       0.000000   0.000000           0.000000   \n",
       "4              0.000000       0.000000   0.000000           0.000000   \n",
       "5              0.000000       0.000000   0.000000           0.000000   \n",
       "6              0.000000       0.000000   0.000000           0.000000   \n",
       "7              0.000000       0.000000   0.000000           0.000000   \n",
       "8              0.000000       0.000000   0.000000           0.000000   \n",
       "9              0.047619       0.015873   0.031746           0.000000   \n",
       "10             0.250000       0.000000   0.000000           0.000000   \n",
       "11             0.000000       0.000000   0.000000           0.000000   \n",
       "12             0.000000       0.000000   0.000000           0.000000   \n",
       "13             0.000000       0.000000   0.000000           0.000000   \n",
       "14             0.000000       0.000000   0.000000           0.000000   \n",
       "15             0.000000       0.000000   0.000000           0.000000   \n",
       "16             0.000000       0.000000   0.000000           0.000000   \n",
       "17             0.000000       0.000000   0.000000           0.000000   \n",
       "18             0.000000       0.000000   0.000000           0.000000   \n",
       "19             0.000000       0.000000   0.000000           0.000000   \n",
       "20             0.029412       0.000000   0.029412           0.029412   \n",
       "21             0.000000       0.000000   0.000000           0.000000   \n",
       "22             0.000000       0.000000   0.000000           0.000000   \n",
       "\n",
       "    Lingerie Store  Liquor Store    Lounge  Luggage Store  Massage Studio  \\\n",
       "0         0.000000      0.000000  0.000000       0.000000        0.000000   \n",
       "1         0.000000      0.000000  0.000000       0.000000        0.000000   \n",
       "2         0.000000      0.040000  0.000000       0.000000        0.000000   \n",
       "3         0.000000      0.000000  0.000000       0.000000        0.000000   \n",
       "4         0.000000      0.000000  0.000000       0.000000        0.000000   \n",
       "5         0.000000      0.000000  0.000000       0.000000        0.000000   \n",
       "6         0.000000      0.000000  0.000000       0.000000        0.000000   \n",
       "7         0.000000      0.200000  0.000000       0.000000        0.000000   \n",
       "8         0.000000      0.000000  0.000000       0.000000        0.000000   \n",
       "9         0.015873      0.015873  0.000000       0.015873        0.000000   \n",
       "10        0.000000      0.000000  0.000000       0.000000        0.000000   \n",
       "11        0.000000      0.000000  0.000000       0.000000        0.000000   \n",
       "12        0.000000      0.000000  0.000000       0.000000        0.000000   \n",
       "13        0.000000      0.000000  0.000000       0.000000        0.000000   \n",
       "14        0.000000      0.000000  0.000000       0.000000        0.000000   \n",
       "15        0.000000      0.000000  0.000000       0.000000        0.000000   \n",
       "16        0.000000      0.000000  0.000000       0.000000        0.142857   \n",
       "17        0.000000      0.000000  0.000000       0.000000        0.000000   \n",
       "18        0.000000      0.000000  0.000000       0.000000        0.000000   \n",
       "19        0.000000      0.000000  0.000000       0.000000        0.000000   \n",
       "20        0.000000      0.000000  0.029412       0.000000        0.000000   \n",
       "21        0.000000      0.000000  0.000000       0.000000        0.000000   \n",
       "22        0.000000      0.000000  0.000000       0.000000        0.000000   \n",
       "\n",
       "    Mediterranean Restaurant  Men's Store  Metro Station  \\\n",
       "0                        0.0     0.000000       0.000000   \n",
       "1                        0.0     0.000000       0.000000   \n",
       "2                        0.0     0.000000       0.000000   \n",
       "3                        0.0     0.000000       0.000000   \n",
       "4                        0.0     0.000000       0.000000   \n",
       "5                        0.0     0.000000       0.000000   \n",
       "6                        0.0     0.000000       0.000000   \n",
       "7                        0.0     0.000000       0.000000   \n",
       "8                        0.0     0.000000       0.000000   \n",
       "9                        0.0     0.015873       0.000000   \n",
       "10                       0.0     0.000000       0.000000   \n",
       "11                       0.2     0.000000       0.000000   \n",
       "12                       0.0     0.000000       0.000000   \n",
       "13                       0.0     0.000000       0.000000   \n",
       "14                       0.0     0.000000       0.000000   \n",
       "15                       0.0     0.000000       0.000000   \n",
       "16                       0.0     0.000000       0.142857   \n",
       "17                       0.0     0.000000       0.000000   \n",
       "18                       0.0     0.000000       0.000000   \n",
       "19                       0.0     0.000000       0.000000   \n",
       "20                       0.0     0.000000       0.000000   \n",
       "21                       0.0     0.000000       0.000000   \n",
       "22                       0.0     0.000000       0.000000   \n",
       "\n",
       "    Middle Eastern Restaurant  Miscellaneous Shop  Mobile Phone Shop  \\\n",
       "0                    0.041667            0.000000           0.041667   \n",
       "1                    0.000000            0.000000           0.000000   \n",
       "2                    0.000000            0.000000           0.000000   \n",
       "3                    0.000000            0.000000           0.000000   \n",
       "4                    0.000000            0.000000           0.000000   \n",
       "5                    0.000000            0.000000           0.000000   \n",
       "6                    0.000000            0.000000           0.000000   \n",
       "7                    0.000000            0.000000           0.000000   \n",
       "8                    0.000000            0.000000           0.000000   \n",
       "9                    0.000000            0.000000           0.015873   \n",
       "10                   0.000000            0.000000           0.000000   \n",
       "11                   0.000000            0.000000           0.000000   \n",
       "12                   0.000000            0.000000           0.000000   \n",
       "13                   0.000000            0.000000           0.000000   \n",
       "14                   0.000000            0.071429           0.000000   \n",
       "15                   0.000000            0.000000           0.000000   \n",
       "16                   0.000000            0.142857           0.000000   \n",
       "17                   0.000000            0.000000           0.000000   \n",
       "18                   0.000000            0.000000           0.000000   \n",
       "19                   0.000000            0.000000           0.000000   \n",
       "20                   0.029412            0.000000           0.000000   \n",
       "21                   0.000000            0.000000           0.000000   \n",
       "22                   0.000000            0.000000           0.000000   \n",
       "\n",
       "    Movie Theater  Paper / Office Supplies Store      Park  Pet Store  \\\n",
       "0        0.000000                            0.0  0.000000   0.000000   \n",
       "1        0.000000                            0.0  0.000000   0.000000   \n",
       "2        0.000000                            0.0  0.000000   0.040000   \n",
       "3        0.000000                            0.0  0.000000   0.000000   \n",
       "4        0.000000                            0.0  0.000000   0.000000   \n",
       "5        0.000000                            0.0  0.000000   0.000000   \n",
       "6        0.000000                            0.0  0.333333   0.000000   \n",
       "7        0.000000                            0.0  0.000000   0.000000   \n",
       "8        0.000000                            0.0  0.200000   0.000000   \n",
       "9        0.015873                            0.0  0.000000   0.000000   \n",
       "10       0.000000                            0.0  0.000000   0.000000   \n",
       "11       0.000000                            0.0  0.000000   0.000000   \n",
       "12       0.000000                            0.0  0.000000   0.000000   \n",
       "13       0.000000                            0.5  0.000000   0.000000   \n",
       "14       0.000000                            0.0  0.000000   0.000000   \n",
       "15       0.000000                            0.0  0.250000   0.000000   \n",
       "16       0.000000                            0.0  0.000000   0.000000   \n",
       "17       0.000000                            0.0  0.500000   0.000000   \n",
       "18       0.000000                            0.0  0.000000   0.000000   \n",
       "19       0.000000                            0.0  0.500000   0.000000   \n",
       "20       0.029412                            0.0  0.000000   0.029412   \n",
       "21       0.000000                            0.0  0.000000   0.000000   \n",
       "22       0.000000                            0.0  0.333333   0.000000   \n",
       "\n",
       "    Pharmacy  Pizza Place  Playground     Plaza  Pool  Portuguese Restaurant  \\\n",
       "0   0.041667     0.041667        0.00  0.000000   0.0                   0.00   \n",
       "1   0.000000     0.000000        0.00  0.000000   0.0                   0.00   \n",
       "2   0.040000     0.080000        0.00  0.000000   0.0                   0.00   \n",
       "3   0.000000     0.000000        0.00  0.000000   0.0                   0.00   \n",
       "4   0.000000     0.000000        0.00  0.000000   0.0                   0.00   \n",
       "5   0.000000     0.000000        0.00  0.000000   0.0                   0.00   \n",
       "6   0.000000     0.000000        0.00  0.000000   0.0                   0.00   \n",
       "7   0.000000     0.000000        0.00  0.000000   0.0                   0.00   \n",
       "8   0.000000     0.000000        0.00  0.000000   0.0                   0.00   \n",
       "9   0.015873     0.000000        0.00  0.000000   0.0                   0.00   \n",
       "10  0.000000     0.000000        0.25  0.000000   0.0                   0.00   \n",
       "11  0.000000     0.000000        0.00  0.000000   0.2                   0.00   \n",
       "12  0.000000     0.333333        0.00  0.000000   0.0                   0.00   \n",
       "13  0.000000     0.000000        0.00  0.000000   0.0                   0.00   \n",
       "14  0.000000     0.000000        0.00  0.000000   0.0                   0.00   \n",
       "15  0.000000     0.000000        0.00  0.000000   0.0                   0.00   \n",
       "16  0.000000     0.000000        0.00  0.000000   0.0                   0.00   \n",
       "17  0.000000     0.000000        0.00  0.000000   0.0                   0.00   \n",
       "18  0.000000     0.250000        0.00  0.000000   0.0                   0.25   \n",
       "19  0.000000     0.000000        0.00  0.000000   0.0                   0.00   \n",
       "20  0.000000     0.058824        0.00  0.029412   0.0                   0.00   \n",
       "21  0.250000     0.250000        0.00  0.000000   0.0                   0.00   \n",
       "22  0.000000     0.000000        0.00  0.000000   0.0                   0.00   \n",
       "\n",
       "     Pub  Ramen Restaurant  Restaurant  Salon / Barbershop  Sandwich Place  \\\n",
       "0   0.00          0.000000    0.041667            0.000000        0.041667   \n",
       "1   0.00          0.000000    0.000000            0.000000        0.000000   \n",
       "2   0.04          0.000000    0.040000            0.000000        0.080000   \n",
       "3   0.00          0.000000    0.000000            0.000000        0.000000   \n",
       "4   0.00          0.000000    0.095238            0.000000        0.047619   \n",
       "5   0.00          0.000000    0.000000            0.000000        0.000000   \n",
       "6   0.00          0.000000    0.000000            0.000000        0.000000   \n",
       "7   0.00          0.000000    0.000000            0.000000        0.000000   \n",
       "8   0.00          0.000000    0.000000            0.000000        0.000000   \n",
       "9   0.00          0.000000    0.047619            0.015873        0.000000   \n",
       "10  0.00          0.000000    0.000000            0.000000        0.000000   \n",
       "11  0.00          0.000000    0.000000            0.000000        0.000000   \n",
       "12  0.00          0.000000    0.000000            0.000000        0.000000   \n",
       "13  0.00          0.000000    0.000000            0.000000        0.000000   \n",
       "14  0.00          0.000000    0.000000            0.000000        0.000000   \n",
       "15  0.00          0.000000    0.000000            0.000000        0.000000   \n",
       "16  0.00          0.000000    0.000000            0.000000        0.000000   \n",
       "17  0.00          0.000000    0.000000            0.000000        0.000000   \n",
       "18  0.00          0.000000    0.000000            0.000000        0.000000   \n",
       "19  0.00          0.000000    0.000000            0.000000        0.000000   \n",
       "20  0.00          0.088235    0.029412            0.000000        0.029412   \n",
       "21  0.00          0.000000    0.000000            0.000000        0.000000   \n",
       "22  0.00          0.000000    0.000000            0.000000        0.000000   \n",
       "\n",
       "    Shoe Store  Shopping Mall  Sporting Goods Shop  Supermarket  \\\n",
       "0     0.000000       0.041667             0.000000     0.041667   \n",
       "1     0.000000       0.000000             0.000000     0.000000   \n",
       "2     0.000000       0.000000             0.000000     0.000000   \n",
       "3     0.000000       0.000000             0.000000     0.000000   \n",
       "4     0.000000       0.047619             0.047619     0.047619   \n",
       "5     0.000000       0.000000             0.000000     0.000000   \n",
       "6     0.000000       0.000000             0.000000     0.000000   \n",
       "7     0.000000       0.000000             0.000000     0.000000   \n",
       "8     0.000000       0.200000             0.000000     0.000000   \n",
       "9     0.000000       0.015873             0.015873     0.000000   \n",
       "10    0.000000       0.000000             0.000000     0.000000   \n",
       "11    0.000000       0.000000             0.000000     0.000000   \n",
       "12    0.000000       0.000000             0.000000     0.000000   \n",
       "13    0.000000       0.000000             0.000000     0.000000   \n",
       "14    0.071429       0.000000             0.000000     0.000000   \n",
       "15    0.000000       0.000000             0.000000     0.000000   \n",
       "16    0.000000       0.000000             0.000000     0.000000   \n",
       "17    0.000000       0.000000             0.000000     0.000000   \n",
       "18    0.000000       0.000000             0.000000     0.000000   \n",
       "19    0.000000       0.000000             0.000000     0.000000   \n",
       "20    0.000000       0.058824             0.000000     0.000000   \n",
       "21    0.000000       0.000000             0.000000     0.000000   \n",
       "22    0.000000       0.000000             0.000000     0.000000   \n",
       "\n",
       "    Supplement Shop  Sushi Restaurant  Tea Room  Thai Restaurant   Theater  \\\n",
       "0          0.000000          0.041667  0.000000             0.00  0.000000   \n",
       "1          0.000000          0.000000  0.000000             0.00  0.000000   \n",
       "2          0.000000          0.040000  0.000000             0.04  0.000000   \n",
       "3          0.000000          0.000000  0.000000             0.00  0.000000   \n",
       "4          0.000000          0.047619  0.000000             0.00  0.000000   \n",
       "5          0.000000          0.000000  0.000000             0.00  0.000000   \n",
       "6          0.000000          0.000000  0.000000             0.00  0.000000   \n",
       "7          0.000000          0.000000  0.000000             0.00  0.000000   \n",
       "8          0.000000          0.000000  0.000000             0.00  0.000000   \n",
       "9          0.015873          0.000000  0.015873             0.00  0.015873   \n",
       "10         0.000000          0.250000  0.000000             0.00  0.000000   \n",
       "11         0.000000          0.000000  0.000000             0.00  0.000000   \n",
       "12         0.000000          0.000000  0.000000             0.00  0.000000   \n",
       "13         0.000000          0.000000  0.000000             0.00  0.000000   \n",
       "14         0.000000          0.000000  0.000000             0.00  0.000000   \n",
       "15         0.000000          0.000000  0.000000             0.00  0.000000   \n",
       "16         0.000000          0.000000  0.000000             0.00  0.000000   \n",
       "17         0.000000          0.000000  0.000000             0.00  0.000000   \n",
       "18         0.000000          0.000000  0.000000             0.00  0.000000   \n",
       "19         0.000000          0.000000  0.000000             0.00  0.000000   \n",
       "20         0.000000          0.058824  0.000000             0.00  0.000000   \n",
       "21         0.000000          0.000000  0.000000             0.00  0.000000   \n",
       "22         0.000000          0.000000  0.000000             0.00  0.000000   \n",
       "\n",
       "    Toy / Game Store  Video Game Store  Vietnamese Restaurant  Wine Bar  \\\n",
       "0           0.000000          0.000000               0.000000      0.00   \n",
       "1           0.000000          0.000000               0.000000      0.00   \n",
       "2           0.040000          0.000000               0.000000      0.00   \n",
       "3           0.000000          0.000000               0.000000      0.00   \n",
       "4           0.000000          0.000000               0.000000      0.00   \n",
       "5           0.000000          0.000000               0.000000      0.00   \n",
       "6           0.000000          0.000000               0.000000      0.00   \n",
       "7           0.000000          0.000000               0.000000      0.00   \n",
       "8           0.000000          0.000000               0.000000      0.00   \n",
       "9           0.015873          0.015873               0.000000      0.00   \n",
       "10          0.000000          0.000000               0.000000      0.00   \n",
       "11          0.000000          0.000000               0.000000      0.00   \n",
       "12          0.000000          0.000000               0.000000      0.00   \n",
       "13          0.000000          0.000000               0.000000      0.00   \n",
       "14          0.000000          0.000000               0.071429      0.00   \n",
       "15          0.000000          0.000000               0.000000      0.00   \n",
       "16          0.000000          0.000000               0.000000      0.00   \n",
       "17          0.000000          0.000000               0.000000      0.00   \n",
       "18          0.000000          0.000000               0.000000      0.00   \n",
       "19          0.000000          0.000000               0.000000      0.00   \n",
       "20          0.000000          0.000000               0.029412      0.00   \n",
       "21          0.000000          0.000000               0.000000      0.25   \n",
       "22          0.000000          0.000000               0.000000      0.00   \n",
       "\n",
       "    Women's Store  \n",
       "0        0.000000  \n",
       "1        0.000000  \n",
       "2        0.000000  \n",
       "3        0.000000  \n",
       "4        0.000000  \n",
       "5        0.000000  \n",
       "6        0.000000  \n",
       "7        0.000000  \n",
       "8        0.000000  \n",
       "9        0.015873  \n",
       "10       0.000000  \n",
       "11       0.000000  \n",
       "12       0.000000  \n",
       "13       0.000000  \n",
       "14       0.071429  \n",
       "15       0.000000  \n",
       "16       0.000000  \n",
       "17       0.000000  \n",
       "18       0.000000  \n",
       "19       0.000000  \n",
       "20       0.000000  \n",
       "21       0.000000  \n",
       "22       0.000000  "
      ],
      "text/html": "<div>\n<style scoped>\n    .dataframe tbody tr th:only-of-type {\n        vertical-align: middle;\n    }\n\n    .dataframe tbody tr th {\n        vertical-align: top;\n    }\n\n    .dataframe thead th {\n        text-align: right;\n    }\n</style>\n<table border=\"1\" class=\"dataframe\">\n  <thead>\n    <tr style=\"text-align: right;\">\n      <th></th>\n      <th>Neighborhood</th>\n      <th>Accessories Store</th>\n      <th>Airport</th>\n      <th>American Restaurant</th>\n      <th>Art Gallery</th>\n      <th>Arts &amp; Crafts Store</th>\n      <th>Asian Restaurant</th>\n      <th>Athletics &amp; Sports</th>\n      <th>Bakery</th>\n      <th>Bank</th>\n      <th>Bar</th>\n      <th>Baseball Field</th>\n      <th>Basketball Court</th>\n      <th>Beer Store</th>\n      <th>Bike Shop</th>\n      <th>Boutique</th>\n      <th>Bridal Shop</th>\n      <th>Bubble Tea Shop</th>\n      <th>Burger Joint</th>\n      <th>Burrito Place</th>\n      <th>Bus Station</th>\n      <th>Business Service</th>\n      <th>Butcher</th>\n      <th>Café</th>\n      <th>Caribbean Restaurant</th>\n      <th>Carpet Store</th>\n      <th>Chinese Restaurant</th>\n      <th>Chocolate Shop</th>\n      <th>Clothing Store</th>\n      <th>Coffee Shop</th>\n      <th>Comfort Food Restaurant</th>\n      <th>Construction &amp; Landscaping</th>\n      <th>Convenience Store</th>\n      <th>Cosmetics Shop</th>\n      <th>Deli / Bodega</th>\n      <th>Department Store</th>\n      <th>Dim Sum Restaurant</th>\n      <th>Diner</th>\n      <th>Discount Store</th>\n      <th>Distribution Center</th>\n      <th>Dog Run</th>\n      <th>Electronics Store</th>\n      <th>Fast Food Restaurant</th>\n      <th>Food &amp; Drink Shop</th>\n      <th>Food Court</th>\n      <th>Food Truck</th>\n      <th>Fried Chicken Joint</th>\n      <th>Frozen Yogurt Shop</th>\n      <th>Furniture / Home Store</th>\n      <th>Gas Station</th>\n      <th>Gift Shop</th>\n      <th>Golf Course</th>\n      <th>Greek Restaurant</th>\n      <th>Grocery Store</th>\n      <th>Gym</th>\n      <th>Gym / Fitness Center</th>\n      <th>Health Food Store</th>\n      <th>Hockey Arena</th>\n      <th>Hotel</th>\n      <th>Ice Cream Shop</th>\n      <th>Indian Restaurant</th>\n      <th>Intersection</th>\n      <th>Italian Restaurant</th>\n      <th>Japanese Restaurant</th>\n      <th>Jewelry Store</th>\n      <th>Juice Bar</th>\n      <th>Korean Restaurant</th>\n      <th>Lingerie Store</th>\n      <th>Liquor Store</th>\n      <th>Lounge</th>\n      <th>Luggage Store</th>\n      <th>Massage Studio</th>\n      <th>Mediterranean Restaurant</th>\n      <th>Men's Store</th>\n      <th>Metro Station</th>\n      <th>Middle Eastern Restaurant</th>\n      <th>Miscellaneous Shop</th>\n      <th>Mobile Phone Shop</th>\n      <th>Movie Theater</th>\n      <th>Paper / Office Supplies Store</th>\n      <th>Park</th>\n      <th>Pet Store</th>\n      <th>Pharmacy</th>\n      <th>Pizza Place</th>\n      <th>Playground</th>\n      <th>Plaza</th>\n      <th>Pool</th>\n      <th>Portuguese Restaurant</th>\n      <th>Pub</th>\n      <th>Ramen Restaurant</th>\n      <th>Restaurant</th>\n      <th>Salon / Barbershop</th>\n      <th>Sandwich Place</th>\n      <th>Shoe Store</th>\n      <th>Shopping Mall</th>\n      <th>Sporting Goods Shop</th>\n      <th>Supermarket</th>\n      <th>Supplement Shop</th>\n      <th>Sushi Restaurant</th>\n      <th>Tea Room</th>\n      <th>Thai Restaurant</th>\n      <th>Theater</th>\n      <th>Toy / Game Store</th>\n      <th>Video Game Store</th>\n      <th>Vietnamese Restaurant</th>\n      <th>Wine Bar</th>\n      <th>Women's Store</th>\n    </tr>\n  </thead>\n  <tbody>\n    <tr>\n      <th>0</th>\n      <td>Bathurst Manor , Wilson Heights , Downsview North</td>\n      <td>0.000000</td>\n      <td>0.000000</td>\n      <td>0.000000</td>\n      <td>0.000000</td>\n      <td>0.000000</td>\n      <td>0.000000</td>\n      <td>0.0</td>\n      <td>0.000000</td>\n      <td>0.083333</td>\n      <td>0.000000</td>\n      <td>0.000000</td>\n      <td>0.00</td>\n      <td>0.000000</td>\n      <td>0.000000</td>\n      <td>0.000000</td>\n      <td>0.041667</td>\n      <td>0.000000</td>\n      <td>0.000000</td>\n      <td>0.000000</td>\n      <td>0.000000</td>\n      <td>0.000000</td>\n      <td>0.00</td>\n      <td>0.000000</td>\n      <td>0.000000</td>\n      <td>0.000000</td>\n      <td>0.041667</td>\n      <td>0.000000</td>\n      <td>0.000000</td>\n      <td>0.083333</td>\n      <td>0.00</td>\n      <td>0.000000</td>\n      <td>0.000000</td>\n      <td>0.000000</td>\n      <td>0.041667</td>\n      <td>0.000000</td>\n      <td>0.000000</td>\n      <td>0.041667</td>\n      <td>0.000000</td>\n      <td>0.000000</td>\n      <td>0.0</td>\n      <td>0.000000</td>\n      <td>0.000000</td>\n      <td>0.0</td>\n      <td>0.000000</td>\n      <td>0.000000</td>\n      <td>0.041667</td>\n      <td>0.041667</td>\n      <td>0.000000</td>\n      <td>0.041667</td>\n      <td>0.041667</td>\n      <td>0.0</td>\n      <td>0.00</td>\n      <td>0.041667</td>\n      <td>0.000000</td>\n      <td>0.0</td>\n      <td>0.041667</td>\n      <td>0.00</td>\n      <td>0.000000</td>\n      <td>0.041667</td>\n      <td>0.00</td>\n      <td>0.000000</td>\n      <td>0.000000</td>\n      <td>0.000000</td>\n      <td>0.000000</td>\n      <td>0.000000</td>\n      <td>0.000000</td>\n      <td>0.000000</td>\n      <td>0.000000</td>\n      <td>0.000000</td>\n      <td>0.000000</td>\n      <td>0.000000</td>\n      <td>0.0</td>\n      <td>0.000000</td>\n      <td>0.000000</td>\n      <td>0.041667</td>\n      <td>0.000000</td>\n      <td>0.041667</td>\n      <td>0.000000</td>\n      <td>0.0</td>\n      <td>0.000000</td>\n      <td>0.000000</td>\n      <td>0.041667</td>\n      <td>0.041667</td>\n      <td>0.00</td>\n      <td>0.000000</td>\n      <td>0.0</td>\n      <td>0.00</td>\n      <td>0.00</td>\n      <td>0.000000</td>\n      <td>0.041667</td>\n      <td>0.000000</td>\n      <td>0.041667</td>\n      <td>0.000000</td>\n      <td>0.041667</td>\n      <td>0.000000</td>\n      <td>0.041667</td>\n      <td>0.000000</td>\n      <td>0.041667</td>\n      <td>0.000000</td>\n      <td>0.00</td>\n      <td>0.000000</td>\n      <td>0.000000</td>\n      <td>0.000000</td>\n      <td>0.000000</td>\n      <td>0.00</td>\n      <td>0.000000</td>\n    </tr>\n    <tr>\n      <th>1</th>\n      <td>Bayview Village</td>\n      <td>0.000000</td>\n      <td>0.000000</td>\n      <td>0.000000</td>\n      <td>0.000000</td>\n      <td>0.000000</td>\n      <td>0.000000</td>\n      <td>0.0</td>\n      <td>0.000000</td>\n      <td>0.250000</td>\n      <td>0.000000</td>\n      <td>0.000000</td>\n      <td>0.00</td>\n      <td>0.000000</td>\n      <td>0.000000</td>\n      <td>0.000000</td>\n      <td>0.000000</td>\n      <td>0.000000</td>\n      <td>0.000000</td>\n      <td>0.000000</td>\n      <td>0.000000</td>\n      <td>0.000000</td>\n      <td>0.00</td>\n      <td>0.250000</td>\n      <td>0.000000</td>\n      <td>0.000000</td>\n      <td>0.250000</td>\n      <td>0.000000</td>\n      <td>0.000000</td>\n      <td>0.000000</td>\n      <td>0.00</td>\n      <td>0.000000</td>\n      <td>0.000000</td>\n      <td>0.000000</td>\n      <td>0.000000</td>\n      <td>0.000000</td>\n      <td>0.000000</td>\n      <td>0.000000</td>\n      <td>0.000000</td>\n      <td>0.000000</td>\n      <td>0.0</td>\n      <td>0.000000</td>\n      <td>0.000000</td>\n      <td>0.0</td>\n      <td>0.000000</td>\n      <td>0.000000</td>\n      <td>0.000000</td>\n      <td>0.000000</td>\n      <td>0.000000</td>\n      <td>0.000000</td>\n      <td>0.000000</td>\n      <td>0.0</td>\n      <td>0.00</td>\n      <td>0.000000</td>\n      <td>0.000000</td>\n      <td>0.0</td>\n      <td>0.000000</td>\n      <td>0.00</td>\n      <td>0.000000</td>\n      <td>0.000000</td>\n      <td>0.00</td>\n      <td>0.000000</td>\n      <td>0.000000</td>\n      <td>0.250000</td>\n      <td>0.000000</td>\n      <td>0.000000</td>\n      <td>0.000000</td>\n      <td>0.000000</td>\n      <td>0.000000</td>\n      <td>0.000000</td>\n      <td>0.000000</td>\n      <td>0.000000</td>\n      <td>0.0</td>\n      <td>0.000000</td>\n      <td>0.000000</td>\n      <td>0.000000</td>\n      <td>0.000000</td>\n      <td>0.000000</td>\n      <td>0.000000</td>\n      <td>0.0</td>\n      <td>0.000000</td>\n      <td>0.000000</td>\n      <td>0.000000</td>\n      <td>0.000000</td>\n      <td>0.00</td>\n      <td>0.000000</td>\n      <td>0.0</td>\n      <td>0.00</td>\n      <td>0.00</td>\n      <td>0.000000</td>\n      <td>0.000000</td>\n      <td>0.000000</td>\n      <td>0.000000</td>\n      <td>0.000000</td>\n      <td>0.000000</td>\n      <td>0.000000</td>\n      <td>0.000000</td>\n      <td>0.000000</td>\n      <td>0.000000</td>\n      <td>0.000000</td>\n      <td>0.00</td>\n      <td>0.000000</td>\n      <td>0.000000</td>\n      <td>0.000000</td>\n      <td>0.000000</td>\n      <td>0.00</td>\n      <td>0.000000</td>\n    </tr>\n    <tr>\n      <th>2</th>\n      <td>Bedford Park , Lawrence Manor East</td>\n      <td>0.000000</td>\n      <td>0.000000</td>\n      <td>0.040000</td>\n      <td>0.000000</td>\n      <td>0.000000</td>\n      <td>0.000000</td>\n      <td>0.0</td>\n      <td>0.000000</td>\n      <td>0.000000</td>\n      <td>0.000000</td>\n      <td>0.000000</td>\n      <td>0.00</td>\n      <td>0.000000</td>\n      <td>0.000000</td>\n      <td>0.000000</td>\n      <td>0.000000</td>\n      <td>0.000000</td>\n      <td>0.000000</td>\n      <td>0.000000</td>\n      <td>0.000000</td>\n      <td>0.000000</td>\n      <td>0.04</td>\n      <td>0.040000</td>\n      <td>0.000000</td>\n      <td>0.000000</td>\n      <td>0.000000</td>\n      <td>0.000000</td>\n      <td>0.000000</td>\n      <td>0.080000</td>\n      <td>0.04</td>\n      <td>0.000000</td>\n      <td>0.000000</td>\n      <td>0.000000</td>\n      <td>0.000000</td>\n      <td>0.000000</td>\n      <td>0.000000</td>\n      <td>0.000000</td>\n      <td>0.000000</td>\n      <td>0.000000</td>\n      <td>0.0</td>\n      <td>0.000000</td>\n      <td>0.040000</td>\n      <td>0.0</td>\n      <td>0.000000</td>\n      <td>0.000000</td>\n      <td>0.000000</td>\n      <td>0.000000</td>\n      <td>0.000000</td>\n      <td>0.000000</td>\n      <td>0.000000</td>\n      <td>0.0</td>\n      <td>0.04</td>\n      <td>0.040000</td>\n      <td>0.000000</td>\n      <td>0.0</td>\n      <td>0.000000</td>\n      <td>0.00</td>\n      <td>0.000000</td>\n      <td>0.000000</td>\n      <td>0.04</td>\n      <td>0.000000</td>\n      <td>0.080000</td>\n      <td>0.000000</td>\n      <td>0.000000</td>\n      <td>0.040000</td>\n      <td>0.000000</td>\n      <td>0.000000</td>\n      <td>0.040000</td>\n      <td>0.000000</td>\n      <td>0.000000</td>\n      <td>0.000000</td>\n      <td>0.0</td>\n      <td>0.000000</td>\n      <td>0.000000</td>\n      <td>0.000000</td>\n      <td>0.000000</td>\n      <td>0.000000</td>\n      <td>0.000000</td>\n      <td>0.0</td>\n      <td>0.000000</td>\n      <td>0.040000</td>\n      <td>0.040000</td>\n      <td>0.080000</td>\n      <td>0.00</td>\n      <td>0.000000</td>\n      <td>0.0</td>\n      <td>0.00</td>\n      <td>0.04</td>\n      <td>0.000000</td>\n      <td>0.040000</td>\n      <td>0.000000</td>\n      <td>0.080000</td>\n      <td>0.000000</td>\n      <td>0.000000</td>\n      <td>0.000000</td>\n      <td>0.000000</td>\n      <td>0.000000</td>\n      <td>0.040000</td>\n      <td>0.000000</td>\n      <td>0.04</td>\n      <td>0.000000</td>\n      <td>0.040000</td>\n      <td>0.000000</td>\n      <td>0.000000</td>\n      <td>0.00</td>\n      <td>0.000000</td>\n    </tr>\n    <tr>\n      <th>3</th>\n      <td>Don Mills North</td>\n      <td>0.000000</td>\n      <td>0.000000</td>\n      <td>0.000000</td>\n      <td>0.000000</td>\n      <td>0.000000</td>\n      <td>0.000000</td>\n      <td>0.0</td>\n      <td>0.000000</td>\n      <td>0.000000</td>\n      <td>0.000000</td>\n      <td>0.000000</td>\n      <td>0.00</td>\n      <td>0.000000</td>\n      <td>0.000000</td>\n      <td>0.000000</td>\n      <td>0.000000</td>\n      <td>0.000000</td>\n      <td>0.000000</td>\n      <td>0.000000</td>\n      <td>0.000000</td>\n      <td>0.000000</td>\n      <td>0.00</td>\n      <td>0.250000</td>\n      <td>0.250000</td>\n      <td>0.000000</td>\n      <td>0.000000</td>\n      <td>0.000000</td>\n      <td>0.000000</td>\n      <td>0.000000</td>\n      <td>0.00</td>\n      <td>0.000000</td>\n      <td>0.000000</td>\n      <td>0.000000</td>\n      <td>0.000000</td>\n      <td>0.000000</td>\n      <td>0.000000</td>\n      <td>0.000000</td>\n      <td>0.000000</td>\n      <td>0.000000</td>\n      <td>0.0</td>\n      <td>0.000000</td>\n      <td>0.000000</td>\n      <td>0.0</td>\n      <td>0.000000</td>\n      <td>0.000000</td>\n      <td>0.000000</td>\n      <td>0.000000</td>\n      <td>0.000000</td>\n      <td>0.000000</td>\n      <td>0.000000</td>\n      <td>0.0</td>\n      <td>0.00</td>\n      <td>0.000000</td>\n      <td>0.250000</td>\n      <td>0.0</td>\n      <td>0.000000</td>\n      <td>0.00</td>\n      <td>0.000000</td>\n      <td>0.000000</td>\n      <td>0.00</td>\n      <td>0.000000</td>\n      <td>0.000000</td>\n      <td>0.250000</td>\n      <td>0.000000</td>\n      <td>0.000000</td>\n      <td>0.000000</td>\n      <td>0.000000</td>\n      <td>0.000000</td>\n      <td>0.000000</td>\n      <td>0.000000</td>\n      <td>0.000000</td>\n      <td>0.0</td>\n      <td>0.000000</td>\n      <td>0.000000</td>\n      <td>0.000000</td>\n      <td>0.000000</td>\n      <td>0.000000</td>\n      <td>0.000000</td>\n      <td>0.0</td>\n      <td>0.000000</td>\n      <td>0.000000</td>\n      <td>0.000000</td>\n      <td>0.000000</td>\n      <td>0.00</td>\n      <td>0.000000</td>\n      <td>0.0</td>\n      <td>0.00</td>\n      <td>0.00</td>\n      <td>0.000000</td>\n      <td>0.000000</td>\n      <td>0.000000</td>\n      <td>0.000000</td>\n      <td>0.000000</td>\n      <td>0.000000</td>\n      <td>0.000000</td>\n      <td>0.000000</td>\n      <td>0.000000</td>\n      <td>0.000000</td>\n      <td>0.000000</td>\n      <td>0.00</td>\n      <td>0.000000</td>\n      <td>0.000000</td>\n      <td>0.000000</td>\n      <td>0.000000</td>\n      <td>0.00</td>\n      <td>0.000000</td>\n    </tr>\n    <tr>\n      <th>4</th>\n      <td>Don Mills South</td>\n      <td>0.000000</td>\n      <td>0.000000</td>\n      <td>0.000000</td>\n      <td>0.047619</td>\n      <td>0.000000</td>\n      <td>0.047619</td>\n      <td>0.0</td>\n      <td>0.000000</td>\n      <td>0.000000</td>\n      <td>0.000000</td>\n      <td>0.000000</td>\n      <td>0.00</td>\n      <td>0.047619</td>\n      <td>0.047619</td>\n      <td>0.000000</td>\n      <td>0.000000</td>\n      <td>0.000000</td>\n      <td>0.000000</td>\n      <td>0.000000</td>\n      <td>0.000000</td>\n      <td>0.000000</td>\n      <td>0.00</td>\n      <td>0.000000</td>\n      <td>0.000000</td>\n      <td>0.000000</td>\n      <td>0.047619</td>\n      <td>0.000000</td>\n      <td>0.047619</td>\n      <td>0.095238</td>\n      <td>0.00</td>\n      <td>0.000000</td>\n      <td>0.000000</td>\n      <td>0.000000</td>\n      <td>0.000000</td>\n      <td>0.000000</td>\n      <td>0.047619</td>\n      <td>0.000000</td>\n      <td>0.047619</td>\n      <td>0.000000</td>\n      <td>0.0</td>\n      <td>0.000000</td>\n      <td>0.000000</td>\n      <td>0.0</td>\n      <td>0.000000</td>\n      <td>0.000000</td>\n      <td>0.000000</td>\n      <td>0.000000</td>\n      <td>0.000000</td>\n      <td>0.000000</td>\n      <td>0.000000</td>\n      <td>0.0</td>\n      <td>0.00</td>\n      <td>0.047619</td>\n      <td>0.095238</td>\n      <td>0.0</td>\n      <td>0.000000</td>\n      <td>0.00</td>\n      <td>0.000000</td>\n      <td>0.000000</td>\n      <td>0.00</td>\n      <td>0.000000</td>\n      <td>0.047619</td>\n      <td>0.000000</td>\n      <td>0.000000</td>\n      <td>0.000000</td>\n      <td>0.000000</td>\n      <td>0.000000</td>\n      <td>0.000000</td>\n      <td>0.000000</td>\n      <td>0.000000</td>\n      <td>0.000000</td>\n      <td>0.0</td>\n      <td>0.000000</td>\n      <td>0.000000</td>\n      <td>0.000000</td>\n      <td>0.000000</td>\n      <td>0.000000</td>\n      <td>0.000000</td>\n      <td>0.0</td>\n      <td>0.000000</td>\n      <td>0.000000</td>\n      <td>0.000000</td>\n      <td>0.000000</td>\n      <td>0.00</td>\n      <td>0.000000</td>\n      <td>0.0</td>\n      <td>0.00</td>\n      <td>0.00</td>\n      <td>0.000000</td>\n      <td>0.095238</td>\n      <td>0.000000</td>\n      <td>0.047619</td>\n      <td>0.000000</td>\n      <td>0.047619</td>\n      <td>0.047619</td>\n      <td>0.047619</td>\n      <td>0.000000</td>\n      <td>0.047619</td>\n      <td>0.000000</td>\n      <td>0.00</td>\n      <td>0.000000</td>\n      <td>0.000000</td>\n      <td>0.000000</td>\n      <td>0.000000</td>\n      <td>0.00</td>\n      <td>0.000000</td>\n    </tr>\n    <tr>\n      <th>5</th>\n      <td>Downsview Central</td>\n      <td>0.000000</td>\n      <td>0.000000</td>\n      <td>0.000000</td>\n      <td>0.000000</td>\n      <td>0.000000</td>\n      <td>0.000000</td>\n      <td>0.0</td>\n      <td>0.000000</td>\n      <td>0.000000</td>\n      <td>0.000000</td>\n      <td>0.333333</td>\n      <td>0.00</td>\n      <td>0.000000</td>\n      <td>0.000000</td>\n      <td>0.000000</td>\n      <td>0.000000</td>\n      <td>0.000000</td>\n      <td>0.000000</td>\n      <td>0.000000</td>\n      <td>0.000000</td>\n      <td>0.333333</td>\n      <td>0.00</td>\n      <td>0.000000</td>\n      <td>0.000000</td>\n      <td>0.000000</td>\n      <td>0.000000</td>\n      <td>0.000000</td>\n      <td>0.000000</td>\n      <td>0.000000</td>\n      <td>0.00</td>\n      <td>0.000000</td>\n      <td>0.000000</td>\n      <td>0.000000</td>\n      <td>0.000000</td>\n      <td>0.000000</td>\n      <td>0.000000</td>\n      <td>0.000000</td>\n      <td>0.000000</td>\n      <td>0.000000</td>\n      <td>0.0</td>\n      <td>0.000000</td>\n      <td>0.000000</td>\n      <td>0.0</td>\n      <td>0.000000</td>\n      <td>0.333333</td>\n      <td>0.000000</td>\n      <td>0.000000</td>\n      <td>0.000000</td>\n      <td>0.000000</td>\n      <td>0.000000</td>\n      <td>0.0</td>\n      <td>0.00</td>\n      <td>0.000000</td>\n      <td>0.000000</td>\n      <td>0.0</td>\n      <td>0.000000</td>\n      <td>0.00</td>\n      <td>0.000000</td>\n      <td>0.000000</td>\n      <td>0.00</td>\n      <td>0.000000</td>\n      <td>0.000000</td>\n      <td>0.000000</td>\n      <td>0.000000</td>\n      <td>0.000000</td>\n      <td>0.000000</td>\n      <td>0.000000</td>\n      <td>0.000000</td>\n      <td>0.000000</td>\n      <td>0.000000</td>\n      <td>0.000000</td>\n      <td>0.0</td>\n      <td>0.000000</td>\n      <td>0.000000</td>\n      <td>0.000000</td>\n      <td>0.000000</td>\n      <td>0.000000</td>\n      <td>0.000000</td>\n      <td>0.0</td>\n      <td>0.000000</td>\n      <td>0.000000</td>\n      <td>0.000000</td>\n      <td>0.000000</td>\n      <td>0.00</td>\n      <td>0.000000</td>\n      <td>0.0</td>\n      <td>0.00</td>\n      <td>0.00</td>\n      <td>0.000000</td>\n      <td>0.000000</td>\n      <td>0.000000</td>\n      <td>0.000000</td>\n      <td>0.000000</td>\n      <td>0.000000</td>\n      <td>0.000000</td>\n      <td>0.000000</td>\n      <td>0.000000</td>\n      <td>0.000000</td>\n      <td>0.000000</td>\n      <td>0.00</td>\n      <td>0.000000</td>\n      <td>0.000000</td>\n      <td>0.000000</td>\n      <td>0.000000</td>\n      <td>0.00</td>\n      <td>0.000000</td>\n    </tr>\n    <tr>\n      <th>6</th>\n      <td>Downsview East</td>\n      <td>0.000000</td>\n      <td>0.333333</td>\n      <td>0.000000</td>\n      <td>0.000000</td>\n      <td>0.000000</td>\n      <td>0.000000</td>\n      <td>0.0</td>\n      <td>0.000000</td>\n      <td>0.000000</td>\n      <td>0.000000</td>\n      <td>0.000000</td>\n      <td>0.00</td>\n      <td>0.000000</td>\n      <td>0.000000</td>\n      <td>0.000000</td>\n      <td>0.000000</td>\n      <td>0.000000</td>\n      <td>0.000000</td>\n      <td>0.000000</td>\n      <td>0.000000</td>\n      <td>0.333333</td>\n      <td>0.00</td>\n      <td>0.000000</td>\n      <td>0.000000</td>\n      <td>0.000000</td>\n      <td>0.000000</td>\n      <td>0.000000</td>\n      <td>0.000000</td>\n      <td>0.000000</td>\n      <td>0.00</td>\n      <td>0.000000</td>\n      <td>0.000000</td>\n      <td>0.000000</td>\n      <td>0.000000</td>\n      <td>0.000000</td>\n      <td>0.000000</td>\n      <td>0.000000</td>\n      <td>0.000000</td>\n      <td>0.000000</td>\n      <td>0.0</td>\n      <td>0.000000</td>\n      <td>0.000000</td>\n      <td>0.0</td>\n      <td>0.000000</td>\n      <td>0.000000</td>\n      <td>0.000000</td>\n      <td>0.000000</td>\n      <td>0.000000</td>\n      <td>0.000000</td>\n      <td>0.000000</td>\n      <td>0.0</td>\n      <td>0.00</td>\n      <td>0.000000</td>\n      <td>0.000000</td>\n      <td>0.0</td>\n      <td>0.000000</td>\n      <td>0.00</td>\n      <td>0.000000</td>\n      <td>0.000000</td>\n      <td>0.00</td>\n      <td>0.000000</td>\n      <td>0.000000</td>\n      <td>0.000000</td>\n      <td>0.000000</td>\n      <td>0.000000</td>\n      <td>0.000000</td>\n      <td>0.000000</td>\n      <td>0.000000</td>\n      <td>0.000000</td>\n      <td>0.000000</td>\n      <td>0.000000</td>\n      <td>0.0</td>\n      <td>0.000000</td>\n      <td>0.000000</td>\n      <td>0.000000</td>\n      <td>0.000000</td>\n      <td>0.000000</td>\n      <td>0.000000</td>\n      <td>0.0</td>\n      <td>0.333333</td>\n      <td>0.000000</td>\n      <td>0.000000</td>\n      <td>0.000000</td>\n      <td>0.00</td>\n      <td>0.000000</td>\n      <td>0.0</td>\n      <td>0.00</td>\n      <td>0.00</td>\n      <td>0.000000</td>\n      <td>0.000000</td>\n      <td>0.000000</td>\n      <td>0.000000</td>\n      <td>0.000000</td>\n      <td>0.000000</td>\n      <td>0.000000</td>\n      <td>0.000000</td>\n      <td>0.000000</td>\n      <td>0.000000</td>\n      <td>0.000000</td>\n      <td>0.00</td>\n      <td>0.000000</td>\n      <td>0.000000</td>\n      <td>0.000000</td>\n      <td>0.000000</td>\n      <td>0.00</td>\n      <td>0.000000</td>\n    </tr>\n    <tr>\n      <th>7</th>\n      <td>Downsview Northwest</td>\n      <td>0.000000</td>\n      <td>0.000000</td>\n      <td>0.000000</td>\n      <td>0.000000</td>\n      <td>0.000000</td>\n      <td>0.000000</td>\n      <td>0.2</td>\n      <td>0.000000</td>\n      <td>0.000000</td>\n      <td>0.000000</td>\n      <td>0.000000</td>\n      <td>0.00</td>\n      <td>0.000000</td>\n      <td>0.000000</td>\n      <td>0.000000</td>\n      <td>0.000000</td>\n      <td>0.000000</td>\n      <td>0.000000</td>\n      <td>0.000000</td>\n      <td>0.000000</td>\n      <td>0.000000</td>\n      <td>0.00</td>\n      <td>0.000000</td>\n      <td>0.000000</td>\n      <td>0.000000</td>\n      <td>0.000000</td>\n      <td>0.000000</td>\n      <td>0.000000</td>\n      <td>0.000000</td>\n      <td>0.00</td>\n      <td>0.000000</td>\n      <td>0.000000</td>\n      <td>0.000000</td>\n      <td>0.000000</td>\n      <td>0.000000</td>\n      <td>0.000000</td>\n      <td>0.000000</td>\n      <td>0.200000</td>\n      <td>0.000000</td>\n      <td>0.0</td>\n      <td>0.000000</td>\n      <td>0.000000</td>\n      <td>0.0</td>\n      <td>0.000000</td>\n      <td>0.000000</td>\n      <td>0.000000</td>\n      <td>0.000000</td>\n      <td>0.000000</td>\n      <td>0.000000</td>\n      <td>0.000000</td>\n      <td>0.0</td>\n      <td>0.00</td>\n      <td>0.200000</td>\n      <td>0.000000</td>\n      <td>0.2</td>\n      <td>0.000000</td>\n      <td>0.00</td>\n      <td>0.000000</td>\n      <td>0.000000</td>\n      <td>0.00</td>\n      <td>0.000000</td>\n      <td>0.000000</td>\n      <td>0.000000</td>\n      <td>0.000000</td>\n      <td>0.000000</td>\n      <td>0.000000</td>\n      <td>0.000000</td>\n      <td>0.200000</td>\n      <td>0.000000</td>\n      <td>0.000000</td>\n      <td>0.000000</td>\n      <td>0.0</td>\n      <td>0.000000</td>\n      <td>0.000000</td>\n      <td>0.000000</td>\n      <td>0.000000</td>\n      <td>0.000000</td>\n      <td>0.000000</td>\n      <td>0.0</td>\n      <td>0.000000</td>\n      <td>0.000000</td>\n      <td>0.000000</td>\n      <td>0.000000</td>\n      <td>0.00</td>\n      <td>0.000000</td>\n      <td>0.0</td>\n      <td>0.00</td>\n      <td>0.00</td>\n      <td>0.000000</td>\n      <td>0.000000</td>\n      <td>0.000000</td>\n      <td>0.000000</td>\n      <td>0.000000</td>\n      <td>0.000000</td>\n      <td>0.000000</td>\n      <td>0.000000</td>\n      <td>0.000000</td>\n      <td>0.000000</td>\n      <td>0.000000</td>\n      <td>0.00</td>\n      <td>0.000000</td>\n      <td>0.000000</td>\n      <td>0.000000</td>\n      <td>0.000000</td>\n      <td>0.00</td>\n      <td>0.000000</td>\n    </tr>\n    <tr>\n      <th>8</th>\n      <td>Downsview West</td>\n      <td>0.000000</td>\n      <td>0.000000</td>\n      <td>0.000000</td>\n      <td>0.000000</td>\n      <td>0.000000</td>\n      <td>0.000000</td>\n      <td>0.0</td>\n      <td>0.000000</td>\n      <td>0.200000</td>\n      <td>0.000000</td>\n      <td>0.000000</td>\n      <td>0.00</td>\n      <td>0.000000</td>\n      <td>0.000000</td>\n      <td>0.000000</td>\n      <td>0.000000</td>\n      <td>0.000000</td>\n      <td>0.000000</td>\n      <td>0.000000</td>\n      <td>0.000000</td>\n      <td>0.000000</td>\n      <td>0.00</td>\n      <td>0.000000</td>\n      <td>0.000000</td>\n      <td>0.000000</td>\n      <td>0.000000</td>\n      <td>0.000000</td>\n      <td>0.000000</td>\n      <td>0.000000</td>\n      <td>0.00</td>\n      <td>0.000000</td>\n      <td>0.000000</td>\n      <td>0.000000</td>\n      <td>0.000000</td>\n      <td>0.000000</td>\n      <td>0.000000</td>\n      <td>0.000000</td>\n      <td>0.000000</td>\n      <td>0.000000</td>\n      <td>0.0</td>\n      <td>0.000000</td>\n      <td>0.000000</td>\n      <td>0.0</td>\n      <td>0.000000</td>\n      <td>0.000000</td>\n      <td>0.000000</td>\n      <td>0.000000</td>\n      <td>0.000000</td>\n      <td>0.000000</td>\n      <td>0.000000</td>\n      <td>0.0</td>\n      <td>0.00</td>\n      <td>0.200000</td>\n      <td>0.000000</td>\n      <td>0.0</td>\n      <td>0.000000</td>\n      <td>0.00</td>\n      <td>0.200000</td>\n      <td>0.000000</td>\n      <td>0.00</td>\n      <td>0.000000</td>\n      <td>0.000000</td>\n      <td>0.000000</td>\n      <td>0.000000</td>\n      <td>0.000000</td>\n      <td>0.000000</td>\n      <td>0.000000</td>\n      <td>0.000000</td>\n      <td>0.000000</td>\n      <td>0.000000</td>\n      <td>0.000000</td>\n      <td>0.0</td>\n      <td>0.000000</td>\n      <td>0.000000</td>\n      <td>0.000000</td>\n      <td>0.000000</td>\n      <td>0.000000</td>\n      <td>0.000000</td>\n      <td>0.0</td>\n      <td>0.200000</td>\n      <td>0.000000</td>\n      <td>0.000000</td>\n      <td>0.000000</td>\n      <td>0.00</td>\n      <td>0.000000</td>\n      <td>0.0</td>\n      <td>0.00</td>\n      <td>0.00</td>\n      <td>0.000000</td>\n      <td>0.000000</td>\n      <td>0.000000</td>\n      <td>0.000000</td>\n      <td>0.000000</td>\n      <td>0.200000</td>\n      <td>0.000000</td>\n      <td>0.000000</td>\n      <td>0.000000</td>\n      <td>0.000000</td>\n      <td>0.000000</td>\n      <td>0.00</td>\n      <td>0.000000</td>\n      <td>0.000000</td>\n      <td>0.000000</td>\n      <td>0.000000</td>\n      <td>0.00</td>\n      <td>0.000000</td>\n    </tr>\n    <tr>\n      <th>9</th>\n      <td>Fairview , Henry Farm , Oriole</td>\n      <td>0.000000</td>\n      <td>0.000000</td>\n      <td>0.015873</td>\n      <td>0.000000</td>\n      <td>0.000000</td>\n      <td>0.015873</td>\n      <td>0.0</td>\n      <td>0.031746</td>\n      <td>0.031746</td>\n      <td>0.015873</td>\n      <td>0.015873</td>\n      <td>0.00</td>\n      <td>0.000000</td>\n      <td>0.000000</td>\n      <td>0.015873</td>\n      <td>0.000000</td>\n      <td>0.000000</td>\n      <td>0.015873</td>\n      <td>0.015873</td>\n      <td>0.015873</td>\n      <td>0.000000</td>\n      <td>0.00</td>\n      <td>0.000000</td>\n      <td>0.000000</td>\n      <td>0.000000</td>\n      <td>0.015873</td>\n      <td>0.015873</td>\n      <td>0.126984</td>\n      <td>0.079365</td>\n      <td>0.00</td>\n      <td>0.000000</td>\n      <td>0.015873</td>\n      <td>0.015873</td>\n      <td>0.000000</td>\n      <td>0.015873</td>\n      <td>0.000000</td>\n      <td>0.000000</td>\n      <td>0.000000</td>\n      <td>0.015873</td>\n      <td>0.0</td>\n      <td>0.015873</td>\n      <td>0.063492</td>\n      <td>0.0</td>\n      <td>0.031746</td>\n      <td>0.000000</td>\n      <td>0.000000</td>\n      <td>0.000000</td>\n      <td>0.000000</td>\n      <td>0.000000</td>\n      <td>0.000000</td>\n      <td>0.0</td>\n      <td>0.00</td>\n      <td>0.000000</td>\n      <td>0.000000</td>\n      <td>0.0</td>\n      <td>0.000000</td>\n      <td>0.00</td>\n      <td>0.000000</td>\n      <td>0.000000</td>\n      <td>0.00</td>\n      <td>0.000000</td>\n      <td>0.000000</td>\n      <td>0.047619</td>\n      <td>0.015873</td>\n      <td>0.031746</td>\n      <td>0.000000</td>\n      <td>0.015873</td>\n      <td>0.015873</td>\n      <td>0.000000</td>\n      <td>0.015873</td>\n      <td>0.000000</td>\n      <td>0.0</td>\n      <td>0.015873</td>\n      <td>0.000000</td>\n      <td>0.000000</td>\n      <td>0.000000</td>\n      <td>0.015873</td>\n      <td>0.015873</td>\n      <td>0.0</td>\n      <td>0.000000</td>\n      <td>0.000000</td>\n      <td>0.015873</td>\n      <td>0.000000</td>\n      <td>0.00</td>\n      <td>0.000000</td>\n      <td>0.0</td>\n      <td>0.00</td>\n      <td>0.00</td>\n      <td>0.000000</td>\n      <td>0.047619</td>\n      <td>0.015873</td>\n      <td>0.000000</td>\n      <td>0.000000</td>\n      <td>0.015873</td>\n      <td>0.015873</td>\n      <td>0.000000</td>\n      <td>0.015873</td>\n      <td>0.000000</td>\n      <td>0.015873</td>\n      <td>0.00</td>\n      <td>0.015873</td>\n      <td>0.015873</td>\n      <td>0.015873</td>\n      <td>0.000000</td>\n      <td>0.00</td>\n      <td>0.015873</td>\n    </tr>\n    <tr>\n      <th>10</th>\n      <td>Glencairn</td>\n      <td>0.000000</td>\n      <td>0.000000</td>\n      <td>0.000000</td>\n      <td>0.000000</td>\n      <td>0.000000</td>\n      <td>0.000000</td>\n      <td>0.0</td>\n      <td>0.250000</td>\n      <td>0.000000</td>\n      <td>0.000000</td>\n      <td>0.000000</td>\n      <td>0.00</td>\n      <td>0.000000</td>\n      <td>0.000000</td>\n      <td>0.000000</td>\n      <td>0.000000</td>\n      <td>0.000000</td>\n      <td>0.000000</td>\n      <td>0.000000</td>\n      <td>0.000000</td>\n      <td>0.000000</td>\n      <td>0.00</td>\n      <td>0.000000</td>\n      <td>0.000000</td>\n      <td>0.000000</td>\n      <td>0.000000</td>\n      <td>0.000000</td>\n      <td>0.000000</td>\n      <td>0.000000</td>\n      <td>0.00</td>\n      <td>0.000000</td>\n      <td>0.000000</td>\n      <td>0.000000</td>\n      <td>0.000000</td>\n      <td>0.000000</td>\n      <td>0.000000</td>\n      <td>0.000000</td>\n      <td>0.000000</td>\n      <td>0.000000</td>\n      <td>0.0</td>\n      <td>0.000000</td>\n      <td>0.000000</td>\n      <td>0.0</td>\n      <td>0.000000</td>\n      <td>0.000000</td>\n      <td>0.000000</td>\n      <td>0.000000</td>\n      <td>0.000000</td>\n      <td>0.000000</td>\n      <td>0.000000</td>\n      <td>0.0</td>\n      <td>0.00</td>\n      <td>0.000000</td>\n      <td>0.000000</td>\n      <td>0.0</td>\n      <td>0.000000</td>\n      <td>0.00</td>\n      <td>0.000000</td>\n      <td>0.000000</td>\n      <td>0.00</td>\n      <td>0.000000</td>\n      <td>0.000000</td>\n      <td>0.250000</td>\n      <td>0.000000</td>\n      <td>0.000000</td>\n      <td>0.000000</td>\n      <td>0.000000</td>\n      <td>0.000000</td>\n      <td>0.000000</td>\n      <td>0.000000</td>\n      <td>0.000000</td>\n      <td>0.0</td>\n      <td>0.000000</td>\n      <td>0.000000</td>\n      <td>0.000000</td>\n      <td>0.000000</td>\n      <td>0.000000</td>\n      <td>0.000000</td>\n      <td>0.0</td>\n      <td>0.000000</td>\n      <td>0.000000</td>\n      <td>0.000000</td>\n      <td>0.000000</td>\n      <td>0.25</td>\n      <td>0.000000</td>\n      <td>0.0</td>\n      <td>0.00</td>\n      <td>0.00</td>\n      <td>0.000000</td>\n      <td>0.000000</td>\n      <td>0.000000</td>\n      <td>0.000000</td>\n      <td>0.000000</td>\n      <td>0.000000</td>\n      <td>0.000000</td>\n      <td>0.000000</td>\n      <td>0.000000</td>\n      <td>0.250000</td>\n      <td>0.000000</td>\n      <td>0.00</td>\n      <td>0.000000</td>\n      <td>0.000000</td>\n      <td>0.000000</td>\n      <td>0.000000</td>\n      <td>0.00</td>\n      <td>0.000000</td>\n    </tr>\n    <tr>\n      <th>11</th>\n      <td>Hillcrest Village</td>\n      <td>0.000000</td>\n      <td>0.000000</td>\n      <td>0.000000</td>\n      <td>0.000000</td>\n      <td>0.000000</td>\n      <td>0.000000</td>\n      <td>0.0</td>\n      <td>0.000000</td>\n      <td>0.000000</td>\n      <td>0.000000</td>\n      <td>0.000000</td>\n      <td>0.00</td>\n      <td>0.000000</td>\n      <td>0.000000</td>\n      <td>0.000000</td>\n      <td>0.000000</td>\n      <td>0.000000</td>\n      <td>0.000000</td>\n      <td>0.000000</td>\n      <td>0.000000</td>\n      <td>0.000000</td>\n      <td>0.00</td>\n      <td>0.000000</td>\n      <td>0.000000</td>\n      <td>0.000000</td>\n      <td>0.000000</td>\n      <td>0.000000</td>\n      <td>0.000000</td>\n      <td>0.000000</td>\n      <td>0.00</td>\n      <td>0.000000</td>\n      <td>0.000000</td>\n      <td>0.000000</td>\n      <td>0.000000</td>\n      <td>0.000000</td>\n      <td>0.000000</td>\n      <td>0.000000</td>\n      <td>0.000000</td>\n      <td>0.000000</td>\n      <td>0.2</td>\n      <td>0.000000</td>\n      <td>0.200000</td>\n      <td>0.0</td>\n      <td>0.000000</td>\n      <td>0.000000</td>\n      <td>0.000000</td>\n      <td>0.000000</td>\n      <td>0.000000</td>\n      <td>0.000000</td>\n      <td>0.000000</td>\n      <td>0.2</td>\n      <td>0.00</td>\n      <td>0.000000</td>\n      <td>0.000000</td>\n      <td>0.0</td>\n      <td>0.000000</td>\n      <td>0.00</td>\n      <td>0.000000</td>\n      <td>0.000000</td>\n      <td>0.00</td>\n      <td>0.000000</td>\n      <td>0.000000</td>\n      <td>0.000000</td>\n      <td>0.000000</td>\n      <td>0.000000</td>\n      <td>0.000000</td>\n      <td>0.000000</td>\n      <td>0.000000</td>\n      <td>0.000000</td>\n      <td>0.000000</td>\n      <td>0.000000</td>\n      <td>0.2</td>\n      <td>0.000000</td>\n      <td>0.000000</td>\n      <td>0.000000</td>\n      <td>0.000000</td>\n      <td>0.000000</td>\n      <td>0.000000</td>\n      <td>0.0</td>\n      <td>0.000000</td>\n      <td>0.000000</td>\n      <td>0.000000</td>\n      <td>0.000000</td>\n      <td>0.00</td>\n      <td>0.000000</td>\n      <td>0.2</td>\n      <td>0.00</td>\n      <td>0.00</td>\n      <td>0.000000</td>\n      <td>0.000000</td>\n      <td>0.000000</td>\n      <td>0.000000</td>\n      <td>0.000000</td>\n      <td>0.000000</td>\n      <td>0.000000</td>\n      <td>0.000000</td>\n      <td>0.000000</td>\n      <td>0.000000</td>\n      <td>0.000000</td>\n      <td>0.00</td>\n      <td>0.000000</td>\n      <td>0.000000</td>\n      <td>0.000000</td>\n      <td>0.000000</td>\n      <td>0.00</td>\n      <td>0.000000</td>\n    </tr>\n    <tr>\n      <th>12</th>\n      <td>Humber Summit</td>\n      <td>0.000000</td>\n      <td>0.000000</td>\n      <td>0.000000</td>\n      <td>0.000000</td>\n      <td>0.000000</td>\n      <td>0.000000</td>\n      <td>0.0</td>\n      <td>0.000000</td>\n      <td>0.000000</td>\n      <td>0.000000</td>\n      <td>0.000000</td>\n      <td>0.00</td>\n      <td>0.000000</td>\n      <td>0.000000</td>\n      <td>0.000000</td>\n      <td>0.000000</td>\n      <td>0.000000</td>\n      <td>0.000000</td>\n      <td>0.000000</td>\n      <td>0.000000</td>\n      <td>0.000000</td>\n      <td>0.00</td>\n      <td>0.000000</td>\n      <td>0.333333</td>\n      <td>0.000000</td>\n      <td>0.000000</td>\n      <td>0.000000</td>\n      <td>0.000000</td>\n      <td>0.000000</td>\n      <td>0.00</td>\n      <td>0.000000</td>\n      <td>0.000000</td>\n      <td>0.000000</td>\n      <td>0.000000</td>\n      <td>0.000000</td>\n      <td>0.000000</td>\n      <td>0.000000</td>\n      <td>0.000000</td>\n      <td>0.000000</td>\n      <td>0.0</td>\n      <td>0.000000</td>\n      <td>0.000000</td>\n      <td>0.0</td>\n      <td>0.000000</td>\n      <td>0.000000</td>\n      <td>0.000000</td>\n      <td>0.000000</td>\n      <td>0.000000</td>\n      <td>0.000000</td>\n      <td>0.000000</td>\n      <td>0.0</td>\n      <td>0.00</td>\n      <td>0.000000</td>\n      <td>0.000000</td>\n      <td>0.0</td>\n      <td>0.000000</td>\n      <td>0.00</td>\n      <td>0.000000</td>\n      <td>0.000000</td>\n      <td>0.00</td>\n      <td>0.333333</td>\n      <td>0.000000</td>\n      <td>0.000000</td>\n      <td>0.000000</td>\n      <td>0.000000</td>\n      <td>0.000000</td>\n      <td>0.000000</td>\n      <td>0.000000</td>\n      <td>0.000000</td>\n      <td>0.000000</td>\n      <td>0.000000</td>\n      <td>0.0</td>\n      <td>0.000000</td>\n      <td>0.000000</td>\n      <td>0.000000</td>\n      <td>0.000000</td>\n      <td>0.000000</td>\n      <td>0.000000</td>\n      <td>0.0</td>\n      <td>0.000000</td>\n      <td>0.000000</td>\n      <td>0.000000</td>\n      <td>0.333333</td>\n      <td>0.00</td>\n      <td>0.000000</td>\n      <td>0.0</td>\n      <td>0.00</td>\n      <td>0.00</td>\n      <td>0.000000</td>\n      <td>0.000000</td>\n      <td>0.000000</td>\n      <td>0.000000</td>\n      <td>0.000000</td>\n      <td>0.000000</td>\n      <td>0.000000</td>\n      <td>0.000000</td>\n      <td>0.000000</td>\n      <td>0.000000</td>\n      <td>0.000000</td>\n      <td>0.00</td>\n      <td>0.000000</td>\n      <td>0.000000</td>\n      <td>0.000000</td>\n      <td>0.000000</td>\n      <td>0.00</td>\n      <td>0.000000</td>\n    </tr>\n    <tr>\n      <th>13</th>\n      <td>Humberlea , Emery</td>\n      <td>0.000000</td>\n      <td>0.000000</td>\n      <td>0.000000</td>\n      <td>0.000000</td>\n      <td>0.000000</td>\n      <td>0.000000</td>\n      <td>0.0</td>\n      <td>0.000000</td>\n      <td>0.000000</td>\n      <td>0.000000</td>\n      <td>0.500000</td>\n      <td>0.00</td>\n      <td>0.000000</td>\n      <td>0.000000</td>\n      <td>0.000000</td>\n      <td>0.000000</td>\n      <td>0.000000</td>\n      <td>0.000000</td>\n      <td>0.000000</td>\n      <td>0.000000</td>\n      <td>0.000000</td>\n      <td>0.00</td>\n      <td>0.000000</td>\n      <td>0.000000</td>\n      <td>0.000000</td>\n      <td>0.000000</td>\n      <td>0.000000</td>\n      <td>0.000000</td>\n      <td>0.000000</td>\n      <td>0.00</td>\n      <td>0.000000</td>\n      <td>0.000000</td>\n      <td>0.000000</td>\n      <td>0.000000</td>\n      <td>0.000000</td>\n      <td>0.000000</td>\n      <td>0.000000</td>\n      <td>0.000000</td>\n      <td>0.000000</td>\n      <td>0.0</td>\n      <td>0.000000</td>\n      <td>0.000000</td>\n      <td>0.0</td>\n      <td>0.000000</td>\n      <td>0.000000</td>\n      <td>0.000000</td>\n      <td>0.000000</td>\n      <td>0.000000</td>\n      <td>0.000000</td>\n      <td>0.000000</td>\n      <td>0.0</td>\n      <td>0.00</td>\n      <td>0.000000</td>\n      <td>0.000000</td>\n      <td>0.0</td>\n      <td>0.000000</td>\n      <td>0.00</td>\n      <td>0.000000</td>\n      <td>0.000000</td>\n      <td>0.00</td>\n      <td>0.000000</td>\n      <td>0.000000</td>\n      <td>0.000000</td>\n      <td>0.000000</td>\n      <td>0.000000</td>\n      <td>0.000000</td>\n      <td>0.000000</td>\n      <td>0.000000</td>\n      <td>0.000000</td>\n      <td>0.000000</td>\n      <td>0.000000</td>\n      <td>0.0</td>\n      <td>0.000000</td>\n      <td>0.000000</td>\n      <td>0.000000</td>\n      <td>0.000000</td>\n      <td>0.000000</td>\n      <td>0.000000</td>\n      <td>0.5</td>\n      <td>0.000000</td>\n      <td>0.000000</td>\n      <td>0.000000</td>\n      <td>0.000000</td>\n      <td>0.00</td>\n      <td>0.000000</td>\n      <td>0.0</td>\n      <td>0.00</td>\n      <td>0.00</td>\n      <td>0.000000</td>\n      <td>0.000000</td>\n      <td>0.000000</td>\n      <td>0.000000</td>\n      <td>0.000000</td>\n      <td>0.000000</td>\n      <td>0.000000</td>\n      <td>0.000000</td>\n      <td>0.000000</td>\n      <td>0.000000</td>\n      <td>0.000000</td>\n      <td>0.00</td>\n      <td>0.000000</td>\n      <td>0.000000</td>\n      <td>0.000000</td>\n      <td>0.000000</td>\n      <td>0.00</td>\n      <td>0.000000</td>\n    </tr>\n    <tr>\n      <th>14</th>\n      <td>Lawrence Manor , Lawrence Heights</td>\n      <td>0.071429</td>\n      <td>0.000000</td>\n      <td>0.000000</td>\n      <td>0.000000</td>\n      <td>0.000000</td>\n      <td>0.000000</td>\n      <td>0.0</td>\n      <td>0.000000</td>\n      <td>0.000000</td>\n      <td>0.000000</td>\n      <td>0.000000</td>\n      <td>0.00</td>\n      <td>0.000000</td>\n      <td>0.000000</td>\n      <td>0.071429</td>\n      <td>0.000000</td>\n      <td>0.000000</td>\n      <td>0.000000</td>\n      <td>0.000000</td>\n      <td>0.000000</td>\n      <td>0.000000</td>\n      <td>0.00</td>\n      <td>0.000000</td>\n      <td>0.000000</td>\n      <td>0.071429</td>\n      <td>0.000000</td>\n      <td>0.000000</td>\n      <td>0.285714</td>\n      <td>0.071429</td>\n      <td>0.00</td>\n      <td>0.000000</td>\n      <td>0.000000</td>\n      <td>0.000000</td>\n      <td>0.000000</td>\n      <td>0.000000</td>\n      <td>0.000000</td>\n      <td>0.000000</td>\n      <td>0.000000</td>\n      <td>0.000000</td>\n      <td>0.0</td>\n      <td>0.000000</td>\n      <td>0.000000</td>\n      <td>0.0</td>\n      <td>0.000000</td>\n      <td>0.000000</td>\n      <td>0.000000</td>\n      <td>0.000000</td>\n      <td>0.071429</td>\n      <td>0.000000</td>\n      <td>0.071429</td>\n      <td>0.0</td>\n      <td>0.00</td>\n      <td>0.000000</td>\n      <td>0.000000</td>\n      <td>0.0</td>\n      <td>0.000000</td>\n      <td>0.00</td>\n      <td>0.000000</td>\n      <td>0.000000</td>\n      <td>0.00</td>\n      <td>0.000000</td>\n      <td>0.000000</td>\n      <td>0.000000</td>\n      <td>0.000000</td>\n      <td>0.000000</td>\n      <td>0.000000</td>\n      <td>0.000000</td>\n      <td>0.000000</td>\n      <td>0.000000</td>\n      <td>0.000000</td>\n      <td>0.000000</td>\n      <td>0.0</td>\n      <td>0.000000</td>\n      <td>0.000000</td>\n      <td>0.000000</td>\n      <td>0.071429</td>\n      <td>0.000000</td>\n      <td>0.000000</td>\n      <td>0.0</td>\n      <td>0.000000</td>\n      <td>0.000000</td>\n      <td>0.000000</td>\n      <td>0.000000</td>\n      <td>0.00</td>\n      <td>0.000000</td>\n      <td>0.0</td>\n      <td>0.00</td>\n      <td>0.00</td>\n      <td>0.000000</td>\n      <td>0.000000</td>\n      <td>0.000000</td>\n      <td>0.000000</td>\n      <td>0.071429</td>\n      <td>0.000000</td>\n      <td>0.000000</td>\n      <td>0.000000</td>\n      <td>0.000000</td>\n      <td>0.000000</td>\n      <td>0.000000</td>\n      <td>0.00</td>\n      <td>0.000000</td>\n      <td>0.000000</td>\n      <td>0.000000</td>\n      <td>0.071429</td>\n      <td>0.00</td>\n      <td>0.071429</td>\n    </tr>\n    <tr>\n      <th>15</th>\n      <td>North Park , Maple Leaf Park , Upwood Park</td>\n      <td>0.000000</td>\n      <td>0.000000</td>\n      <td>0.000000</td>\n      <td>0.000000</td>\n      <td>0.000000</td>\n      <td>0.000000</td>\n      <td>0.0</td>\n      <td>0.250000</td>\n      <td>0.000000</td>\n      <td>0.000000</td>\n      <td>0.000000</td>\n      <td>0.25</td>\n      <td>0.000000</td>\n      <td>0.000000</td>\n      <td>0.000000</td>\n      <td>0.000000</td>\n      <td>0.000000</td>\n      <td>0.000000</td>\n      <td>0.000000</td>\n      <td>0.000000</td>\n      <td>0.000000</td>\n      <td>0.00</td>\n      <td>0.000000</td>\n      <td>0.000000</td>\n      <td>0.000000</td>\n      <td>0.000000</td>\n      <td>0.000000</td>\n      <td>0.000000</td>\n      <td>0.000000</td>\n      <td>0.00</td>\n      <td>0.250000</td>\n      <td>0.000000</td>\n      <td>0.000000</td>\n      <td>0.000000</td>\n      <td>0.000000</td>\n      <td>0.000000</td>\n      <td>0.000000</td>\n      <td>0.000000</td>\n      <td>0.000000</td>\n      <td>0.0</td>\n      <td>0.000000</td>\n      <td>0.000000</td>\n      <td>0.0</td>\n      <td>0.000000</td>\n      <td>0.000000</td>\n      <td>0.000000</td>\n      <td>0.000000</td>\n      <td>0.000000</td>\n      <td>0.000000</td>\n      <td>0.000000</td>\n      <td>0.0</td>\n      <td>0.00</td>\n      <td>0.000000</td>\n      <td>0.000000</td>\n      <td>0.0</td>\n      <td>0.000000</td>\n      <td>0.00</td>\n      <td>0.000000</td>\n      <td>0.000000</td>\n      <td>0.00</td>\n      <td>0.000000</td>\n      <td>0.000000</td>\n      <td>0.000000</td>\n      <td>0.000000</td>\n      <td>0.000000</td>\n      <td>0.000000</td>\n      <td>0.000000</td>\n      <td>0.000000</td>\n      <td>0.000000</td>\n      <td>0.000000</td>\n      <td>0.000000</td>\n      <td>0.0</td>\n      <td>0.000000</td>\n      <td>0.000000</td>\n      <td>0.000000</td>\n      <td>0.000000</td>\n      <td>0.000000</td>\n      <td>0.000000</td>\n      <td>0.0</td>\n      <td>0.250000</td>\n      <td>0.000000</td>\n      <td>0.000000</td>\n      <td>0.000000</td>\n      <td>0.00</td>\n      <td>0.000000</td>\n      <td>0.0</td>\n      <td>0.00</td>\n      <td>0.00</td>\n      <td>0.000000</td>\n      <td>0.000000</td>\n      <td>0.000000</td>\n      <td>0.000000</td>\n      <td>0.000000</td>\n      <td>0.000000</td>\n      <td>0.000000</td>\n      <td>0.000000</td>\n      <td>0.000000</td>\n      <td>0.000000</td>\n      <td>0.000000</td>\n      <td>0.00</td>\n      <td>0.000000</td>\n      <td>0.000000</td>\n      <td>0.000000</td>\n      <td>0.000000</td>\n      <td>0.00</td>\n      <td>0.000000</td>\n    </tr>\n    <tr>\n      <th>16</th>\n      <td>Northwood Park , York University</td>\n      <td>0.000000</td>\n      <td>0.000000</td>\n      <td>0.000000</td>\n      <td>0.000000</td>\n      <td>0.000000</td>\n      <td>0.000000</td>\n      <td>0.0</td>\n      <td>0.000000</td>\n      <td>0.000000</td>\n      <td>0.142857</td>\n      <td>0.000000</td>\n      <td>0.00</td>\n      <td>0.000000</td>\n      <td>0.000000</td>\n      <td>0.000000</td>\n      <td>0.000000</td>\n      <td>0.000000</td>\n      <td>0.000000</td>\n      <td>0.000000</td>\n      <td>0.000000</td>\n      <td>0.000000</td>\n      <td>0.00</td>\n      <td>0.000000</td>\n      <td>0.142857</td>\n      <td>0.000000</td>\n      <td>0.000000</td>\n      <td>0.000000</td>\n      <td>0.000000</td>\n      <td>0.142857</td>\n      <td>0.00</td>\n      <td>0.000000</td>\n      <td>0.000000</td>\n      <td>0.000000</td>\n      <td>0.000000</td>\n      <td>0.000000</td>\n      <td>0.000000</td>\n      <td>0.000000</td>\n      <td>0.000000</td>\n      <td>0.000000</td>\n      <td>0.0</td>\n      <td>0.000000</td>\n      <td>0.000000</td>\n      <td>0.0</td>\n      <td>0.000000</td>\n      <td>0.000000</td>\n      <td>0.000000</td>\n      <td>0.000000</td>\n      <td>0.142857</td>\n      <td>0.000000</td>\n      <td>0.000000</td>\n      <td>0.0</td>\n      <td>0.00</td>\n      <td>0.000000</td>\n      <td>0.000000</td>\n      <td>0.0</td>\n      <td>0.000000</td>\n      <td>0.00</td>\n      <td>0.000000</td>\n      <td>0.000000</td>\n      <td>0.00</td>\n      <td>0.000000</td>\n      <td>0.000000</td>\n      <td>0.000000</td>\n      <td>0.000000</td>\n      <td>0.000000</td>\n      <td>0.000000</td>\n      <td>0.000000</td>\n      <td>0.000000</td>\n      <td>0.000000</td>\n      <td>0.000000</td>\n      <td>0.142857</td>\n      <td>0.0</td>\n      <td>0.000000</td>\n      <td>0.142857</td>\n      <td>0.000000</td>\n      <td>0.142857</td>\n      <td>0.000000</td>\n      <td>0.000000</td>\n      <td>0.0</td>\n      <td>0.000000</td>\n      <td>0.000000</td>\n      <td>0.000000</td>\n      <td>0.000000</td>\n      <td>0.00</td>\n      <td>0.000000</td>\n      <td>0.0</td>\n      <td>0.00</td>\n      <td>0.00</td>\n      <td>0.000000</td>\n      <td>0.000000</td>\n      <td>0.000000</td>\n      <td>0.000000</td>\n      <td>0.000000</td>\n      <td>0.000000</td>\n      <td>0.000000</td>\n      <td>0.000000</td>\n      <td>0.000000</td>\n      <td>0.000000</td>\n      <td>0.000000</td>\n      <td>0.00</td>\n      <td>0.000000</td>\n      <td>0.000000</td>\n      <td>0.000000</td>\n      <td>0.000000</td>\n      <td>0.00</td>\n      <td>0.000000</td>\n    </tr>\n    <tr>\n      <th>17</th>\n      <td>Parkwoods</td>\n      <td>0.000000</td>\n      <td>0.000000</td>\n      <td>0.000000</td>\n      <td>0.000000</td>\n      <td>0.000000</td>\n      <td>0.000000</td>\n      <td>0.0</td>\n      <td>0.000000</td>\n      <td>0.000000</td>\n      <td>0.000000</td>\n      <td>0.000000</td>\n      <td>0.00</td>\n      <td>0.000000</td>\n      <td>0.000000</td>\n      <td>0.000000</td>\n      <td>0.000000</td>\n      <td>0.000000</td>\n      <td>0.000000</td>\n      <td>0.000000</td>\n      <td>0.000000</td>\n      <td>0.000000</td>\n      <td>0.00</td>\n      <td>0.000000</td>\n      <td>0.000000</td>\n      <td>0.000000</td>\n      <td>0.000000</td>\n      <td>0.000000</td>\n      <td>0.000000</td>\n      <td>0.000000</td>\n      <td>0.00</td>\n      <td>0.000000</td>\n      <td>0.000000</td>\n      <td>0.000000</td>\n      <td>0.000000</td>\n      <td>0.000000</td>\n      <td>0.000000</td>\n      <td>0.000000</td>\n      <td>0.000000</td>\n      <td>0.000000</td>\n      <td>0.0</td>\n      <td>0.000000</td>\n      <td>0.000000</td>\n      <td>0.5</td>\n      <td>0.000000</td>\n      <td>0.000000</td>\n      <td>0.000000</td>\n      <td>0.000000</td>\n      <td>0.000000</td>\n      <td>0.000000</td>\n      <td>0.000000</td>\n      <td>0.0</td>\n      <td>0.00</td>\n      <td>0.000000</td>\n      <td>0.000000</td>\n      <td>0.0</td>\n      <td>0.000000</td>\n      <td>0.00</td>\n      <td>0.000000</td>\n      <td>0.000000</td>\n      <td>0.00</td>\n      <td>0.000000</td>\n      <td>0.000000</td>\n      <td>0.000000</td>\n      <td>0.000000</td>\n      <td>0.000000</td>\n      <td>0.000000</td>\n      <td>0.000000</td>\n      <td>0.000000</td>\n      <td>0.000000</td>\n      <td>0.000000</td>\n      <td>0.000000</td>\n      <td>0.0</td>\n      <td>0.000000</td>\n      <td>0.000000</td>\n      <td>0.000000</td>\n      <td>0.000000</td>\n      <td>0.000000</td>\n      <td>0.000000</td>\n      <td>0.0</td>\n      <td>0.500000</td>\n      <td>0.000000</td>\n      <td>0.000000</td>\n      <td>0.000000</td>\n      <td>0.00</td>\n      <td>0.000000</td>\n      <td>0.0</td>\n      <td>0.00</td>\n      <td>0.00</td>\n      <td>0.000000</td>\n      <td>0.000000</td>\n      <td>0.000000</td>\n      <td>0.000000</td>\n      <td>0.000000</td>\n      <td>0.000000</td>\n      <td>0.000000</td>\n      <td>0.000000</td>\n      <td>0.000000</td>\n      <td>0.000000</td>\n      <td>0.000000</td>\n      <td>0.00</td>\n      <td>0.000000</td>\n      <td>0.000000</td>\n      <td>0.000000</td>\n      <td>0.000000</td>\n      <td>0.00</td>\n      <td>0.000000</td>\n    </tr>\n    <tr>\n      <th>18</th>\n      <td>Victoria Village</td>\n      <td>0.000000</td>\n      <td>0.000000</td>\n      <td>0.000000</td>\n      <td>0.000000</td>\n      <td>0.000000</td>\n      <td>0.000000</td>\n      <td>0.0</td>\n      <td>0.000000</td>\n      <td>0.000000</td>\n      <td>0.000000</td>\n      <td>0.000000</td>\n      <td>0.00</td>\n      <td>0.000000</td>\n      <td>0.000000</td>\n      <td>0.000000</td>\n      <td>0.000000</td>\n      <td>0.000000</td>\n      <td>0.000000</td>\n      <td>0.000000</td>\n      <td>0.000000</td>\n      <td>0.000000</td>\n      <td>0.00</td>\n      <td>0.000000</td>\n      <td>0.000000</td>\n      <td>0.000000</td>\n      <td>0.000000</td>\n      <td>0.000000</td>\n      <td>0.000000</td>\n      <td>0.250000</td>\n      <td>0.00</td>\n      <td>0.000000</td>\n      <td>0.000000</td>\n      <td>0.000000</td>\n      <td>0.000000</td>\n      <td>0.000000</td>\n      <td>0.000000</td>\n      <td>0.000000</td>\n      <td>0.000000</td>\n      <td>0.000000</td>\n      <td>0.0</td>\n      <td>0.000000</td>\n      <td>0.000000</td>\n      <td>0.0</td>\n      <td>0.000000</td>\n      <td>0.000000</td>\n      <td>0.000000</td>\n      <td>0.000000</td>\n      <td>0.000000</td>\n      <td>0.000000</td>\n      <td>0.000000</td>\n      <td>0.0</td>\n      <td>0.00</td>\n      <td>0.000000</td>\n      <td>0.000000</td>\n      <td>0.0</td>\n      <td>0.000000</td>\n      <td>0.25</td>\n      <td>0.000000</td>\n      <td>0.000000</td>\n      <td>0.00</td>\n      <td>0.000000</td>\n      <td>0.000000</td>\n      <td>0.000000</td>\n      <td>0.000000</td>\n      <td>0.000000</td>\n      <td>0.000000</td>\n      <td>0.000000</td>\n      <td>0.000000</td>\n      <td>0.000000</td>\n      <td>0.000000</td>\n      <td>0.000000</td>\n      <td>0.0</td>\n      <td>0.000000</td>\n      <td>0.000000</td>\n      <td>0.000000</td>\n      <td>0.000000</td>\n      <td>0.000000</td>\n      <td>0.000000</td>\n      <td>0.0</td>\n      <td>0.000000</td>\n      <td>0.000000</td>\n      <td>0.000000</td>\n      <td>0.250000</td>\n      <td>0.00</td>\n      <td>0.000000</td>\n      <td>0.0</td>\n      <td>0.25</td>\n      <td>0.00</td>\n      <td>0.000000</td>\n      <td>0.000000</td>\n      <td>0.000000</td>\n      <td>0.000000</td>\n      <td>0.000000</td>\n      <td>0.000000</td>\n      <td>0.000000</td>\n      <td>0.000000</td>\n      <td>0.000000</td>\n      <td>0.000000</td>\n      <td>0.000000</td>\n      <td>0.00</td>\n      <td>0.000000</td>\n      <td>0.000000</td>\n      <td>0.000000</td>\n      <td>0.000000</td>\n      <td>0.00</td>\n      <td>0.000000</td>\n    </tr>\n    <tr>\n      <th>19</th>\n      <td>Willowdale , Newtonbrook</td>\n      <td>0.000000</td>\n      <td>0.000000</td>\n      <td>0.000000</td>\n      <td>0.000000</td>\n      <td>0.000000</td>\n      <td>0.000000</td>\n      <td>0.0</td>\n      <td>0.000000</td>\n      <td>0.000000</td>\n      <td>0.000000</td>\n      <td>0.000000</td>\n      <td>0.00</td>\n      <td>0.000000</td>\n      <td>0.000000</td>\n      <td>0.000000</td>\n      <td>0.000000</td>\n      <td>0.000000</td>\n      <td>0.000000</td>\n      <td>0.000000</td>\n      <td>0.000000</td>\n      <td>0.000000</td>\n      <td>0.00</td>\n      <td>0.000000</td>\n      <td>0.000000</td>\n      <td>0.000000</td>\n      <td>0.000000</td>\n      <td>0.000000</td>\n      <td>0.000000</td>\n      <td>0.000000</td>\n      <td>0.00</td>\n      <td>0.000000</td>\n      <td>0.000000</td>\n      <td>0.000000</td>\n      <td>0.000000</td>\n      <td>0.000000</td>\n      <td>0.000000</td>\n      <td>0.000000</td>\n      <td>0.000000</td>\n      <td>0.000000</td>\n      <td>0.0</td>\n      <td>0.000000</td>\n      <td>0.000000</td>\n      <td>0.0</td>\n      <td>0.000000</td>\n      <td>0.000000</td>\n      <td>0.000000</td>\n      <td>0.000000</td>\n      <td>0.000000</td>\n      <td>0.000000</td>\n      <td>0.000000</td>\n      <td>0.0</td>\n      <td>0.00</td>\n      <td>0.000000</td>\n      <td>0.500000</td>\n      <td>0.0</td>\n      <td>0.000000</td>\n      <td>0.00</td>\n      <td>0.000000</td>\n      <td>0.000000</td>\n      <td>0.00</td>\n      <td>0.000000</td>\n      <td>0.000000</td>\n      <td>0.000000</td>\n      <td>0.000000</td>\n      <td>0.000000</td>\n      <td>0.000000</td>\n      <td>0.000000</td>\n      <td>0.000000</td>\n      <td>0.000000</td>\n      <td>0.000000</td>\n      <td>0.000000</td>\n      <td>0.0</td>\n      <td>0.000000</td>\n      <td>0.000000</td>\n      <td>0.000000</td>\n      <td>0.000000</td>\n      <td>0.000000</td>\n      <td>0.000000</td>\n      <td>0.0</td>\n      <td>0.500000</td>\n      <td>0.000000</td>\n      <td>0.000000</td>\n      <td>0.000000</td>\n      <td>0.00</td>\n      <td>0.000000</td>\n      <td>0.0</td>\n      <td>0.00</td>\n      <td>0.00</td>\n      <td>0.000000</td>\n      <td>0.000000</td>\n      <td>0.000000</td>\n      <td>0.000000</td>\n      <td>0.000000</td>\n      <td>0.000000</td>\n      <td>0.000000</td>\n      <td>0.000000</td>\n      <td>0.000000</td>\n      <td>0.000000</td>\n      <td>0.000000</td>\n      <td>0.00</td>\n      <td>0.000000</td>\n      <td>0.000000</td>\n      <td>0.000000</td>\n      <td>0.000000</td>\n      <td>0.00</td>\n      <td>0.000000</td>\n    </tr>\n    <tr>\n      <th>20</th>\n      <td>Willowdale South</td>\n      <td>0.000000</td>\n      <td>0.000000</td>\n      <td>0.000000</td>\n      <td>0.000000</td>\n      <td>0.029412</td>\n      <td>0.000000</td>\n      <td>0.0</td>\n      <td>0.000000</td>\n      <td>0.029412</td>\n      <td>0.000000</td>\n      <td>0.000000</td>\n      <td>0.00</td>\n      <td>0.000000</td>\n      <td>0.000000</td>\n      <td>0.000000</td>\n      <td>0.000000</td>\n      <td>0.029412</td>\n      <td>0.000000</td>\n      <td>0.000000</td>\n      <td>0.000000</td>\n      <td>0.000000</td>\n      <td>0.00</td>\n      <td>0.058824</td>\n      <td>0.000000</td>\n      <td>0.000000</td>\n      <td>0.000000</td>\n      <td>0.000000</td>\n      <td>0.000000</td>\n      <td>0.088235</td>\n      <td>0.00</td>\n      <td>0.000000</td>\n      <td>0.000000</td>\n      <td>0.000000</td>\n      <td>0.000000</td>\n      <td>0.000000</td>\n      <td>0.000000</td>\n      <td>0.000000</td>\n      <td>0.029412</td>\n      <td>0.000000</td>\n      <td>0.0</td>\n      <td>0.029412</td>\n      <td>0.029412</td>\n      <td>0.0</td>\n      <td>0.000000</td>\n      <td>0.000000</td>\n      <td>0.000000</td>\n      <td>0.000000</td>\n      <td>0.000000</td>\n      <td>0.000000</td>\n      <td>0.000000</td>\n      <td>0.0</td>\n      <td>0.00</td>\n      <td>0.029412</td>\n      <td>0.000000</td>\n      <td>0.0</td>\n      <td>0.000000</td>\n      <td>0.00</td>\n      <td>0.029412</td>\n      <td>0.029412</td>\n      <td>0.00</td>\n      <td>0.000000</td>\n      <td>0.000000</td>\n      <td>0.029412</td>\n      <td>0.000000</td>\n      <td>0.029412</td>\n      <td>0.029412</td>\n      <td>0.000000</td>\n      <td>0.000000</td>\n      <td>0.029412</td>\n      <td>0.000000</td>\n      <td>0.000000</td>\n      <td>0.0</td>\n      <td>0.000000</td>\n      <td>0.000000</td>\n      <td>0.029412</td>\n      <td>0.000000</td>\n      <td>0.000000</td>\n      <td>0.029412</td>\n      <td>0.0</td>\n      <td>0.000000</td>\n      <td>0.029412</td>\n      <td>0.000000</td>\n      <td>0.058824</td>\n      <td>0.00</td>\n      <td>0.029412</td>\n      <td>0.0</td>\n      <td>0.00</td>\n      <td>0.00</td>\n      <td>0.088235</td>\n      <td>0.029412</td>\n      <td>0.000000</td>\n      <td>0.029412</td>\n      <td>0.000000</td>\n      <td>0.058824</td>\n      <td>0.000000</td>\n      <td>0.000000</td>\n      <td>0.000000</td>\n      <td>0.058824</td>\n      <td>0.000000</td>\n      <td>0.00</td>\n      <td>0.000000</td>\n      <td>0.000000</td>\n      <td>0.000000</td>\n      <td>0.029412</td>\n      <td>0.00</td>\n      <td>0.000000</td>\n    </tr>\n    <tr>\n      <th>21</th>\n      <td>Willowdale West</td>\n      <td>0.000000</td>\n      <td>0.000000</td>\n      <td>0.000000</td>\n      <td>0.000000</td>\n      <td>0.000000</td>\n      <td>0.000000</td>\n      <td>0.0</td>\n      <td>0.000000</td>\n      <td>0.000000</td>\n      <td>0.000000</td>\n      <td>0.000000</td>\n      <td>0.00</td>\n      <td>0.000000</td>\n      <td>0.000000</td>\n      <td>0.000000</td>\n      <td>0.000000</td>\n      <td>0.000000</td>\n      <td>0.000000</td>\n      <td>0.000000</td>\n      <td>0.000000</td>\n      <td>0.000000</td>\n      <td>0.00</td>\n      <td>0.000000</td>\n      <td>0.000000</td>\n      <td>0.000000</td>\n      <td>0.000000</td>\n      <td>0.000000</td>\n      <td>0.000000</td>\n      <td>0.250000</td>\n      <td>0.00</td>\n      <td>0.000000</td>\n      <td>0.000000</td>\n      <td>0.000000</td>\n      <td>0.000000</td>\n      <td>0.000000</td>\n      <td>0.000000</td>\n      <td>0.000000</td>\n      <td>0.000000</td>\n      <td>0.000000</td>\n      <td>0.0</td>\n      <td>0.000000</td>\n      <td>0.000000</td>\n      <td>0.0</td>\n      <td>0.000000</td>\n      <td>0.000000</td>\n      <td>0.000000</td>\n      <td>0.000000</td>\n      <td>0.000000</td>\n      <td>0.000000</td>\n      <td>0.000000</td>\n      <td>0.0</td>\n      <td>0.00</td>\n      <td>0.000000</td>\n      <td>0.000000</td>\n      <td>0.0</td>\n      <td>0.000000</td>\n      <td>0.00</td>\n      <td>0.000000</td>\n      <td>0.000000</td>\n      <td>0.00</td>\n      <td>0.000000</td>\n      <td>0.000000</td>\n      <td>0.000000</td>\n      <td>0.000000</td>\n      <td>0.000000</td>\n      <td>0.000000</td>\n      <td>0.000000</td>\n      <td>0.000000</td>\n      <td>0.000000</td>\n      <td>0.000000</td>\n      <td>0.000000</td>\n      <td>0.0</td>\n      <td>0.000000</td>\n      <td>0.000000</td>\n      <td>0.000000</td>\n      <td>0.000000</td>\n      <td>0.000000</td>\n      <td>0.000000</td>\n      <td>0.0</td>\n      <td>0.000000</td>\n      <td>0.000000</td>\n      <td>0.250000</td>\n      <td>0.250000</td>\n      <td>0.00</td>\n      <td>0.000000</td>\n      <td>0.0</td>\n      <td>0.00</td>\n      <td>0.00</td>\n      <td>0.000000</td>\n      <td>0.000000</td>\n      <td>0.000000</td>\n      <td>0.000000</td>\n      <td>0.000000</td>\n      <td>0.000000</td>\n      <td>0.000000</td>\n      <td>0.000000</td>\n      <td>0.000000</td>\n      <td>0.000000</td>\n      <td>0.000000</td>\n      <td>0.00</td>\n      <td>0.000000</td>\n      <td>0.000000</td>\n      <td>0.000000</td>\n      <td>0.000000</td>\n      <td>0.25</td>\n      <td>0.000000</td>\n    </tr>\n    <tr>\n      <th>22</th>\n      <td>York Mills West</td>\n      <td>0.000000</td>\n      <td>0.000000</td>\n      <td>0.000000</td>\n      <td>0.000000</td>\n      <td>0.000000</td>\n      <td>0.000000</td>\n      <td>0.0</td>\n      <td>0.000000</td>\n      <td>0.000000</td>\n      <td>0.000000</td>\n      <td>0.000000</td>\n      <td>0.00</td>\n      <td>0.000000</td>\n      <td>0.000000</td>\n      <td>0.000000</td>\n      <td>0.000000</td>\n      <td>0.000000</td>\n      <td>0.000000</td>\n      <td>0.000000</td>\n      <td>0.000000</td>\n      <td>0.000000</td>\n      <td>0.00</td>\n      <td>0.000000</td>\n      <td>0.000000</td>\n      <td>0.000000</td>\n      <td>0.000000</td>\n      <td>0.000000</td>\n      <td>0.000000</td>\n      <td>0.000000</td>\n      <td>0.00</td>\n      <td>0.333333</td>\n      <td>0.333333</td>\n      <td>0.000000</td>\n      <td>0.000000</td>\n      <td>0.000000</td>\n      <td>0.000000</td>\n      <td>0.000000</td>\n      <td>0.000000</td>\n      <td>0.000000</td>\n      <td>0.0</td>\n      <td>0.000000</td>\n      <td>0.000000</td>\n      <td>0.0</td>\n      <td>0.000000</td>\n      <td>0.000000</td>\n      <td>0.000000</td>\n      <td>0.000000</td>\n      <td>0.000000</td>\n      <td>0.000000</td>\n      <td>0.000000</td>\n      <td>0.0</td>\n      <td>0.00</td>\n      <td>0.000000</td>\n      <td>0.000000</td>\n      <td>0.0</td>\n      <td>0.000000</td>\n      <td>0.00</td>\n      <td>0.000000</td>\n      <td>0.000000</td>\n      <td>0.00</td>\n      <td>0.000000</td>\n      <td>0.000000</td>\n      <td>0.000000</td>\n      <td>0.000000</td>\n      <td>0.000000</td>\n      <td>0.000000</td>\n      <td>0.000000</td>\n      <td>0.000000</td>\n      <td>0.000000</td>\n      <td>0.000000</td>\n      <td>0.000000</td>\n      <td>0.0</td>\n      <td>0.000000</td>\n      <td>0.000000</td>\n      <td>0.000000</td>\n      <td>0.000000</td>\n      <td>0.000000</td>\n      <td>0.000000</td>\n      <td>0.0</td>\n      <td>0.333333</td>\n      <td>0.000000</td>\n      <td>0.000000</td>\n      <td>0.000000</td>\n      <td>0.00</td>\n      <td>0.000000</td>\n      <td>0.0</td>\n      <td>0.00</td>\n      <td>0.00</td>\n      <td>0.000000</td>\n      <td>0.000000</td>\n      <td>0.000000</td>\n      <td>0.000000</td>\n      <td>0.000000</td>\n      <td>0.000000</td>\n      <td>0.000000</td>\n      <td>0.000000</td>\n      <td>0.000000</td>\n      <td>0.000000</td>\n      <td>0.000000</td>\n      <td>0.00</td>\n      <td>0.000000</td>\n      <td>0.000000</td>\n      <td>0.000000</td>\n      <td>0.000000</td>\n      <td>0.00</td>\n      <td>0.000000</td>\n    </tr>\n  </tbody>\n</table>\n</div>"
     },
     "metadata": {},
     "execution_count": 370
    }
   ],
   "source": [
    "north_york_grouped = north_york_dummies.groupby(\"Neighborhood\").mean().reset_index()\n",
    "north_york_grouped"
   ]
  },
  {
   "cell_type": "code",
   "execution_count": 371,
   "metadata": {},
   "outputs": [
    {
     "output_type": "execute_result",
     "data": {
      "text/plain": [
       "(23, 107)"
      ]
     },
     "metadata": {},
     "execution_count": 371
    }
   ],
   "source": [
    " north_york_grouped.shape"
   ]
  },
  {
   "source": [
    "Lets print 10 top venues for each neighborhood"
   ],
   "cell_type": "markdown",
   "metadata": {}
  },
  {
   "cell_type": "code",
   "execution_count": 372,
   "metadata": {},
   "outputs": [],
   "source": [
    "import numpy as np"
   ]
  },
  {
   "cell_type": "code",
   "execution_count": 373,
   "metadata": {},
   "outputs": [
    {
     "output_type": "execute_result",
     "data": {
      "text/plain": [
       "                                         Neighborhood  \\\n",
       "0   Bathurst Manor , Wilson Heights , Downsview North   \n",
       "1                                     Bayview Village   \n",
       "2                  Bedford Park , Lawrence Manor East   \n",
       "3                                     Don Mills North   \n",
       "4                                     Don Mills South   \n",
       "5                                   Downsview Central   \n",
       "6                                      Downsview East   \n",
       "7                                 Downsview Northwest   \n",
       "8                                      Downsview West   \n",
       "9                      Fairview , Henry Farm , Oriole   \n",
       "10                                          Glencairn   \n",
       "11                                  Hillcrest Village   \n",
       "12                                      Humber Summit   \n",
       "13                                  Humberlea , Emery   \n",
       "14                  Lawrence Manor , Lawrence Heights   \n",
       "15         North Park , Maple Leaf Park , Upwood Park   \n",
       "16                   Northwood Park , York University   \n",
       "17                                          Parkwoods   \n",
       "18                                   Victoria Village   \n",
       "19                           Willowdale , Newtonbrook   \n",
       "20                                   Willowdale South   \n",
       "21                                    Willowdale West   \n",
       "22                                    York Mills West   \n",
       "\n",
       "            1st Most Common Venue       2nd Most Common Venue  \\\n",
       "0                            Bank                 Coffee Shop   \n",
       "1              Chinese Restaurant                        Café   \n",
       "2                     Coffee Shop          Italian Restaurant   \n",
       "3                             Gym        Caribbean Restaurant   \n",
       "4                             Gym                 Coffee Shop   \n",
       "5                Business Service              Baseball Field   \n",
       "6                         Airport            Business Service   \n",
       "7            Gym / Fitness Center                Liquor Store   \n",
       "8                   Shopping Mall               Grocery Store   \n",
       "9                  Clothing Store                 Coffee Shop   \n",
       "10                     Playground                      Bakery   \n",
       "11           Fast Food Restaurant                 Golf Course   \n",
       "12                    Pizza Place        Caribbean Restaurant   \n",
       "13  Paper / Office Supplies Store              Baseball Field   \n",
       "14                 Clothing Store           Accessories Store   \n",
       "15                           Park  Construction & Landscaping   \n",
       "16                    Coffee Shop        Caribbean Restaurant   \n",
       "17              Food & Drink Shop                        Park   \n",
       "18                   Hockey Arena                 Pizza Place   \n",
       "19                            Gym                        Park   \n",
       "20               Ramen Restaurant                 Coffee Shop   \n",
       "21                       Wine Bar                    Pharmacy   \n",
       "22                           Park  Construction & Landscaping   \n",
       "\n",
       "        3rd Most Common Venue     4th Most Common Venue 5th Most Common Venue  \\\n",
       "0   Middle Eastern Restaurant        Chinese Restaurant           Pizza Place   \n",
       "1         Japanese Restaurant                      Bank     Accessories Store   \n",
       "2                 Pizza Place            Sandwich Place             Juice Bar   \n",
       "3                        Café       Japanese Restaurant         Luggage Store   \n",
       "4                  Restaurant                Beer Store        Discount Store   \n",
       "5                  Food Truck         Accessories Store                Lounge   \n",
       "6                        Park              Liquor Store         Movie Theater   \n",
       "7               Grocery Store        Athletics & Sports        Discount Store   \n",
       "8                       Hotel                      Bank                  Park   \n",
       "9        Fast Food Restaurant       Japanese Restaurant            Restaurant   \n",
       "10        Japanese Restaurant          Sushi Restaurant     Accessories Store   \n",
       "11                       Pool  Mediterranean Restaurant               Dog Run   \n",
       "12               Intersection         Accessories Store                Lounge   \n",
       "13          Accessories Store              Liquor Store         Movie Theater   \n",
       "14                   Boutique     Vietnamese Restaurant            Shoe Store   \n",
       "15                     Bakery          Basketball Court                Lounge   \n",
       "16         Miscellaneous Shop    Furniture / Home Store                   Bar   \n",
       "17          Accessories Store              Liquor Store         Movie Theater   \n",
       "18      Portuguese Restaurant               Coffee Shop     Accessories Store   \n",
       "19              Movie Theater         Mobile Phone Shop    Miscellaneous Shop   \n",
       "20           Sushi Restaurant                      Café         Shopping Mall   \n",
       "21                Pizza Place               Coffee Shop     Accessories Store   \n",
       "22          Convenience Store                    Lounge         Movie Theater   \n",
       "\n",
       "            6th Most Common Venue          7th Most Common Venue  \\\n",
       "0                   Deli / Bodega              Mobile Phone Shop   \n",
       "1                   Luggage Store  Paper / Office Supplies Store   \n",
       "2                       Pet Store                       Pharmacy   \n",
       "3   Paper / Office Supplies Store                  Movie Theater   \n",
       "4                  Clothing Store             Chinese Restaurant   \n",
       "5   Paper / Office Supplies Store                  Movie Theater   \n",
       "6               Mobile Phone Shop             Miscellaneous Shop   \n",
       "7                   Movie Theater              Mobile Phone Shop   \n",
       "8                    Liquor Store                  Movie Theater   \n",
       "9                       Juice Bar                         Bakery   \n",
       "10                         Lounge                  Movie Theater   \n",
       "11                   Liquor Store              Mobile Phone Shop   \n",
       "12                  Movie Theater              Mobile Phone Shop   \n",
       "13              Mobile Phone Shop             Miscellaneous Shop   \n",
       "14             Miscellaneous Shop                      Gift Shop   \n",
       "15  Paper / Office Supplies Store                  Movie Theater   \n",
       "16                  Metro Station                 Massage Studio   \n",
       "17              Mobile Phone Shop             Miscellaneous Shop   \n",
       "18                  Luggage Store                  Movie Theater   \n",
       "19      Middle Eastern Restaurant                  Metro Station   \n",
       "20                    Pizza Place                         Lounge   \n",
       "21                         Lounge                  Movie Theater   \n",
       "22              Mobile Phone Shop             Miscellaneous Shop   \n",
       "\n",
       "        8th Most Common Venue      9th Most Common Venue  \\\n",
       "0                       Diner                   Pharmacy   \n",
       "1               Movie Theater          Mobile Phone Shop   \n",
       "2     Comfort Food Restaurant       Fast Food Restaurant   \n",
       "3           Mobile Phone Shop         Miscellaneous Shop   \n",
       "4              Sandwich Place              Shopping Mall   \n",
       "5           Mobile Phone Shop         Miscellaneous Shop   \n",
       "6   Middle Eastern Restaurant              Metro Station   \n",
       "7          Miscellaneous Shop  Middle Eastern Restaurant   \n",
       "8           Mobile Phone Shop         Miscellaneous Shop   \n",
       "9                        Bank                 Food Court   \n",
       "10          Mobile Phone Shop         Miscellaneous Shop   \n",
       "11         Miscellaneous Shop  Middle Eastern Restaurant   \n",
       "12         Miscellaneous Shop  Middle Eastern Restaurant   \n",
       "13  Middle Eastern Restaurant              Metro Station   \n",
       "14     Furniture / Home Store                Coffee Shop   \n",
       "15          Mobile Phone Shop         Miscellaneous Shop   \n",
       "16              Luggage Store                       Park   \n",
       "17  Middle Eastern Restaurant              Metro Station   \n",
       "18          Mobile Phone Shop         Miscellaneous Shop   \n",
       "19                Men's Store   Mediterranean Restaurant   \n",
       "20       Fast Food Restaurant          Electronics Store   \n",
       "21          Mobile Phone Shop         Miscellaneous Shop   \n",
       "22  Middle Eastern Restaurant              Metro Station   \n",
       "\n",
       "           10th Most Common Venue  \n",
       "0                  Sandwich Place  \n",
       "1              Miscellaneous Shop  \n",
       "2                            Café  \n",
       "3       Middle Eastern Restaurant  \n",
       "4             Sporting Goods Shop  \n",
       "5       Middle Eastern Restaurant  \n",
       "6                     Men's Store  \n",
       "7                   Metro Station  \n",
       "8       Middle Eastern Restaurant  \n",
       "9              Salon / Barbershop  \n",
       "10      Middle Eastern Restaurant  \n",
       "11                  Metro Station  \n",
       "12                  Metro Station  \n",
       "13                    Men's Store  \n",
       "14                   Carpet Store  \n",
       "15      Middle Eastern Restaurant  \n",
       "16  Paper / Office Supplies Store  \n",
       "17                    Men's Store  \n",
       "18      Middle Eastern Restaurant  \n",
       "19                 Massage Studio  \n",
       "20      Middle Eastern Restaurant  \n",
       "21      Middle Eastern Restaurant  \n",
       "22                    Men's Store  "
      ],
      "text/html": "<div>\n<style scoped>\n    .dataframe tbody tr th:only-of-type {\n        vertical-align: middle;\n    }\n\n    .dataframe tbody tr th {\n        vertical-align: top;\n    }\n\n    .dataframe thead th {\n        text-align: right;\n    }\n</style>\n<table border=\"1\" class=\"dataframe\">\n  <thead>\n    <tr style=\"text-align: right;\">\n      <th></th>\n      <th>Neighborhood</th>\n      <th>1st Most Common Venue</th>\n      <th>2nd Most Common Venue</th>\n      <th>3rd Most Common Venue</th>\n      <th>4th Most Common Venue</th>\n      <th>5th Most Common Venue</th>\n      <th>6th Most Common Venue</th>\n      <th>7th Most Common Venue</th>\n      <th>8th Most Common Venue</th>\n      <th>9th Most Common Venue</th>\n      <th>10th Most Common Venue</th>\n    </tr>\n  </thead>\n  <tbody>\n    <tr>\n      <th>0</th>\n      <td>Bathurst Manor , Wilson Heights , Downsview North</td>\n      <td>Bank</td>\n      <td>Coffee Shop</td>\n      <td>Middle Eastern Restaurant</td>\n      <td>Chinese Restaurant</td>\n      <td>Pizza Place</td>\n      <td>Deli / Bodega</td>\n      <td>Mobile Phone Shop</td>\n      <td>Diner</td>\n      <td>Pharmacy</td>\n      <td>Sandwich Place</td>\n    </tr>\n    <tr>\n      <th>1</th>\n      <td>Bayview Village</td>\n      <td>Chinese Restaurant</td>\n      <td>Café</td>\n      <td>Japanese Restaurant</td>\n      <td>Bank</td>\n      <td>Accessories Store</td>\n      <td>Luggage Store</td>\n      <td>Paper / Office Supplies Store</td>\n      <td>Movie Theater</td>\n      <td>Mobile Phone Shop</td>\n      <td>Miscellaneous Shop</td>\n    </tr>\n    <tr>\n      <th>2</th>\n      <td>Bedford Park , Lawrence Manor East</td>\n      <td>Coffee Shop</td>\n      <td>Italian Restaurant</td>\n      <td>Pizza Place</td>\n      <td>Sandwich Place</td>\n      <td>Juice Bar</td>\n      <td>Pet Store</td>\n      <td>Pharmacy</td>\n      <td>Comfort Food Restaurant</td>\n      <td>Fast Food Restaurant</td>\n      <td>Café</td>\n    </tr>\n    <tr>\n      <th>3</th>\n      <td>Don Mills North</td>\n      <td>Gym</td>\n      <td>Caribbean Restaurant</td>\n      <td>Café</td>\n      <td>Japanese Restaurant</td>\n      <td>Luggage Store</td>\n      <td>Paper / Office Supplies Store</td>\n      <td>Movie Theater</td>\n      <td>Mobile Phone Shop</td>\n      <td>Miscellaneous Shop</td>\n      <td>Middle Eastern Restaurant</td>\n    </tr>\n    <tr>\n      <th>4</th>\n      <td>Don Mills South</td>\n      <td>Gym</td>\n      <td>Coffee Shop</td>\n      <td>Restaurant</td>\n      <td>Beer Store</td>\n      <td>Discount Store</td>\n      <td>Clothing Store</td>\n      <td>Chinese Restaurant</td>\n      <td>Sandwich Place</td>\n      <td>Shopping Mall</td>\n      <td>Sporting Goods Shop</td>\n    </tr>\n    <tr>\n      <th>5</th>\n      <td>Downsview Central</td>\n      <td>Business Service</td>\n      <td>Baseball Field</td>\n      <td>Food Truck</td>\n      <td>Accessories Store</td>\n      <td>Lounge</td>\n      <td>Paper / Office Supplies Store</td>\n      <td>Movie Theater</td>\n      <td>Mobile Phone Shop</td>\n      <td>Miscellaneous Shop</td>\n      <td>Middle Eastern Restaurant</td>\n    </tr>\n    <tr>\n      <th>6</th>\n      <td>Downsview East</td>\n      <td>Airport</td>\n      <td>Business Service</td>\n      <td>Park</td>\n      <td>Liquor Store</td>\n      <td>Movie Theater</td>\n      <td>Mobile Phone Shop</td>\n      <td>Miscellaneous Shop</td>\n      <td>Middle Eastern Restaurant</td>\n      <td>Metro Station</td>\n      <td>Men's Store</td>\n    </tr>\n    <tr>\n      <th>7</th>\n      <td>Downsview Northwest</td>\n      <td>Gym / Fitness Center</td>\n      <td>Liquor Store</td>\n      <td>Grocery Store</td>\n      <td>Athletics &amp; Sports</td>\n      <td>Discount Store</td>\n      <td>Movie Theater</td>\n      <td>Mobile Phone Shop</td>\n      <td>Miscellaneous Shop</td>\n      <td>Middle Eastern Restaurant</td>\n      <td>Metro Station</td>\n    </tr>\n    <tr>\n      <th>8</th>\n      <td>Downsview West</td>\n      <td>Shopping Mall</td>\n      <td>Grocery Store</td>\n      <td>Hotel</td>\n      <td>Bank</td>\n      <td>Park</td>\n      <td>Liquor Store</td>\n      <td>Movie Theater</td>\n      <td>Mobile Phone Shop</td>\n      <td>Miscellaneous Shop</td>\n      <td>Middle Eastern Restaurant</td>\n    </tr>\n    <tr>\n      <th>9</th>\n      <td>Fairview , Henry Farm , Oriole</td>\n      <td>Clothing Store</td>\n      <td>Coffee Shop</td>\n      <td>Fast Food Restaurant</td>\n      <td>Japanese Restaurant</td>\n      <td>Restaurant</td>\n      <td>Juice Bar</td>\n      <td>Bakery</td>\n      <td>Bank</td>\n      <td>Food Court</td>\n      <td>Salon / Barbershop</td>\n    </tr>\n    <tr>\n      <th>10</th>\n      <td>Glencairn</td>\n      <td>Playground</td>\n      <td>Bakery</td>\n      <td>Japanese Restaurant</td>\n      <td>Sushi Restaurant</td>\n      <td>Accessories Store</td>\n      <td>Lounge</td>\n      <td>Movie Theater</td>\n      <td>Mobile Phone Shop</td>\n      <td>Miscellaneous Shop</td>\n      <td>Middle Eastern Restaurant</td>\n    </tr>\n    <tr>\n      <th>11</th>\n      <td>Hillcrest Village</td>\n      <td>Fast Food Restaurant</td>\n      <td>Golf Course</td>\n      <td>Pool</td>\n      <td>Mediterranean Restaurant</td>\n      <td>Dog Run</td>\n      <td>Liquor Store</td>\n      <td>Mobile Phone Shop</td>\n      <td>Miscellaneous Shop</td>\n      <td>Middle Eastern Restaurant</td>\n      <td>Metro Station</td>\n    </tr>\n    <tr>\n      <th>12</th>\n      <td>Humber Summit</td>\n      <td>Pizza Place</td>\n      <td>Caribbean Restaurant</td>\n      <td>Intersection</td>\n      <td>Accessories Store</td>\n      <td>Lounge</td>\n      <td>Movie Theater</td>\n      <td>Mobile Phone Shop</td>\n      <td>Miscellaneous Shop</td>\n      <td>Middle Eastern Restaurant</td>\n      <td>Metro Station</td>\n    </tr>\n    <tr>\n      <th>13</th>\n      <td>Humberlea , Emery</td>\n      <td>Paper / Office Supplies Store</td>\n      <td>Baseball Field</td>\n      <td>Accessories Store</td>\n      <td>Liquor Store</td>\n      <td>Movie Theater</td>\n      <td>Mobile Phone Shop</td>\n      <td>Miscellaneous Shop</td>\n      <td>Middle Eastern Restaurant</td>\n      <td>Metro Station</td>\n      <td>Men's Store</td>\n    </tr>\n    <tr>\n      <th>14</th>\n      <td>Lawrence Manor , Lawrence Heights</td>\n      <td>Clothing Store</td>\n      <td>Accessories Store</td>\n      <td>Boutique</td>\n      <td>Vietnamese Restaurant</td>\n      <td>Shoe Store</td>\n      <td>Miscellaneous Shop</td>\n      <td>Gift Shop</td>\n      <td>Furniture / Home Store</td>\n      <td>Coffee Shop</td>\n      <td>Carpet Store</td>\n    </tr>\n    <tr>\n      <th>15</th>\n      <td>North Park , Maple Leaf Park , Upwood Park</td>\n      <td>Park</td>\n      <td>Construction &amp; Landscaping</td>\n      <td>Bakery</td>\n      <td>Basketball Court</td>\n      <td>Lounge</td>\n      <td>Paper / Office Supplies Store</td>\n      <td>Movie Theater</td>\n      <td>Mobile Phone Shop</td>\n      <td>Miscellaneous Shop</td>\n      <td>Middle Eastern Restaurant</td>\n    </tr>\n    <tr>\n      <th>16</th>\n      <td>Northwood Park , York University</td>\n      <td>Coffee Shop</td>\n      <td>Caribbean Restaurant</td>\n      <td>Miscellaneous Shop</td>\n      <td>Furniture / Home Store</td>\n      <td>Bar</td>\n      <td>Metro Station</td>\n      <td>Massage Studio</td>\n      <td>Luggage Store</td>\n      <td>Park</td>\n      <td>Paper / Office Supplies Store</td>\n    </tr>\n    <tr>\n      <th>17</th>\n      <td>Parkwoods</td>\n      <td>Food &amp; Drink Shop</td>\n      <td>Park</td>\n      <td>Accessories Store</td>\n      <td>Liquor Store</td>\n      <td>Movie Theater</td>\n      <td>Mobile Phone Shop</td>\n      <td>Miscellaneous Shop</td>\n      <td>Middle Eastern Restaurant</td>\n      <td>Metro Station</td>\n      <td>Men's Store</td>\n    </tr>\n    <tr>\n      <th>18</th>\n      <td>Victoria Village</td>\n      <td>Hockey Arena</td>\n      <td>Pizza Place</td>\n      <td>Portuguese Restaurant</td>\n      <td>Coffee Shop</td>\n      <td>Accessories Store</td>\n      <td>Luggage Store</td>\n      <td>Movie Theater</td>\n      <td>Mobile Phone Shop</td>\n      <td>Miscellaneous Shop</td>\n      <td>Middle Eastern Restaurant</td>\n    </tr>\n    <tr>\n      <th>19</th>\n      <td>Willowdale , Newtonbrook</td>\n      <td>Gym</td>\n      <td>Park</td>\n      <td>Movie Theater</td>\n      <td>Mobile Phone Shop</td>\n      <td>Miscellaneous Shop</td>\n      <td>Middle Eastern Restaurant</td>\n      <td>Metro Station</td>\n      <td>Men's Store</td>\n      <td>Mediterranean Restaurant</td>\n      <td>Massage Studio</td>\n    </tr>\n    <tr>\n      <th>20</th>\n      <td>Willowdale South</td>\n      <td>Ramen Restaurant</td>\n      <td>Coffee Shop</td>\n      <td>Sushi Restaurant</td>\n      <td>Café</td>\n      <td>Shopping Mall</td>\n      <td>Pizza Place</td>\n      <td>Lounge</td>\n      <td>Fast Food Restaurant</td>\n      <td>Electronics Store</td>\n      <td>Middle Eastern Restaurant</td>\n    </tr>\n    <tr>\n      <th>21</th>\n      <td>Willowdale West</td>\n      <td>Wine Bar</td>\n      <td>Pharmacy</td>\n      <td>Pizza Place</td>\n      <td>Coffee Shop</td>\n      <td>Accessories Store</td>\n      <td>Lounge</td>\n      <td>Movie Theater</td>\n      <td>Mobile Phone Shop</td>\n      <td>Miscellaneous Shop</td>\n      <td>Middle Eastern Restaurant</td>\n    </tr>\n    <tr>\n      <th>22</th>\n      <td>York Mills West</td>\n      <td>Park</td>\n      <td>Construction &amp; Landscaping</td>\n      <td>Convenience Store</td>\n      <td>Lounge</td>\n      <td>Movie Theater</td>\n      <td>Mobile Phone Shop</td>\n      <td>Miscellaneous Shop</td>\n      <td>Middle Eastern Restaurant</td>\n      <td>Metro Station</td>\n      <td>Men's Store</td>\n    </tr>\n  </tbody>\n</table>\n</div>"
     },
     "metadata": {},
     "execution_count": 373
    }
   ],
   "source": [
    "def return_most_common_venues(row, num_top_venues):\n",
    "    row_categories = row.iloc[1:]\n",
    "    row_categories_sorted = row_categories.sort_values(ascending=False)\n",
    "    return row_categories_sorted.index.values[0:num_top_venues]\n",
    "\n",
    "num_top_venues = 10\n",
    "\n",
    "indicators = ['st', 'nd', 'rd']\n",
    "\n",
    "# create columns according to number of top venues\n",
    "columns = ['Neighborhood']\n",
    "for ind in np.arange(num_top_venues):\n",
    "    try:\n",
    "        columns.append('{}{} Most Common Venue'.format(ind+1, indicators[ind]))\n",
    "    except:\n",
    "        columns.append('{}th Most Common Venue'.format(ind+1))\n",
    "\n",
    "# create a new dataframe\n",
    "neighborhoods_venues_sorted = pd.DataFrame(columns=columns)\n",
    "neighborhoods_venues_sorted['Neighborhood'] = north_york_grouped['Neighborhood']\n",
    "for ind in np.arange(north_york_grouped.shape[0]):\n",
    "    neighborhoods_venues_sorted.iloc[ind, 1:] = return_most_common_venues(north_york_grouped.iloc[ind, :], num_top_venues)\n",
    "\n",
    "neighborhoods_venues_sorted"
   ]
  },
  {
   "source": [
    "### Get Most Common Places in North York , Toronto"
   ],
   "cell_type": "markdown",
   "metadata": {}
  },
  {
   "cell_type": "code",
   "execution_count": 460,
   "metadata": {},
   "outputs": [],
   "source": [
    "# get the unique list of most_common_places in all neigh\n",
    "def get_most_common_place(neighborhoods_venues_sorted,val):\n",
    "    common_places_list = [venue for venues in neighborhoods_venues_sorted.iloc[:,val:].to_numpy() for venue in venues]\n",
    "    common_venues = pd.Series(np.array(common_places_list)).value_counts()\n",
    "    most_common_venues = common_venues.to_frame()\n",
    "    most_common_venues.reset_index(inplace =True)\n",
    "    most_common_venues.columns = [\"Venues\",\"Count\"]\n",
    "    return most_common_venues"
   ]
  },
  {
   "cell_type": "code",
   "execution_count": 461,
   "metadata": {},
   "outputs": [
    {
     "output_type": "execute_result",
     "data": {
      "text/plain": [
       "                          Venues  Count\n",
       "0             Miscellaneous Shop     18\n",
       "1              Mobile Phone Shop     17\n",
       "2      Middle Eastern Restaurant     17\n",
       "3                  Movie Theater     15\n",
       "4              Accessories Store      9\n",
       "5                  Metro Station      9\n",
       "6                    Coffee Shop      9\n",
       "7                         Lounge      7\n",
       "8                           Park      7\n",
       "9  Paper / Office Supplies Store      6"
      ],
      "text/html": "<div>\n<style scoped>\n    .dataframe tbody tr th:only-of-type {\n        vertical-align: middle;\n    }\n\n    .dataframe tbody tr th {\n        vertical-align: top;\n    }\n\n    .dataframe thead th {\n        text-align: right;\n    }\n</style>\n<table border=\"1\" class=\"dataframe\">\n  <thead>\n    <tr style=\"text-align: right;\">\n      <th></th>\n      <th>Venues</th>\n      <th>Count</th>\n    </tr>\n  </thead>\n  <tbody>\n    <tr>\n      <th>0</th>\n      <td>Miscellaneous Shop</td>\n      <td>18</td>\n    </tr>\n    <tr>\n      <th>1</th>\n      <td>Mobile Phone Shop</td>\n      <td>17</td>\n    </tr>\n    <tr>\n      <th>2</th>\n      <td>Middle Eastern Restaurant</td>\n      <td>17</td>\n    </tr>\n    <tr>\n      <th>3</th>\n      <td>Movie Theater</td>\n      <td>15</td>\n    </tr>\n    <tr>\n      <th>4</th>\n      <td>Accessories Store</td>\n      <td>9</td>\n    </tr>\n    <tr>\n      <th>5</th>\n      <td>Metro Station</td>\n      <td>9</td>\n    </tr>\n    <tr>\n      <th>6</th>\n      <td>Coffee Shop</td>\n      <td>9</td>\n    </tr>\n    <tr>\n      <th>7</th>\n      <td>Lounge</td>\n      <td>7</td>\n    </tr>\n    <tr>\n      <th>8</th>\n      <td>Park</td>\n      <td>7</td>\n    </tr>\n    <tr>\n      <th>9</th>\n      <td>Paper / Office Supplies Store</td>\n      <td>6</td>\n    </tr>\n  </tbody>\n</table>\n</div>"
     },
     "metadata": {},
     "execution_count": 461
    }
   ],
   "source": [
    "most_common_venues_in_north_york = get_most_common_place(neighborhoods_venues_sorted,1)\n",
    "Ten_most_common_venues_in_north_york = most_common_venues_in_north_york .head(10)\n",
    "Ten_most_common_venues_in_north_york"
   ]
  },
  {
   "source": [
    "The results show that while you are in any neighbourhood of North York Toronto, within a raduis of 500M of the neighborhood, you are most likely to see one of the following: miscellaneous shop, mobile phone shop, middle Eastern restaurant, movie theater, metro station, Coffee shop, Accessories store, park , lounge or pizza place"
   ],
   "cell_type": "markdown",
   "metadata": {}
  },
  {
   "source": [
    "## Clustering Neighborhoods in North York"
   ],
   "cell_type": "markdown",
   "metadata": {}
  },
  {
   "source": [
    "There are 23 neighborhoods with nearby venues. We want to cluster them into four clusters to understand the similarities between this neighborhoods"
   ],
   "cell_type": "markdown",
   "metadata": {}
  },
  {
   "cell_type": "code",
   "execution_count": 392,
   "metadata": {},
   "outputs": [
    {
     "output_type": "execute_result",
     "data": {
      "text/plain": [
       "array([0, 0, 0, 1, 1, 3, 1, 0, 0, 1, 1, 1, 0, 3, 1, 2, 1, 2, 0, 2, 0, 0,\n",
       "       2], dtype=int32)"
      ]
     },
     "metadata": {},
     "execution_count": 392
    }
   ],
   "source": [
    "kclusters = 4\n",
    "north_york_clustering_data = north_york_grouped.drop(\"Neighborhood\", 1)\n",
    "kmeans = KMeans(n_clusters=kclusters, random_state=0).fit(north_york_clustering_data)\n",
    "kmeans.labels_"
   ]
  },
  {
   "cell_type": "code",
   "execution_count": 451,
   "metadata": {},
   "outputs": [
    {
     "output_type": "execute_result",
     "data": {
      "text/plain": [
       "  PostalCode     Borough                    Neighborhood   Latitude  \\\n",
       "0        M2H  North York               Hillcrest Village  43.803762   \n",
       "1        M2J  North York  Fairview , Henry Farm , Oriole  43.778517   \n",
       "2        M2K  North York                 Bayview Village  43.786947   \n",
       "4        M2M  North York        Willowdale , Newtonbrook  43.789053   \n",
       "5        M2N  North York                Willowdale South  43.770120   \n",
       "\n",
       "   Longitude  Cluster Labels 1st Most Common Venue 2nd Most Common Venue  \\\n",
       "0 -79.363452               1  Fast Food Restaurant           Golf Course   \n",
       "1 -79.346556               1        Clothing Store           Coffee Shop   \n",
       "2 -79.385975               0    Chinese Restaurant                  Café   \n",
       "4 -79.408493               2                   Gym                  Park   \n",
       "5 -79.408493               0      Ramen Restaurant           Coffee Shop   \n",
       "\n",
       "  3rd Most Common Venue     4th Most Common Venue 5th Most Common Venue  \\\n",
       "0                  Pool  Mediterranean Restaurant               Dog Run   \n",
       "1  Fast Food Restaurant       Japanese Restaurant            Restaurant   \n",
       "2   Japanese Restaurant                      Bank     Accessories Store   \n",
       "4         Movie Theater         Mobile Phone Shop    Miscellaneous Shop   \n",
       "5      Sushi Restaurant                      Café         Shopping Mall   \n",
       "\n",
       "       6th Most Common Venue          7th Most Common Venue  \\\n",
       "0               Liquor Store              Mobile Phone Shop   \n",
       "1                  Juice Bar                         Bakery   \n",
       "2              Luggage Store  Paper / Office Supplies Store   \n",
       "4  Middle Eastern Restaurant                  Metro Station   \n",
       "5                Pizza Place                         Lounge   \n",
       "\n",
       "  8th Most Common Venue      9th Most Common Venue     10th Most Common Venue  \n",
       "0    Miscellaneous Shop  Middle Eastern Restaurant              Metro Station  \n",
       "1                  Bank                 Food Court         Salon / Barbershop  \n",
       "2         Movie Theater          Mobile Phone Shop         Miscellaneous Shop  \n",
       "4           Men's Store   Mediterranean Restaurant             Massage Studio  \n",
       "5  Fast Food Restaurant          Electronics Store  Middle Eastern Restaurant  "
      ],
      "text/html": "<div>\n<style scoped>\n    .dataframe tbody tr th:only-of-type {\n        vertical-align: middle;\n    }\n\n    .dataframe tbody tr th {\n        vertical-align: top;\n    }\n\n    .dataframe thead th {\n        text-align: right;\n    }\n</style>\n<table border=\"1\" class=\"dataframe\">\n  <thead>\n    <tr style=\"text-align: right;\">\n      <th></th>\n      <th>PostalCode</th>\n      <th>Borough</th>\n      <th>Neighborhood</th>\n      <th>Latitude</th>\n      <th>Longitude</th>\n      <th>Cluster Labels</th>\n      <th>1st Most Common Venue</th>\n      <th>2nd Most Common Venue</th>\n      <th>3rd Most Common Venue</th>\n      <th>4th Most Common Venue</th>\n      <th>5th Most Common Venue</th>\n      <th>6th Most Common Venue</th>\n      <th>7th Most Common Venue</th>\n      <th>8th Most Common Venue</th>\n      <th>9th Most Common Venue</th>\n      <th>10th Most Common Venue</th>\n    </tr>\n  </thead>\n  <tbody>\n    <tr>\n      <th>0</th>\n      <td>M2H</td>\n      <td>North York</td>\n      <td>Hillcrest Village</td>\n      <td>43.803762</td>\n      <td>-79.363452</td>\n      <td>1</td>\n      <td>Fast Food Restaurant</td>\n      <td>Golf Course</td>\n      <td>Pool</td>\n      <td>Mediterranean Restaurant</td>\n      <td>Dog Run</td>\n      <td>Liquor Store</td>\n      <td>Mobile Phone Shop</td>\n      <td>Miscellaneous Shop</td>\n      <td>Middle Eastern Restaurant</td>\n      <td>Metro Station</td>\n    </tr>\n    <tr>\n      <th>1</th>\n      <td>M2J</td>\n      <td>North York</td>\n      <td>Fairview , Henry Farm , Oriole</td>\n      <td>43.778517</td>\n      <td>-79.346556</td>\n      <td>1</td>\n      <td>Clothing Store</td>\n      <td>Coffee Shop</td>\n      <td>Fast Food Restaurant</td>\n      <td>Japanese Restaurant</td>\n      <td>Restaurant</td>\n      <td>Juice Bar</td>\n      <td>Bakery</td>\n      <td>Bank</td>\n      <td>Food Court</td>\n      <td>Salon / Barbershop</td>\n    </tr>\n    <tr>\n      <th>2</th>\n      <td>M2K</td>\n      <td>North York</td>\n      <td>Bayview Village</td>\n      <td>43.786947</td>\n      <td>-79.385975</td>\n      <td>0</td>\n      <td>Chinese Restaurant</td>\n      <td>Café</td>\n      <td>Japanese Restaurant</td>\n      <td>Bank</td>\n      <td>Accessories Store</td>\n      <td>Luggage Store</td>\n      <td>Paper / Office Supplies Store</td>\n      <td>Movie Theater</td>\n      <td>Mobile Phone Shop</td>\n      <td>Miscellaneous Shop</td>\n    </tr>\n    <tr>\n      <th>4</th>\n      <td>M2M</td>\n      <td>North York</td>\n      <td>Willowdale , Newtonbrook</td>\n      <td>43.789053</td>\n      <td>-79.408493</td>\n      <td>2</td>\n      <td>Gym</td>\n      <td>Park</td>\n      <td>Movie Theater</td>\n      <td>Mobile Phone Shop</td>\n      <td>Miscellaneous Shop</td>\n      <td>Middle Eastern Restaurant</td>\n      <td>Metro Station</td>\n      <td>Men's Store</td>\n      <td>Mediterranean Restaurant</td>\n      <td>Massage Studio</td>\n    </tr>\n    <tr>\n      <th>5</th>\n      <td>M2N</td>\n      <td>North York</td>\n      <td>Willowdale South</td>\n      <td>43.770120</td>\n      <td>-79.408493</td>\n      <td>0</td>\n      <td>Ramen Restaurant</td>\n      <td>Coffee Shop</td>\n      <td>Sushi Restaurant</td>\n      <td>Café</td>\n      <td>Shopping Mall</td>\n      <td>Pizza Place</td>\n      <td>Lounge</td>\n      <td>Fast Food Restaurant</td>\n      <td>Electronics Store</td>\n      <td>Middle Eastern Restaurant</td>\n    </tr>\n  </tbody>\n</table>\n</div>"
     },
     "metadata": {},
     "execution_count": 451
    }
   ],
   "source": [
    "\n",
    "if 'Cluster Labels' in neighborhoods_venues_sorted.columns:\n",
    "    del neighborhoods_venues_sorted[\"Cluster Labels\"]\n",
    "neighborhoods_venues_sorted.insert(0, 'Cluster Labels', kmeans.labels_)\n",
    "ny_merged = north_york_data\n",
    "\n",
    "# merge manhattan_grouped with manhattan_data to add latitude/longitude for each neighborhood\n",
    "ny_merged = ny_merged.join(neighborhoods_venues_sorted.set_index('Neighborhood'), on='Neighborhood')\n",
    "\n",
    "# remove the neighborhood without any neraby values\n",
    "ny_merged.dropna(inplace=True)\n",
    "ny_merged[\"Cluster Labels\"] = ny_merged[\"Cluster Labels\"].astype(int)\n",
    "ny_merged.reset_index(drop=True)\n",
    "\n",
    "ny_merged.head()"
   ]
  },
  {
   "cell_type": "code",
   "execution_count": 452,
   "metadata": {},
   "outputs": [
    {
     "output_type": "execute_result",
     "data": {
      "text/plain": [
       "<folium.folium.Map at 0x12020d880>"
      ],
      "text/html": "<div style=\"width:100%;\"><div style=\"position:relative;width:100%;height:0;padding-bottom:60%;\"><span style=\"color:#565656\">Make this Notebook Trusted to load map: File -> Trust Notebook</span><iframe src=\"about:blank\" style=\"position:absolute;width:100%;height:100%;left:0;top:0;border:none !important;\" data-html=%3C%21DOCTYPE%20html%3E%0A%3Chead%3E%20%20%20%20%0A%20%20%20%20%3Cmeta%20http-equiv%3D%22content-type%22%20content%3D%22text/html%3B%20charset%3DUTF-8%22%20/%3E%0A%20%20%20%20%0A%20%20%20%20%20%20%20%20%3Cscript%3E%0A%20%20%20%20%20%20%20%20%20%20%20%20L_NO_TOUCH%20%3D%20false%3B%0A%20%20%20%20%20%20%20%20%20%20%20%20L_DISABLE_3D%20%3D%20false%3B%0A%20%20%20%20%20%20%20%20%3C/script%3E%0A%20%20%20%20%0A%20%20%20%20%3Cstyle%3Ehtml%2C%20body%20%7Bwidth%3A%20100%25%3Bheight%3A%20100%25%3Bmargin%3A%200%3Bpadding%3A%200%3B%7D%3C/style%3E%0A%20%20%20%20%3Cstyle%3E%23map%20%7Bposition%3Aabsolute%3Btop%3A0%3Bbottom%3A0%3Bright%3A0%3Bleft%3A0%3B%7D%3C/style%3E%0A%20%20%20%20%3Cscript%20src%3D%22https%3A//cdn.jsdelivr.net/npm/leaflet%401.6.0/dist/leaflet.js%22%3E%3C/script%3E%0A%20%20%20%20%3Cscript%20src%3D%22https%3A//code.jquery.com/jquery-1.12.4.min.js%22%3E%3C/script%3E%0A%20%20%20%20%3Cscript%20src%3D%22https%3A//maxcdn.bootstrapcdn.com/bootstrap/3.2.0/js/bootstrap.min.js%22%3E%3C/script%3E%0A%20%20%20%20%3Cscript%20src%3D%22https%3A//cdnjs.cloudflare.com/ajax/libs/Leaflet.awesome-markers/2.0.2/leaflet.awesome-markers.js%22%3E%3C/script%3E%0A%20%20%20%20%3Clink%20rel%3D%22stylesheet%22%20href%3D%22https%3A//cdn.jsdelivr.net/npm/leaflet%401.6.0/dist/leaflet.css%22/%3E%0A%20%20%20%20%3Clink%20rel%3D%22stylesheet%22%20href%3D%22https%3A//maxcdn.bootstrapcdn.com/bootstrap/3.2.0/css/bootstrap.min.css%22/%3E%0A%20%20%20%20%3Clink%20rel%3D%22stylesheet%22%20href%3D%22https%3A//maxcdn.bootstrapcdn.com/bootstrap/3.2.0/css/bootstrap-theme.min.css%22/%3E%0A%20%20%20%20%3Clink%20rel%3D%22stylesheet%22%20href%3D%22https%3A//maxcdn.bootstrapcdn.com/font-awesome/4.6.3/css/font-awesome.min.css%22/%3E%0A%20%20%20%20%3Clink%20rel%3D%22stylesheet%22%20href%3D%22https%3A//cdnjs.cloudflare.com/ajax/libs/Leaflet.awesome-markers/2.0.2/leaflet.awesome-markers.css%22/%3E%0A%20%20%20%20%3Clink%20rel%3D%22stylesheet%22%20href%3D%22https%3A//cdn.jsdelivr.net/gh/python-visualization/folium/folium/templates/leaflet.awesome.rotate.min.css%22/%3E%0A%20%20%20%20%0A%20%20%20%20%20%20%20%20%20%20%20%20%3Cmeta%20name%3D%22viewport%22%20content%3D%22width%3Ddevice-width%2C%0A%20%20%20%20%20%20%20%20%20%20%20%20%20%20%20%20initial-scale%3D1.0%2C%20maximum-scale%3D1.0%2C%20user-scalable%3Dno%22%20/%3E%0A%20%20%20%20%20%20%20%20%20%20%20%20%3Cstyle%3E%0A%20%20%20%20%20%20%20%20%20%20%20%20%20%20%20%20%23map_438a5342dd8c47b4a662b252750a9149%20%7B%0A%20%20%20%20%20%20%20%20%20%20%20%20%20%20%20%20%20%20%20%20position%3A%20relative%3B%0A%20%20%20%20%20%20%20%20%20%20%20%20%20%20%20%20%20%20%20%20width%3A%20100.0%25%3B%0A%20%20%20%20%20%20%20%20%20%20%20%20%20%20%20%20%20%20%20%20height%3A%20100.0%25%3B%0A%20%20%20%20%20%20%20%20%20%20%20%20%20%20%20%20%20%20%20%20left%3A%200.0%25%3B%0A%20%20%20%20%20%20%20%20%20%20%20%20%20%20%20%20%20%20%20%20top%3A%200.0%25%3B%0A%20%20%20%20%20%20%20%20%20%20%20%20%20%20%20%20%7D%0A%20%20%20%20%20%20%20%20%20%20%20%20%3C/style%3E%0A%20%20%20%20%20%20%20%20%0A%3C/head%3E%0A%3Cbody%3E%20%20%20%20%0A%20%20%20%20%0A%20%20%20%20%20%20%20%20%20%20%20%20%3Cdiv%20class%3D%22folium-map%22%20id%3D%22map_438a5342dd8c47b4a662b252750a9149%22%20%3E%3C/div%3E%0A%20%20%20%20%20%20%20%20%0A%3C/body%3E%0A%3Cscript%3E%20%20%20%20%0A%20%20%20%20%0A%20%20%20%20%20%20%20%20%20%20%20%20var%20map_438a5342dd8c47b4a662b252750a9149%20%3D%20L.map%28%0A%20%20%20%20%20%20%20%20%20%20%20%20%20%20%20%20%22map_438a5342dd8c47b4a662b252750a9149%22%2C%0A%20%20%20%20%20%20%20%20%20%20%20%20%20%20%20%20%7B%0A%20%20%20%20%20%20%20%20%20%20%20%20%20%20%20%20%20%20%20%20center%3A%20%5B43.7543263%2C%20-79.44911696639593%5D%2C%0A%20%20%20%20%20%20%20%20%20%20%20%20%20%20%20%20%20%20%20%20crs%3A%20L.CRS.EPSG3857%2C%0A%20%20%20%20%20%20%20%20%20%20%20%20%20%20%20%20%20%20%20%20zoom%3A%2011%2C%0A%20%20%20%20%20%20%20%20%20%20%20%20%20%20%20%20%20%20%20%20zoomControl%3A%20true%2C%0A%20%20%20%20%20%20%20%20%20%20%20%20%20%20%20%20%20%20%20%20preferCanvas%3A%20false%2C%0A%20%20%20%20%20%20%20%20%20%20%20%20%20%20%20%20%7D%0A%20%20%20%20%20%20%20%20%20%20%20%20%29%3B%0A%0A%20%20%20%20%20%20%20%20%20%20%20%20%0A%0A%20%20%20%20%20%20%20%20%0A%20%20%20%20%0A%20%20%20%20%20%20%20%20%20%20%20%20var%20tile_layer_ba6f3c83c105481590ebe956b6352b1b%20%3D%20L.tileLayer%28%0A%20%20%20%20%20%20%20%20%20%20%20%20%20%20%20%20%22https%3A//%7Bs%7D.tile.openstreetmap.org/%7Bz%7D/%7Bx%7D/%7By%7D.png%22%2C%0A%20%20%20%20%20%20%20%20%20%20%20%20%20%20%20%20%7B%22attribution%22%3A%20%22Data%20by%20%5Cu0026copy%3B%20%5Cu003ca%20href%3D%5C%22http%3A//openstreetmap.org%5C%22%5Cu003eOpenStreetMap%5Cu003c/a%5Cu003e%2C%20under%20%5Cu003ca%20href%3D%5C%22http%3A//www.openstreetmap.org/copyright%5C%22%5Cu003eODbL%5Cu003c/a%5Cu003e.%22%2C%20%22detectRetina%22%3A%20false%2C%20%22maxNativeZoom%22%3A%2018%2C%20%22maxZoom%22%3A%2018%2C%20%22minZoom%22%3A%200%2C%20%22noWrap%22%3A%20false%2C%20%22opacity%22%3A%201%2C%20%22subdomains%22%3A%20%22abc%22%2C%20%22tms%22%3A%20false%7D%0A%20%20%20%20%20%20%20%20%20%20%20%20%29.addTo%28map_438a5342dd8c47b4a662b252750a9149%29%3B%0A%20%20%20%20%20%20%20%20%0A%20%20%20%20%0A%20%20%20%20%20%20%20%20%20%20%20%20var%20circle_marker_7c54097c2d994183b776e63ef2c173e9%20%3D%20L.circleMarker%28%0A%20%20%20%20%20%20%20%20%20%20%20%20%20%20%20%20%5B43.8037622%2C%20-79.3634517%5D%2C%0A%20%20%20%20%20%20%20%20%20%20%20%20%20%20%20%20%7B%22bubblingMouseEvents%22%3A%20true%2C%20%22color%22%3A%20%22%238000ff%22%2C%20%22dashArray%22%3A%20null%2C%20%22dashOffset%22%3A%20null%2C%20%22fill%22%3A%20true%2C%20%22fillColor%22%3A%20%22%238000ff%22%2C%20%22fillOpacity%22%3A%200.7%2C%20%22fillRule%22%3A%20%22evenodd%22%2C%20%22lineCap%22%3A%20%22round%22%2C%20%22lineJoin%22%3A%20%22round%22%2C%20%22opacity%22%3A%201.0%2C%20%22radius%22%3A%205%2C%20%22stroke%22%3A%20true%2C%20%22weight%22%3A%203%7D%0A%20%20%20%20%20%20%20%20%20%20%20%20%29.addTo%28map_438a5342dd8c47b4a662b252750a9149%29%3B%0A%20%20%20%20%20%20%20%20%0A%20%20%20%20%0A%20%20%20%20%20%20%20%20var%20popup_76b9126ae80e4e64953e065c9cf7c629%20%3D%20L.popup%28%7B%22maxWidth%22%3A%20%22100%25%22%7D%29%3B%0A%0A%20%20%20%20%20%20%20%20%0A%20%20%20%20%20%20%20%20%20%20%20%20var%20html_c31eb9306a1b4401879e340e1e319c68%20%3D%20%24%28%60%3Cdiv%20id%3D%22html_c31eb9306a1b4401879e340e1e319c68%22%20style%3D%22width%3A%20100.0%25%3B%20height%3A%20100.0%25%3B%22%3EHillcrest%20Village%20Cluster%201%3C/div%3E%60%29%5B0%5D%3B%0A%20%20%20%20%20%20%20%20%20%20%20%20popup_76b9126ae80e4e64953e065c9cf7c629.setContent%28html_c31eb9306a1b4401879e340e1e319c68%29%3B%0A%20%20%20%20%20%20%20%20%0A%0A%20%20%20%20%20%20%20%20circle_marker_7c54097c2d994183b776e63ef2c173e9.bindPopup%28popup_76b9126ae80e4e64953e065c9cf7c629%29%0A%20%20%20%20%20%20%20%20%3B%0A%0A%20%20%20%20%20%20%20%20%0A%20%20%20%20%0A%20%20%20%20%0A%20%20%20%20%20%20%20%20%20%20%20%20var%20circle_marker_3afc876e8e2b4c8faad64a0e8b8a4f0a%20%3D%20L.circleMarker%28%0A%20%20%20%20%20%20%20%20%20%20%20%20%20%20%20%20%5B43.7785175%2C%20-79.3465557%5D%2C%0A%20%20%20%20%20%20%20%20%20%20%20%20%20%20%20%20%7B%22bubblingMouseEvents%22%3A%20true%2C%20%22color%22%3A%20%22%238000ff%22%2C%20%22dashArray%22%3A%20null%2C%20%22dashOffset%22%3A%20null%2C%20%22fill%22%3A%20true%2C%20%22fillColor%22%3A%20%22%238000ff%22%2C%20%22fillOpacity%22%3A%200.7%2C%20%22fillRule%22%3A%20%22evenodd%22%2C%20%22lineCap%22%3A%20%22round%22%2C%20%22lineJoin%22%3A%20%22round%22%2C%20%22opacity%22%3A%201.0%2C%20%22radius%22%3A%205%2C%20%22stroke%22%3A%20true%2C%20%22weight%22%3A%203%7D%0A%20%20%20%20%20%20%20%20%20%20%20%20%29.addTo%28map_438a5342dd8c47b4a662b252750a9149%29%3B%0A%20%20%20%20%20%20%20%20%0A%20%20%20%20%0A%20%20%20%20%20%20%20%20var%20popup_cab8d2dd67ae45a48a5ec7483f2cfeed%20%3D%20L.popup%28%7B%22maxWidth%22%3A%20%22100%25%22%7D%29%3B%0A%0A%20%20%20%20%20%20%20%20%0A%20%20%20%20%20%20%20%20%20%20%20%20var%20html_8193e15b009a4d5f8d3e7a1364d7d574%20%3D%20%24%28%60%3Cdiv%20id%3D%22html_8193e15b009a4d5f8d3e7a1364d7d574%22%20style%3D%22width%3A%20100.0%25%3B%20height%3A%20100.0%25%3B%22%3EFairview%20%2C%20Henry%20Farm%20%2C%20Oriole%20Cluster%201%3C/div%3E%60%29%5B0%5D%3B%0A%20%20%20%20%20%20%20%20%20%20%20%20popup_cab8d2dd67ae45a48a5ec7483f2cfeed.setContent%28html_8193e15b009a4d5f8d3e7a1364d7d574%29%3B%0A%20%20%20%20%20%20%20%20%0A%0A%20%20%20%20%20%20%20%20circle_marker_3afc876e8e2b4c8faad64a0e8b8a4f0a.bindPopup%28popup_cab8d2dd67ae45a48a5ec7483f2cfeed%29%0A%20%20%20%20%20%20%20%20%3B%0A%0A%20%20%20%20%20%20%20%20%0A%20%20%20%20%0A%20%20%20%20%0A%20%20%20%20%20%20%20%20%20%20%20%20var%20circle_marker_229453447d8647689f1efc8dc286656f%20%3D%20L.circleMarker%28%0A%20%20%20%20%20%20%20%20%20%20%20%20%20%20%20%20%5B43.7869473%2C%20-79.385975%5D%2C%0A%20%20%20%20%20%20%20%20%20%20%20%20%20%20%20%20%7B%22bubblingMouseEvents%22%3A%20true%2C%20%22color%22%3A%20%22%23ff0000%22%2C%20%22dashArray%22%3A%20null%2C%20%22dashOffset%22%3A%20null%2C%20%22fill%22%3A%20true%2C%20%22fillColor%22%3A%20%22%23ff0000%22%2C%20%22fillOpacity%22%3A%200.7%2C%20%22fillRule%22%3A%20%22evenodd%22%2C%20%22lineCap%22%3A%20%22round%22%2C%20%22lineJoin%22%3A%20%22round%22%2C%20%22opacity%22%3A%201.0%2C%20%22radius%22%3A%205%2C%20%22stroke%22%3A%20true%2C%20%22weight%22%3A%203%7D%0A%20%20%20%20%20%20%20%20%20%20%20%20%29.addTo%28map_438a5342dd8c47b4a662b252750a9149%29%3B%0A%20%20%20%20%20%20%20%20%0A%20%20%20%20%0A%20%20%20%20%20%20%20%20var%20popup_4c2c9a650a1d45059fe169004d8cc48c%20%3D%20L.popup%28%7B%22maxWidth%22%3A%20%22100%25%22%7D%29%3B%0A%0A%20%20%20%20%20%20%20%20%0A%20%20%20%20%20%20%20%20%20%20%20%20var%20html_d0bc19c31e4349aba289011b4728aec2%20%3D%20%24%28%60%3Cdiv%20id%3D%22html_d0bc19c31e4349aba289011b4728aec2%22%20style%3D%22width%3A%20100.0%25%3B%20height%3A%20100.0%25%3B%22%3EBayview%20Village%20Cluster%200%3C/div%3E%60%29%5B0%5D%3B%0A%20%20%20%20%20%20%20%20%20%20%20%20popup_4c2c9a650a1d45059fe169004d8cc48c.setContent%28html_d0bc19c31e4349aba289011b4728aec2%29%3B%0A%20%20%20%20%20%20%20%20%0A%0A%20%20%20%20%20%20%20%20circle_marker_229453447d8647689f1efc8dc286656f.bindPopup%28popup_4c2c9a650a1d45059fe169004d8cc48c%29%0A%20%20%20%20%20%20%20%20%3B%0A%0A%20%20%20%20%20%20%20%20%0A%20%20%20%20%0A%20%20%20%20%0A%20%20%20%20%20%20%20%20%20%20%20%20var%20circle_marker_24ec0f83e3494e4b9cf757d2550044b9%20%3D%20L.circleMarker%28%0A%20%20%20%20%20%20%20%20%20%20%20%20%20%20%20%20%5B43.789053%2C%20-79.4084928%5D%2C%0A%20%20%20%20%20%20%20%20%20%20%20%20%20%20%20%20%7B%22bubblingMouseEvents%22%3A%20true%2C%20%22color%22%3A%20%22%232adddd%22%2C%20%22dashArray%22%3A%20null%2C%20%22dashOffset%22%3A%20null%2C%20%22fill%22%3A%20true%2C%20%22fillColor%22%3A%20%22%232adddd%22%2C%20%22fillOpacity%22%3A%200.7%2C%20%22fillRule%22%3A%20%22evenodd%22%2C%20%22lineCap%22%3A%20%22round%22%2C%20%22lineJoin%22%3A%20%22round%22%2C%20%22opacity%22%3A%201.0%2C%20%22radius%22%3A%205%2C%20%22stroke%22%3A%20true%2C%20%22weight%22%3A%203%7D%0A%20%20%20%20%20%20%20%20%20%20%20%20%29.addTo%28map_438a5342dd8c47b4a662b252750a9149%29%3B%0A%20%20%20%20%20%20%20%20%0A%20%20%20%20%0A%20%20%20%20%20%20%20%20var%20popup_19f4449d9e1b428db2ce8819d40174d5%20%3D%20L.popup%28%7B%22maxWidth%22%3A%20%22100%25%22%7D%29%3B%0A%0A%20%20%20%20%20%20%20%20%0A%20%20%20%20%20%20%20%20%20%20%20%20var%20html_daa0e21d598740369d12890bc0a203d5%20%3D%20%24%28%60%3Cdiv%20id%3D%22html_daa0e21d598740369d12890bc0a203d5%22%20style%3D%22width%3A%20100.0%25%3B%20height%3A%20100.0%25%3B%22%3EWillowdale%20%2C%20Newtonbrook%20Cluster%202%3C/div%3E%60%29%5B0%5D%3B%0A%20%20%20%20%20%20%20%20%20%20%20%20popup_19f4449d9e1b428db2ce8819d40174d5.setContent%28html_daa0e21d598740369d12890bc0a203d5%29%3B%0A%20%20%20%20%20%20%20%20%0A%0A%20%20%20%20%20%20%20%20circle_marker_24ec0f83e3494e4b9cf757d2550044b9.bindPopup%28popup_19f4449d9e1b428db2ce8819d40174d5%29%0A%20%20%20%20%20%20%20%20%3B%0A%0A%20%20%20%20%20%20%20%20%0A%20%20%20%20%0A%20%20%20%20%0A%20%20%20%20%20%20%20%20%20%20%20%20var%20circle_marker_aa92ed1a466b41649a851d20d3a26ba9%20%3D%20L.circleMarker%28%0A%20%20%20%20%20%20%20%20%20%20%20%20%20%20%20%20%5B43.7701199%2C%20-79.4084928%5D%2C%0A%20%20%20%20%20%20%20%20%20%20%20%20%20%20%20%20%7B%22bubblingMouseEvents%22%3A%20true%2C%20%22color%22%3A%20%22%23ff0000%22%2C%20%22dashArray%22%3A%20null%2C%20%22dashOffset%22%3A%20null%2C%20%22fill%22%3A%20true%2C%20%22fillColor%22%3A%20%22%23ff0000%22%2C%20%22fillOpacity%22%3A%200.7%2C%20%22fillRule%22%3A%20%22evenodd%22%2C%20%22lineCap%22%3A%20%22round%22%2C%20%22lineJoin%22%3A%20%22round%22%2C%20%22opacity%22%3A%201.0%2C%20%22radius%22%3A%205%2C%20%22stroke%22%3A%20true%2C%20%22weight%22%3A%203%7D%0A%20%20%20%20%20%20%20%20%20%20%20%20%29.addTo%28map_438a5342dd8c47b4a662b252750a9149%29%3B%0A%20%20%20%20%20%20%20%20%0A%20%20%20%20%0A%20%20%20%20%20%20%20%20var%20popup_b42cac784ab344788eb46592fbbe22e9%20%3D%20L.popup%28%7B%22maxWidth%22%3A%20%22100%25%22%7D%29%3B%0A%0A%20%20%20%20%20%20%20%20%0A%20%20%20%20%20%20%20%20%20%20%20%20var%20html_cbfc514609a0415d801535f80360de36%20%3D%20%24%28%60%3Cdiv%20id%3D%22html_cbfc514609a0415d801535f80360de36%22%20style%3D%22width%3A%20100.0%25%3B%20height%3A%20100.0%25%3B%22%3EWillowdale%20South%20Cluster%200%3C/div%3E%60%29%5B0%5D%3B%0A%20%20%20%20%20%20%20%20%20%20%20%20popup_b42cac784ab344788eb46592fbbe22e9.setContent%28html_cbfc514609a0415d801535f80360de36%29%3B%0A%20%20%20%20%20%20%20%20%0A%0A%20%20%20%20%20%20%20%20circle_marker_aa92ed1a466b41649a851d20d3a26ba9.bindPopup%28popup_b42cac784ab344788eb46592fbbe22e9%29%0A%20%20%20%20%20%20%20%20%3B%0A%0A%20%20%20%20%20%20%20%20%0A%20%20%20%20%0A%20%20%20%20%0A%20%20%20%20%20%20%20%20%20%20%20%20var%20circle_marker_987d9ff563d74f0e94298a71407ca0e4%20%3D%20L.circleMarker%28%0A%20%20%20%20%20%20%20%20%20%20%20%20%20%20%20%20%5B43.7527583%2C%20-79.4000493%5D%2C%0A%20%20%20%20%20%20%20%20%20%20%20%20%20%20%20%20%7B%22bubblingMouseEvents%22%3A%20true%2C%20%22color%22%3A%20%22%232adddd%22%2C%20%22dashArray%22%3A%20null%2C%20%22dashOffset%22%3A%20null%2C%20%22fill%22%3A%20true%2C%20%22fillColor%22%3A%20%22%232adddd%22%2C%20%22fillOpacity%22%3A%200.7%2C%20%22fillRule%22%3A%20%22evenodd%22%2C%20%22lineCap%22%3A%20%22round%22%2C%20%22lineJoin%22%3A%20%22round%22%2C%20%22opacity%22%3A%201.0%2C%20%22radius%22%3A%205%2C%20%22stroke%22%3A%20true%2C%20%22weight%22%3A%203%7D%0A%20%20%20%20%20%20%20%20%20%20%20%20%29.addTo%28map_438a5342dd8c47b4a662b252750a9149%29%3B%0A%20%20%20%20%20%20%20%20%0A%20%20%20%20%0A%20%20%20%20%20%20%20%20var%20popup_97bb10792f8b4246b8fb0f14c2c70006%20%3D%20L.popup%28%7B%22maxWidth%22%3A%20%22100%25%22%7D%29%3B%0A%0A%20%20%20%20%20%20%20%20%0A%20%20%20%20%20%20%20%20%20%20%20%20var%20html_487cf09d3eb14cbeae1f74b77d8b7def%20%3D%20%24%28%60%3Cdiv%20id%3D%22html_487cf09d3eb14cbeae1f74b77d8b7def%22%20style%3D%22width%3A%20100.0%25%3B%20height%3A%20100.0%25%3B%22%3EYork%20Mills%20West%20Cluster%202%3C/div%3E%60%29%5B0%5D%3B%0A%20%20%20%20%20%20%20%20%20%20%20%20popup_97bb10792f8b4246b8fb0f14c2c70006.setContent%28html_487cf09d3eb14cbeae1f74b77d8b7def%29%3B%0A%20%20%20%20%20%20%20%20%0A%0A%20%20%20%20%20%20%20%20circle_marker_987d9ff563d74f0e94298a71407ca0e4.bindPopup%28popup_97bb10792f8b4246b8fb0f14c2c70006%29%0A%20%20%20%20%20%20%20%20%3B%0A%0A%20%20%20%20%20%20%20%20%0A%20%20%20%20%0A%20%20%20%20%0A%20%20%20%20%20%20%20%20%20%20%20%20var%20circle_marker_8d1616bfef114edc911f957584559743%20%3D%20L.circleMarker%28%0A%20%20%20%20%20%20%20%20%20%20%20%20%20%20%20%20%5B43.7827364%2C%20-79.4422593%5D%2C%0A%20%20%20%20%20%20%20%20%20%20%20%20%20%20%20%20%7B%22bubblingMouseEvents%22%3A%20true%2C%20%22color%22%3A%20%22%23ff0000%22%2C%20%22dashArray%22%3A%20null%2C%20%22dashOffset%22%3A%20null%2C%20%22fill%22%3A%20true%2C%20%22fillColor%22%3A%20%22%23ff0000%22%2C%20%22fillOpacity%22%3A%200.7%2C%20%22fillRule%22%3A%20%22evenodd%22%2C%20%22lineCap%22%3A%20%22round%22%2C%20%22lineJoin%22%3A%20%22round%22%2C%20%22opacity%22%3A%201.0%2C%20%22radius%22%3A%205%2C%20%22stroke%22%3A%20true%2C%20%22weight%22%3A%203%7D%0A%20%20%20%20%20%20%20%20%20%20%20%20%29.addTo%28map_438a5342dd8c47b4a662b252750a9149%29%3B%0A%20%20%20%20%20%20%20%20%0A%20%20%20%20%0A%20%20%20%20%20%20%20%20var%20popup_18cf9b9d1dc84358a58502d2623cae7a%20%3D%20L.popup%28%7B%22maxWidth%22%3A%20%22100%25%22%7D%29%3B%0A%0A%20%20%20%20%20%20%20%20%0A%20%20%20%20%20%20%20%20%20%20%20%20var%20html_f753906594a4479ca9a32c20acd1dbfe%20%3D%20%24%28%60%3Cdiv%20id%3D%22html_f753906594a4479ca9a32c20acd1dbfe%22%20style%3D%22width%3A%20100.0%25%3B%20height%3A%20100.0%25%3B%22%3EWillowdale%20West%20Cluster%200%3C/div%3E%60%29%5B0%5D%3B%0A%20%20%20%20%20%20%20%20%20%20%20%20popup_18cf9b9d1dc84358a58502d2623cae7a.setContent%28html_f753906594a4479ca9a32c20acd1dbfe%29%3B%0A%20%20%20%20%20%20%20%20%0A%0A%20%20%20%20%20%20%20%20circle_marker_8d1616bfef114edc911f957584559743.bindPopup%28popup_18cf9b9d1dc84358a58502d2623cae7a%29%0A%20%20%20%20%20%20%20%20%3B%0A%0A%20%20%20%20%20%20%20%20%0A%20%20%20%20%0A%20%20%20%20%0A%20%20%20%20%20%20%20%20%20%20%20%20var%20circle_marker_99f18a454fe14373909197cb04a5a048%20%3D%20L.circleMarker%28%0A%20%20%20%20%20%20%20%20%20%20%20%20%20%20%20%20%5B43.7532586%2C%20-79.3296565%5D%2C%0A%20%20%20%20%20%20%20%20%20%20%20%20%20%20%20%20%7B%22bubblingMouseEvents%22%3A%20true%2C%20%22color%22%3A%20%22%232adddd%22%2C%20%22dashArray%22%3A%20null%2C%20%22dashOffset%22%3A%20null%2C%20%22fill%22%3A%20true%2C%20%22fillColor%22%3A%20%22%232adddd%22%2C%20%22fillOpacity%22%3A%200.7%2C%20%22fillRule%22%3A%20%22evenodd%22%2C%20%22lineCap%22%3A%20%22round%22%2C%20%22lineJoin%22%3A%20%22round%22%2C%20%22opacity%22%3A%201.0%2C%20%22radius%22%3A%205%2C%20%22stroke%22%3A%20true%2C%20%22weight%22%3A%203%7D%0A%20%20%20%20%20%20%20%20%20%20%20%20%29.addTo%28map_438a5342dd8c47b4a662b252750a9149%29%3B%0A%20%20%20%20%20%20%20%20%0A%20%20%20%20%0A%20%20%20%20%20%20%20%20var%20popup_954ad483d3be40c68bb46afc3fd408d9%20%3D%20L.popup%28%7B%22maxWidth%22%3A%20%22100%25%22%7D%29%3B%0A%0A%20%20%20%20%20%20%20%20%0A%20%20%20%20%20%20%20%20%20%20%20%20var%20html_ac45f8955ea54a1d8046b69e8902ed4c%20%3D%20%24%28%60%3Cdiv%20id%3D%22html_ac45f8955ea54a1d8046b69e8902ed4c%22%20style%3D%22width%3A%20100.0%25%3B%20height%3A%20100.0%25%3B%22%3EParkwoods%20Cluster%202%3C/div%3E%60%29%5B0%5D%3B%0A%20%20%20%20%20%20%20%20%20%20%20%20popup_954ad483d3be40c68bb46afc3fd408d9.setContent%28html_ac45f8955ea54a1d8046b69e8902ed4c%29%3B%0A%20%20%20%20%20%20%20%20%0A%0A%20%20%20%20%20%20%20%20circle_marker_99f18a454fe14373909197cb04a5a048.bindPopup%28popup_954ad483d3be40c68bb46afc3fd408d9%29%0A%20%20%20%20%20%20%20%20%3B%0A%0A%20%20%20%20%20%20%20%20%0A%20%20%20%20%0A%20%20%20%20%0A%20%20%20%20%20%20%20%20%20%20%20%20var%20circle_marker_42e3d2ccfc0846bc9795df21bd44cf07%20%3D%20L.circleMarker%28%0A%20%20%20%20%20%20%20%20%20%20%20%20%20%20%20%20%5B43.7459058%2C%20-79.352188%5D%2C%0A%20%20%20%20%20%20%20%20%20%20%20%20%20%20%20%20%7B%22bubblingMouseEvents%22%3A%20true%2C%20%22color%22%3A%20%22%238000ff%22%2C%20%22dashArray%22%3A%20null%2C%20%22dashOffset%22%3A%20null%2C%20%22fill%22%3A%20true%2C%20%22fillColor%22%3A%20%22%238000ff%22%2C%20%22fillOpacity%22%3A%200.7%2C%20%22fillRule%22%3A%20%22evenodd%22%2C%20%22lineCap%22%3A%20%22round%22%2C%20%22lineJoin%22%3A%20%22round%22%2C%20%22opacity%22%3A%201.0%2C%20%22radius%22%3A%205%2C%20%22stroke%22%3A%20true%2C%20%22weight%22%3A%203%7D%0A%20%20%20%20%20%20%20%20%20%20%20%20%29.addTo%28map_438a5342dd8c47b4a662b252750a9149%29%3B%0A%20%20%20%20%20%20%20%20%0A%20%20%20%20%0A%20%20%20%20%20%20%20%20var%20popup_7c7c50228990445dad3afd65ed3dd7f0%20%3D%20L.popup%28%7B%22maxWidth%22%3A%20%22100%25%22%7D%29%3B%0A%0A%20%20%20%20%20%20%20%20%0A%20%20%20%20%20%20%20%20%20%20%20%20var%20html_02505852adc04d308522dc228a532de6%20%3D%20%24%28%60%3Cdiv%20id%3D%22html_02505852adc04d308522dc228a532de6%22%20style%3D%22width%3A%20100.0%25%3B%20height%3A%20100.0%25%3B%22%3EDon%20Mills%20North%20Cluster%201%3C/div%3E%60%29%5B0%5D%3B%0A%20%20%20%20%20%20%20%20%20%20%20%20popup_7c7c50228990445dad3afd65ed3dd7f0.setContent%28html_02505852adc04d308522dc228a532de6%29%3B%0A%20%20%20%20%20%20%20%20%0A%0A%20%20%20%20%20%20%20%20circle_marker_42e3d2ccfc0846bc9795df21bd44cf07.bindPopup%28popup_7c7c50228990445dad3afd65ed3dd7f0%29%0A%20%20%20%20%20%20%20%20%3B%0A%0A%20%20%20%20%20%20%20%20%0A%20%20%20%20%0A%20%20%20%20%0A%20%20%20%20%20%20%20%20%20%20%20%20var%20circle_marker_0be62cf24d724d09aa1321bde401a2f1%20%3D%20L.circleMarker%28%0A%20%20%20%20%20%20%20%20%20%20%20%20%20%20%20%20%5B43.7258997%2C%20-79.340923%5D%2C%0A%20%20%20%20%20%20%20%20%20%20%20%20%20%20%20%20%7B%22bubblingMouseEvents%22%3A%20true%2C%20%22color%22%3A%20%22%238000ff%22%2C%20%22dashArray%22%3A%20null%2C%20%22dashOffset%22%3A%20null%2C%20%22fill%22%3A%20true%2C%20%22fillColor%22%3A%20%22%238000ff%22%2C%20%22fillOpacity%22%3A%200.7%2C%20%22fillRule%22%3A%20%22evenodd%22%2C%20%22lineCap%22%3A%20%22round%22%2C%20%22lineJoin%22%3A%20%22round%22%2C%20%22opacity%22%3A%201.0%2C%20%22radius%22%3A%205%2C%20%22stroke%22%3A%20true%2C%20%22weight%22%3A%203%7D%0A%20%20%20%20%20%20%20%20%20%20%20%20%29.addTo%28map_438a5342dd8c47b4a662b252750a9149%29%3B%0A%20%20%20%20%20%20%20%20%0A%20%20%20%20%0A%20%20%20%20%20%20%20%20var%20popup_3337e457dfbf4ff8beb6055fa75f275c%20%3D%20L.popup%28%7B%22maxWidth%22%3A%20%22100%25%22%7D%29%3B%0A%0A%20%20%20%20%20%20%20%20%0A%20%20%20%20%20%20%20%20%20%20%20%20var%20html_3d3207e4207647cdb729ef2cd19700dc%20%3D%20%24%28%60%3Cdiv%20id%3D%22html_3d3207e4207647cdb729ef2cd19700dc%22%20style%3D%22width%3A%20100.0%25%3B%20height%3A%20100.0%25%3B%22%3EDon%20Mills%20South%20Cluster%201%3C/div%3E%60%29%5B0%5D%3B%0A%20%20%20%20%20%20%20%20%20%20%20%20popup_3337e457dfbf4ff8beb6055fa75f275c.setContent%28html_3d3207e4207647cdb729ef2cd19700dc%29%3B%0A%20%20%20%20%20%20%20%20%0A%0A%20%20%20%20%20%20%20%20circle_marker_0be62cf24d724d09aa1321bde401a2f1.bindPopup%28popup_3337e457dfbf4ff8beb6055fa75f275c%29%0A%20%20%20%20%20%20%20%20%3B%0A%0A%20%20%20%20%20%20%20%20%0A%20%20%20%20%0A%20%20%20%20%0A%20%20%20%20%20%20%20%20%20%20%20%20var%20circle_marker_5745330b12dc473a9b8d13a3f620daa3%20%3D%20L.circleMarker%28%0A%20%20%20%20%20%20%20%20%20%20%20%20%20%20%20%20%5B43.7543283%2C%20-79.4422593%5D%2C%0A%20%20%20%20%20%20%20%20%20%20%20%20%20%20%20%20%7B%22bubblingMouseEvents%22%3A%20true%2C%20%22color%22%3A%20%22%23ff0000%22%2C%20%22dashArray%22%3A%20null%2C%20%22dashOffset%22%3A%20null%2C%20%22fill%22%3A%20true%2C%20%22fillColor%22%3A%20%22%23ff0000%22%2C%20%22fillOpacity%22%3A%200.7%2C%20%22fillRule%22%3A%20%22evenodd%22%2C%20%22lineCap%22%3A%20%22round%22%2C%20%22lineJoin%22%3A%20%22round%22%2C%20%22opacity%22%3A%201.0%2C%20%22radius%22%3A%205%2C%20%22stroke%22%3A%20true%2C%20%22weight%22%3A%203%7D%0A%20%20%20%20%20%20%20%20%20%20%20%20%29.addTo%28map_438a5342dd8c47b4a662b252750a9149%29%3B%0A%20%20%20%20%20%20%20%20%0A%20%20%20%20%0A%20%20%20%20%20%20%20%20var%20popup_7d0c6d076ff64a1081a9a0f64223525e%20%3D%20L.popup%28%7B%22maxWidth%22%3A%20%22100%25%22%7D%29%3B%0A%0A%20%20%20%20%20%20%20%20%0A%20%20%20%20%20%20%20%20%20%20%20%20var%20html_b336bf8eb007488c874947b306f42f25%20%3D%20%24%28%60%3Cdiv%20id%3D%22html_b336bf8eb007488c874947b306f42f25%22%20style%3D%22width%3A%20100.0%25%3B%20height%3A%20100.0%25%3B%22%3EBathurst%20Manor%20%2C%20Wilson%20Heights%20%2C%20Downsview%20North%20Cluster%200%3C/div%3E%60%29%5B0%5D%3B%0A%20%20%20%20%20%20%20%20%20%20%20%20popup_7d0c6d076ff64a1081a9a0f64223525e.setContent%28html_b336bf8eb007488c874947b306f42f25%29%3B%0A%20%20%20%20%20%20%20%20%0A%0A%20%20%20%20%20%20%20%20circle_marker_5745330b12dc473a9b8d13a3f620daa3.bindPopup%28popup_7d0c6d076ff64a1081a9a0f64223525e%29%0A%20%20%20%20%20%20%20%20%3B%0A%0A%20%20%20%20%20%20%20%20%0A%20%20%20%20%0A%20%20%20%20%0A%20%20%20%20%20%20%20%20%20%20%20%20var%20circle_marker_791afac58617462bb22abfd7a64b2b5b%20%3D%20L.circleMarker%28%0A%20%20%20%20%20%20%20%20%20%20%20%20%20%20%20%20%5B43.7679803%2C%20-79.4872619%5D%2C%0A%20%20%20%20%20%20%20%20%20%20%20%20%20%20%20%20%7B%22bubblingMouseEvents%22%3A%20true%2C%20%22color%22%3A%20%22%238000ff%22%2C%20%22dashArray%22%3A%20null%2C%20%22dashOffset%22%3A%20null%2C%20%22fill%22%3A%20true%2C%20%22fillColor%22%3A%20%22%238000ff%22%2C%20%22fillOpacity%22%3A%200.7%2C%20%22fillRule%22%3A%20%22evenodd%22%2C%20%22lineCap%22%3A%20%22round%22%2C%20%22lineJoin%22%3A%20%22round%22%2C%20%22opacity%22%3A%201.0%2C%20%22radius%22%3A%205%2C%20%22stroke%22%3A%20true%2C%20%22weight%22%3A%203%7D%0A%20%20%20%20%20%20%20%20%20%20%20%20%29.addTo%28map_438a5342dd8c47b4a662b252750a9149%29%3B%0A%20%20%20%20%20%20%20%20%0A%20%20%20%20%0A%20%20%20%20%20%20%20%20var%20popup_f5464eb455184b549b88fee290d468af%20%3D%20L.popup%28%7B%22maxWidth%22%3A%20%22100%25%22%7D%29%3B%0A%0A%20%20%20%20%20%20%20%20%0A%20%20%20%20%20%20%20%20%20%20%20%20var%20html_5a78ef440dc4432ca0eaae3ad34b8a4b%20%3D%20%24%28%60%3Cdiv%20id%3D%22html_5a78ef440dc4432ca0eaae3ad34b8a4b%22%20style%3D%22width%3A%20100.0%25%3B%20height%3A%20100.0%25%3B%22%3ENorthwood%20Park%20%2C%20York%20University%20Cluster%201%3C/div%3E%60%29%5B0%5D%3B%0A%20%20%20%20%20%20%20%20%20%20%20%20popup_f5464eb455184b549b88fee290d468af.setContent%28html_5a78ef440dc4432ca0eaae3ad34b8a4b%29%3B%0A%20%20%20%20%20%20%20%20%0A%0A%20%20%20%20%20%20%20%20circle_marker_791afac58617462bb22abfd7a64b2b5b.bindPopup%28popup_f5464eb455184b549b88fee290d468af%29%0A%20%20%20%20%20%20%20%20%3B%0A%0A%20%20%20%20%20%20%20%20%0A%20%20%20%20%0A%20%20%20%20%0A%20%20%20%20%20%20%20%20%20%20%20%20var%20circle_marker_f02c21eed14a4b809d19395a5abe64b9%20%3D%20L.circleMarker%28%0A%20%20%20%20%20%20%20%20%20%20%20%20%20%20%20%20%5B43.7374732%2C%20-79.4647633%5D%2C%0A%20%20%20%20%20%20%20%20%20%20%20%20%20%20%20%20%7B%22bubblingMouseEvents%22%3A%20true%2C%20%22color%22%3A%20%22%238000ff%22%2C%20%22dashArray%22%3A%20null%2C%20%22dashOffset%22%3A%20null%2C%20%22fill%22%3A%20true%2C%20%22fillColor%22%3A%20%22%238000ff%22%2C%20%22fillOpacity%22%3A%200.7%2C%20%22fillRule%22%3A%20%22evenodd%22%2C%20%22lineCap%22%3A%20%22round%22%2C%20%22lineJoin%22%3A%20%22round%22%2C%20%22opacity%22%3A%201.0%2C%20%22radius%22%3A%205%2C%20%22stroke%22%3A%20true%2C%20%22weight%22%3A%203%7D%0A%20%20%20%20%20%20%20%20%20%20%20%20%29.addTo%28map_438a5342dd8c47b4a662b252750a9149%29%3B%0A%20%20%20%20%20%20%20%20%0A%20%20%20%20%0A%20%20%20%20%20%20%20%20var%20popup_bfbff1679a7a4eef8e43f756ca6360a3%20%3D%20L.popup%28%7B%22maxWidth%22%3A%20%22100%25%22%7D%29%3B%0A%0A%20%20%20%20%20%20%20%20%0A%20%20%20%20%20%20%20%20%20%20%20%20var%20html_7bba47a6568e4d57b257e735afd0088a%20%3D%20%24%28%60%3Cdiv%20id%3D%22html_7bba47a6568e4d57b257e735afd0088a%22%20style%3D%22width%3A%20100.0%25%3B%20height%3A%20100.0%25%3B%22%3EDownsview%20East%20Cluster%201%3C/div%3E%60%29%5B0%5D%3B%0A%20%20%20%20%20%20%20%20%20%20%20%20popup_bfbff1679a7a4eef8e43f756ca6360a3.setContent%28html_7bba47a6568e4d57b257e735afd0088a%29%3B%0A%20%20%20%20%20%20%20%20%0A%0A%20%20%20%20%20%20%20%20circle_marker_f02c21eed14a4b809d19395a5abe64b9.bindPopup%28popup_bfbff1679a7a4eef8e43f756ca6360a3%29%0A%20%20%20%20%20%20%20%20%3B%0A%0A%20%20%20%20%20%20%20%20%0A%20%20%20%20%0A%20%20%20%20%0A%20%20%20%20%20%20%20%20%20%20%20%20var%20circle_marker_2e0eeb11956347e19620793e6f6d19b3%20%3D%20L.circleMarker%28%0A%20%20%20%20%20%20%20%20%20%20%20%20%20%20%20%20%5B43.7390146%2C%20-79.5069436%5D%2C%0A%20%20%20%20%20%20%20%20%20%20%20%20%20%20%20%20%7B%22bubblingMouseEvents%22%3A%20true%2C%20%22color%22%3A%20%22%23ff0000%22%2C%20%22dashArray%22%3A%20null%2C%20%22dashOffset%22%3A%20null%2C%20%22fill%22%3A%20true%2C%20%22fillColor%22%3A%20%22%23ff0000%22%2C%20%22fillOpacity%22%3A%200.7%2C%20%22fillRule%22%3A%20%22evenodd%22%2C%20%22lineCap%22%3A%20%22round%22%2C%20%22lineJoin%22%3A%20%22round%22%2C%20%22opacity%22%3A%201.0%2C%20%22radius%22%3A%205%2C%20%22stroke%22%3A%20true%2C%20%22weight%22%3A%203%7D%0A%20%20%20%20%20%20%20%20%20%20%20%20%29.addTo%28map_438a5342dd8c47b4a662b252750a9149%29%3B%0A%20%20%20%20%20%20%20%20%0A%20%20%20%20%0A%20%20%20%20%20%20%20%20var%20popup_b645150bf61048cba64d65bf3d88fb10%20%3D%20L.popup%28%7B%22maxWidth%22%3A%20%22100%25%22%7D%29%3B%0A%0A%20%20%20%20%20%20%20%20%0A%20%20%20%20%20%20%20%20%20%20%20%20var%20html_8c0ba0abd01845298b0a79f3d36c95c7%20%3D%20%24%28%60%3Cdiv%20id%3D%22html_8c0ba0abd01845298b0a79f3d36c95c7%22%20style%3D%22width%3A%20100.0%25%3B%20height%3A%20100.0%25%3B%22%3EDownsview%20West%20Cluster%200%3C/div%3E%60%29%5B0%5D%3B%0A%20%20%20%20%20%20%20%20%20%20%20%20popup_b645150bf61048cba64d65bf3d88fb10.setContent%28html_8c0ba0abd01845298b0a79f3d36c95c7%29%3B%0A%20%20%20%20%20%20%20%20%0A%0A%20%20%20%20%20%20%20%20circle_marker_2e0eeb11956347e19620793e6f6d19b3.bindPopup%28popup_b645150bf61048cba64d65bf3d88fb10%29%0A%20%20%20%20%20%20%20%20%3B%0A%0A%20%20%20%20%20%20%20%20%0A%20%20%20%20%0A%20%20%20%20%0A%20%20%20%20%20%20%20%20%20%20%20%20var%20circle_marker_5704c3b125284b7fa2ddeca6a7cfb548%20%3D%20L.circleMarker%28%0A%20%20%20%20%20%20%20%20%20%20%20%20%20%20%20%20%5B43.7284964%2C%20-79.4956974%5D%2C%0A%20%20%20%20%20%20%20%20%20%20%20%20%20%20%20%20%7B%22bubblingMouseEvents%22%3A%20true%2C%20%22color%22%3A%20%22%23d4dd80%22%2C%20%22dashArray%22%3A%20null%2C%20%22dashOffset%22%3A%20null%2C%20%22fill%22%3A%20true%2C%20%22fillColor%22%3A%20%22%23d4dd80%22%2C%20%22fillOpacity%22%3A%200.7%2C%20%22fillRule%22%3A%20%22evenodd%22%2C%20%22lineCap%22%3A%20%22round%22%2C%20%22lineJoin%22%3A%20%22round%22%2C%20%22opacity%22%3A%201.0%2C%20%22radius%22%3A%205%2C%20%22stroke%22%3A%20true%2C%20%22weight%22%3A%203%7D%0A%20%20%20%20%20%20%20%20%20%20%20%20%29.addTo%28map_438a5342dd8c47b4a662b252750a9149%29%3B%0A%20%20%20%20%20%20%20%20%0A%20%20%20%20%0A%20%20%20%20%20%20%20%20var%20popup_2b6358ce49654e34a43dfab7aff3c655%20%3D%20L.popup%28%7B%22maxWidth%22%3A%20%22100%25%22%7D%29%3B%0A%0A%20%20%20%20%20%20%20%20%0A%20%20%20%20%20%20%20%20%20%20%20%20var%20html_32fd021b0838475babee8bdd7b9ae95d%20%3D%20%24%28%60%3Cdiv%20id%3D%22html_32fd021b0838475babee8bdd7b9ae95d%22%20style%3D%22width%3A%20100.0%25%3B%20height%3A%20100.0%25%3B%22%3EDownsview%20Central%20Cluster%203%3C/div%3E%60%29%5B0%5D%3B%0A%20%20%20%20%20%20%20%20%20%20%20%20popup_2b6358ce49654e34a43dfab7aff3c655.setContent%28html_32fd021b0838475babee8bdd7b9ae95d%29%3B%0A%20%20%20%20%20%20%20%20%0A%0A%20%20%20%20%20%20%20%20circle_marker_5704c3b125284b7fa2ddeca6a7cfb548.bindPopup%28popup_2b6358ce49654e34a43dfab7aff3c655%29%0A%20%20%20%20%20%20%20%20%3B%0A%0A%20%20%20%20%20%20%20%20%0A%20%20%20%20%0A%20%20%20%20%0A%20%20%20%20%20%20%20%20%20%20%20%20var%20circle_marker_1208adf5bc8f40b5a0ea1255ba154d7f%20%3D%20L.circleMarker%28%0A%20%20%20%20%20%20%20%20%20%20%20%20%20%20%20%20%5B43.7616313%2C%20-79.5209994%5D%2C%0A%20%20%20%20%20%20%20%20%20%20%20%20%20%20%20%20%7B%22bubblingMouseEvents%22%3A%20true%2C%20%22color%22%3A%20%22%23ff0000%22%2C%20%22dashArray%22%3A%20null%2C%20%22dashOffset%22%3A%20null%2C%20%22fill%22%3A%20true%2C%20%22fillColor%22%3A%20%22%23ff0000%22%2C%20%22fillOpacity%22%3A%200.7%2C%20%22fillRule%22%3A%20%22evenodd%22%2C%20%22lineCap%22%3A%20%22round%22%2C%20%22lineJoin%22%3A%20%22round%22%2C%20%22opacity%22%3A%201.0%2C%20%22radius%22%3A%205%2C%20%22stroke%22%3A%20true%2C%20%22weight%22%3A%203%7D%0A%20%20%20%20%20%20%20%20%20%20%20%20%29.addTo%28map_438a5342dd8c47b4a662b252750a9149%29%3B%0A%20%20%20%20%20%20%20%20%0A%20%20%20%20%0A%20%20%20%20%20%20%20%20var%20popup_cb2f3476f9ab461aaf8255c8f6232216%20%3D%20L.popup%28%7B%22maxWidth%22%3A%20%22100%25%22%7D%29%3B%0A%0A%20%20%20%20%20%20%20%20%0A%20%20%20%20%20%20%20%20%20%20%20%20var%20html_bedf920618ed48b4b2399b6df577a93f%20%3D%20%24%28%60%3Cdiv%20id%3D%22html_bedf920618ed48b4b2399b6df577a93f%22%20style%3D%22width%3A%20100.0%25%3B%20height%3A%20100.0%25%3B%22%3EDownsview%20Northwest%20Cluster%200%3C/div%3E%60%29%5B0%5D%3B%0A%20%20%20%20%20%20%20%20%20%20%20%20popup_cb2f3476f9ab461aaf8255c8f6232216.setContent%28html_bedf920618ed48b4b2399b6df577a93f%29%3B%0A%20%20%20%20%20%20%20%20%0A%0A%20%20%20%20%20%20%20%20circle_marker_1208adf5bc8f40b5a0ea1255ba154d7f.bindPopup%28popup_cb2f3476f9ab461aaf8255c8f6232216%29%0A%20%20%20%20%20%20%20%20%3B%0A%0A%20%20%20%20%20%20%20%20%0A%20%20%20%20%0A%20%20%20%20%0A%20%20%20%20%20%20%20%20%20%20%20%20var%20circle_marker_9aaf9c7d690c4e59821b0c93f4046f4d%20%3D%20L.circleMarker%28%0A%20%20%20%20%20%20%20%20%20%20%20%20%20%20%20%20%5B43.7258823%2C%20-79.3155716%5D%2C%0A%20%20%20%20%20%20%20%20%20%20%20%20%20%20%20%20%7B%22bubblingMouseEvents%22%3A%20true%2C%20%22color%22%3A%20%22%23ff0000%22%2C%20%22dashArray%22%3A%20null%2C%20%22dashOffset%22%3A%20null%2C%20%22fill%22%3A%20true%2C%20%22fillColor%22%3A%20%22%23ff0000%22%2C%20%22fillOpacity%22%3A%200.7%2C%20%22fillRule%22%3A%20%22evenodd%22%2C%20%22lineCap%22%3A%20%22round%22%2C%20%22lineJoin%22%3A%20%22round%22%2C%20%22opacity%22%3A%201.0%2C%20%22radius%22%3A%205%2C%20%22stroke%22%3A%20true%2C%20%22weight%22%3A%203%7D%0A%20%20%20%20%20%20%20%20%20%20%20%20%29.addTo%28map_438a5342dd8c47b4a662b252750a9149%29%3B%0A%20%20%20%20%20%20%20%20%0A%20%20%20%20%0A%20%20%20%20%20%20%20%20var%20popup_f2bf717c72e04bef8159f2c43e171f96%20%3D%20L.popup%28%7B%22maxWidth%22%3A%20%22100%25%22%7D%29%3B%0A%0A%20%20%20%20%20%20%20%20%0A%20%20%20%20%20%20%20%20%20%20%20%20var%20html_a1cf57a47b49467684500c0275be9605%20%3D%20%24%28%60%3Cdiv%20id%3D%22html_a1cf57a47b49467684500c0275be9605%22%20style%3D%22width%3A%20100.0%25%3B%20height%3A%20100.0%25%3B%22%3EVictoria%20Village%20Cluster%200%3C/div%3E%60%29%5B0%5D%3B%0A%20%20%20%20%20%20%20%20%20%20%20%20popup_f2bf717c72e04bef8159f2c43e171f96.setContent%28html_a1cf57a47b49467684500c0275be9605%29%3B%0A%20%20%20%20%20%20%20%20%0A%0A%20%20%20%20%20%20%20%20circle_marker_9aaf9c7d690c4e59821b0c93f4046f4d.bindPopup%28popup_f2bf717c72e04bef8159f2c43e171f96%29%0A%20%20%20%20%20%20%20%20%3B%0A%0A%20%20%20%20%20%20%20%20%0A%20%20%20%20%0A%20%20%20%20%0A%20%20%20%20%20%20%20%20%20%20%20%20var%20circle_marker_279f81e7f5be43b08d1f91c6633d53d3%20%3D%20L.circleMarker%28%0A%20%20%20%20%20%20%20%20%20%20%20%20%20%20%20%20%5B43.7332825%2C%20-79.4197497%5D%2C%0A%20%20%20%20%20%20%20%20%20%20%20%20%20%20%20%20%7B%22bubblingMouseEvents%22%3A%20true%2C%20%22color%22%3A%20%22%23ff0000%22%2C%20%22dashArray%22%3A%20null%2C%20%22dashOffset%22%3A%20null%2C%20%22fill%22%3A%20true%2C%20%22fillColor%22%3A%20%22%23ff0000%22%2C%20%22fillOpacity%22%3A%200.7%2C%20%22fillRule%22%3A%20%22evenodd%22%2C%20%22lineCap%22%3A%20%22round%22%2C%20%22lineJoin%22%3A%20%22round%22%2C%20%22opacity%22%3A%201.0%2C%20%22radius%22%3A%205%2C%20%22stroke%22%3A%20true%2C%20%22weight%22%3A%203%7D%0A%20%20%20%20%20%20%20%20%20%20%20%20%29.addTo%28map_438a5342dd8c47b4a662b252750a9149%29%3B%0A%20%20%20%20%20%20%20%20%0A%20%20%20%20%0A%20%20%20%20%20%20%20%20var%20popup_64e4a97379e5418d882a536069ead2e4%20%3D%20L.popup%28%7B%22maxWidth%22%3A%20%22100%25%22%7D%29%3B%0A%0A%20%20%20%20%20%20%20%20%0A%20%20%20%20%20%20%20%20%20%20%20%20var%20html_28d8e662df924586bbd7b7b4ed9b6d84%20%3D%20%24%28%60%3Cdiv%20id%3D%22html_28d8e662df924586bbd7b7b4ed9b6d84%22%20style%3D%22width%3A%20100.0%25%3B%20height%3A%20100.0%25%3B%22%3EBedford%20Park%20%2C%20Lawrence%20Manor%20East%20Cluster%200%3C/div%3E%60%29%5B0%5D%3B%0A%20%20%20%20%20%20%20%20%20%20%20%20popup_64e4a97379e5418d882a536069ead2e4.setContent%28html_28d8e662df924586bbd7b7b4ed9b6d84%29%3B%0A%20%20%20%20%20%20%20%20%0A%0A%20%20%20%20%20%20%20%20circle_marker_279f81e7f5be43b08d1f91c6633d53d3.bindPopup%28popup_64e4a97379e5418d882a536069ead2e4%29%0A%20%20%20%20%20%20%20%20%3B%0A%0A%20%20%20%20%20%20%20%20%0A%20%20%20%20%0A%20%20%20%20%0A%20%20%20%20%20%20%20%20%20%20%20%20var%20circle_marker_3cd280dc63964bc3a65585d72b253561%20%3D%20L.circleMarker%28%0A%20%20%20%20%20%20%20%20%20%20%20%20%20%20%20%20%5B43.718518%2C%20-79.4647633%5D%2C%0A%20%20%20%20%20%20%20%20%20%20%20%20%20%20%20%20%7B%22bubblingMouseEvents%22%3A%20true%2C%20%22color%22%3A%20%22%238000ff%22%2C%20%22dashArray%22%3A%20null%2C%20%22dashOffset%22%3A%20null%2C%20%22fill%22%3A%20true%2C%20%22fillColor%22%3A%20%22%238000ff%22%2C%20%22fillOpacity%22%3A%200.7%2C%20%22fillRule%22%3A%20%22evenodd%22%2C%20%22lineCap%22%3A%20%22round%22%2C%20%22lineJoin%22%3A%20%22round%22%2C%20%22opacity%22%3A%201.0%2C%20%22radius%22%3A%205%2C%20%22stroke%22%3A%20true%2C%20%22weight%22%3A%203%7D%0A%20%20%20%20%20%20%20%20%20%20%20%20%29.addTo%28map_438a5342dd8c47b4a662b252750a9149%29%3B%0A%20%20%20%20%20%20%20%20%0A%20%20%20%20%0A%20%20%20%20%20%20%20%20var%20popup_fe58ae48876e4ad6b13fd9d8cc4f7aaf%20%3D%20L.popup%28%7B%22maxWidth%22%3A%20%22100%25%22%7D%29%3B%0A%0A%20%20%20%20%20%20%20%20%0A%20%20%20%20%20%20%20%20%20%20%20%20var%20html_1b7de8a121824ca5a3e273bc2024b7c1%20%3D%20%24%28%60%3Cdiv%20id%3D%22html_1b7de8a121824ca5a3e273bc2024b7c1%22%20style%3D%22width%3A%20100.0%25%3B%20height%3A%20100.0%25%3B%22%3ELawrence%20Manor%20%2C%20Lawrence%20Heights%20Cluster%201%3C/div%3E%60%29%5B0%5D%3B%0A%20%20%20%20%20%20%20%20%20%20%20%20popup_fe58ae48876e4ad6b13fd9d8cc4f7aaf.setContent%28html_1b7de8a121824ca5a3e273bc2024b7c1%29%3B%0A%20%20%20%20%20%20%20%20%0A%0A%20%20%20%20%20%20%20%20circle_marker_3cd280dc63964bc3a65585d72b253561.bindPopup%28popup_fe58ae48876e4ad6b13fd9d8cc4f7aaf%29%0A%20%20%20%20%20%20%20%20%3B%0A%0A%20%20%20%20%20%20%20%20%0A%20%20%20%20%0A%20%20%20%20%0A%20%20%20%20%20%20%20%20%20%20%20%20var%20circle_marker_463860b9425848f380f29468af0abc55%20%3D%20L.circleMarker%28%0A%20%20%20%20%20%20%20%20%20%20%20%20%20%20%20%20%5B43.709577%2C%20-79.4450726%5D%2C%0A%20%20%20%20%20%20%20%20%20%20%20%20%20%20%20%20%7B%22bubblingMouseEvents%22%3A%20true%2C%20%22color%22%3A%20%22%238000ff%22%2C%20%22dashArray%22%3A%20null%2C%20%22dashOffset%22%3A%20null%2C%20%22fill%22%3A%20true%2C%20%22fillColor%22%3A%20%22%238000ff%22%2C%20%22fillOpacity%22%3A%200.7%2C%20%22fillRule%22%3A%20%22evenodd%22%2C%20%22lineCap%22%3A%20%22round%22%2C%20%22lineJoin%22%3A%20%22round%22%2C%20%22opacity%22%3A%201.0%2C%20%22radius%22%3A%205%2C%20%22stroke%22%3A%20true%2C%20%22weight%22%3A%203%7D%0A%20%20%20%20%20%20%20%20%20%20%20%20%29.addTo%28map_438a5342dd8c47b4a662b252750a9149%29%3B%0A%20%20%20%20%20%20%20%20%0A%20%20%20%20%0A%20%20%20%20%20%20%20%20var%20popup_859c6b88f24c4aa385d2f4cc93ca0963%20%3D%20L.popup%28%7B%22maxWidth%22%3A%20%22100%25%22%7D%29%3B%0A%0A%20%20%20%20%20%20%20%20%0A%20%20%20%20%20%20%20%20%20%20%20%20var%20html_5733ef2a3b534031a205d51a1c385a6b%20%3D%20%24%28%60%3Cdiv%20id%3D%22html_5733ef2a3b534031a205d51a1c385a6b%22%20style%3D%22width%3A%20100.0%25%3B%20height%3A%20100.0%25%3B%22%3EGlencairn%20Cluster%201%3C/div%3E%60%29%5B0%5D%3B%0A%20%20%20%20%20%20%20%20%20%20%20%20popup_859c6b88f24c4aa385d2f4cc93ca0963.setContent%28html_5733ef2a3b534031a205d51a1c385a6b%29%3B%0A%20%20%20%20%20%20%20%20%0A%0A%20%20%20%20%20%20%20%20circle_marker_463860b9425848f380f29468af0abc55.bindPopup%28popup_859c6b88f24c4aa385d2f4cc93ca0963%29%0A%20%20%20%20%20%20%20%20%3B%0A%0A%20%20%20%20%20%20%20%20%0A%20%20%20%20%0A%20%20%20%20%0A%20%20%20%20%20%20%20%20%20%20%20%20var%20circle_marker_032863d0a2424b87b022cd3721deb8bf%20%3D%20L.circleMarker%28%0A%20%20%20%20%20%20%20%20%20%20%20%20%20%20%20%20%5B43.7137562%2C%20-79.4900738%5D%2C%0A%20%20%20%20%20%20%20%20%20%20%20%20%20%20%20%20%7B%22bubblingMouseEvents%22%3A%20true%2C%20%22color%22%3A%20%22%232adddd%22%2C%20%22dashArray%22%3A%20null%2C%20%22dashOffset%22%3A%20null%2C%20%22fill%22%3A%20true%2C%20%22fillColor%22%3A%20%22%232adddd%22%2C%20%22fillOpacity%22%3A%200.7%2C%20%22fillRule%22%3A%20%22evenodd%22%2C%20%22lineCap%22%3A%20%22round%22%2C%20%22lineJoin%22%3A%20%22round%22%2C%20%22opacity%22%3A%201.0%2C%20%22radius%22%3A%205%2C%20%22stroke%22%3A%20true%2C%20%22weight%22%3A%203%7D%0A%20%20%20%20%20%20%20%20%20%20%20%20%29.addTo%28map_438a5342dd8c47b4a662b252750a9149%29%3B%0A%20%20%20%20%20%20%20%20%0A%20%20%20%20%0A%20%20%20%20%20%20%20%20var%20popup_2f2b7e54cebd4d798a23bf62c61048aa%20%3D%20L.popup%28%7B%22maxWidth%22%3A%20%22100%25%22%7D%29%3B%0A%0A%20%20%20%20%20%20%20%20%0A%20%20%20%20%20%20%20%20%20%20%20%20var%20html_d29107b23aeb4ac8ad17fb792d119ea1%20%3D%20%24%28%60%3Cdiv%20id%3D%22html_d29107b23aeb4ac8ad17fb792d119ea1%22%20style%3D%22width%3A%20100.0%25%3B%20height%3A%20100.0%25%3B%22%3ENorth%20Park%20%2C%20Maple%20Leaf%20Park%20%2C%20Upwood%20Park%20Cluster%202%3C/div%3E%60%29%5B0%5D%3B%0A%20%20%20%20%20%20%20%20%20%20%20%20popup_2f2b7e54cebd4d798a23bf62c61048aa.setContent%28html_d29107b23aeb4ac8ad17fb792d119ea1%29%3B%0A%20%20%20%20%20%20%20%20%0A%0A%20%20%20%20%20%20%20%20circle_marker_032863d0a2424b87b022cd3721deb8bf.bindPopup%28popup_2f2b7e54cebd4d798a23bf62c61048aa%29%0A%20%20%20%20%20%20%20%20%3B%0A%0A%20%20%20%20%20%20%20%20%0A%20%20%20%20%0A%20%20%20%20%0A%20%20%20%20%20%20%20%20%20%20%20%20var%20circle_marker_8ec589dff70b4f96a399dea292f40c25%20%3D%20L.circleMarker%28%0A%20%20%20%20%20%20%20%20%20%20%20%20%20%20%20%20%5B43.7563033%2C%20-79.5659633%5D%2C%0A%20%20%20%20%20%20%20%20%20%20%20%20%20%20%20%20%7B%22bubblingMouseEvents%22%3A%20true%2C%20%22color%22%3A%20%22%23ff0000%22%2C%20%22dashArray%22%3A%20null%2C%20%22dashOffset%22%3A%20null%2C%20%22fill%22%3A%20true%2C%20%22fillColor%22%3A%20%22%23ff0000%22%2C%20%22fillOpacity%22%3A%200.7%2C%20%22fillRule%22%3A%20%22evenodd%22%2C%20%22lineCap%22%3A%20%22round%22%2C%20%22lineJoin%22%3A%20%22round%22%2C%20%22opacity%22%3A%201.0%2C%20%22radius%22%3A%205%2C%20%22stroke%22%3A%20true%2C%20%22weight%22%3A%203%7D%0A%20%20%20%20%20%20%20%20%20%20%20%20%29.addTo%28map_438a5342dd8c47b4a662b252750a9149%29%3B%0A%20%20%20%20%20%20%20%20%0A%20%20%20%20%0A%20%20%20%20%20%20%20%20var%20popup_37432be121d14649a6a0bf746e034fdb%20%3D%20L.popup%28%7B%22maxWidth%22%3A%20%22100%25%22%7D%29%3B%0A%0A%20%20%20%20%20%20%20%20%0A%20%20%20%20%20%20%20%20%20%20%20%20var%20html_28adbc84316148fe801aed8a0f443190%20%3D%20%24%28%60%3Cdiv%20id%3D%22html_28adbc84316148fe801aed8a0f443190%22%20style%3D%22width%3A%20100.0%25%3B%20height%3A%20100.0%25%3B%22%3EHumber%20Summit%20Cluster%200%3C/div%3E%60%29%5B0%5D%3B%0A%20%20%20%20%20%20%20%20%20%20%20%20popup_37432be121d14649a6a0bf746e034fdb.setContent%28html_28adbc84316148fe801aed8a0f443190%29%3B%0A%20%20%20%20%20%20%20%20%0A%0A%20%20%20%20%20%20%20%20circle_marker_8ec589dff70b4f96a399dea292f40c25.bindPopup%28popup_37432be121d14649a6a0bf746e034fdb%29%0A%20%20%20%20%20%20%20%20%3B%0A%0A%20%20%20%20%20%20%20%20%0A%20%20%20%20%0A%20%20%20%20%0A%20%20%20%20%20%20%20%20%20%20%20%20var%20circle_marker_fb882cf20d034a9eb4a913130b269c62%20%3D%20L.circleMarker%28%0A%20%20%20%20%20%20%20%20%20%20%20%20%20%20%20%20%5B43.7247659%2C%20-79.5322424%5D%2C%0A%20%20%20%20%20%20%20%20%20%20%20%20%20%20%20%20%7B%22bubblingMouseEvents%22%3A%20true%2C%20%22color%22%3A%20%22%23d4dd80%22%2C%20%22dashArray%22%3A%20null%2C%20%22dashOffset%22%3A%20null%2C%20%22fill%22%3A%20true%2C%20%22fillColor%22%3A%20%22%23d4dd80%22%2C%20%22fillOpacity%22%3A%200.7%2C%20%22fillRule%22%3A%20%22evenodd%22%2C%20%22lineCap%22%3A%20%22round%22%2C%20%22lineJoin%22%3A%20%22round%22%2C%20%22opacity%22%3A%201.0%2C%20%22radius%22%3A%205%2C%20%22stroke%22%3A%20true%2C%20%22weight%22%3A%203%7D%0A%20%20%20%20%20%20%20%20%20%20%20%20%29.addTo%28map_438a5342dd8c47b4a662b252750a9149%29%3B%0A%20%20%20%20%20%20%20%20%0A%20%20%20%20%0A%20%20%20%20%20%20%20%20var%20popup_19a46256ca0e4550845b11fb72a1b3f6%20%3D%20L.popup%28%7B%22maxWidth%22%3A%20%22100%25%22%7D%29%3B%0A%0A%20%20%20%20%20%20%20%20%0A%20%20%20%20%20%20%20%20%20%20%20%20var%20html_8a85b6024b254c7e942fb02b61195db5%20%3D%20%24%28%60%3Cdiv%20id%3D%22html_8a85b6024b254c7e942fb02b61195db5%22%20style%3D%22width%3A%20100.0%25%3B%20height%3A%20100.0%25%3B%22%3EHumberlea%20%2C%20Emery%20Cluster%203%3C/div%3E%60%29%5B0%5D%3B%0A%20%20%20%20%20%20%20%20%20%20%20%20popup_19a46256ca0e4550845b11fb72a1b3f6.setContent%28html_8a85b6024b254c7e942fb02b61195db5%29%3B%0A%20%20%20%20%20%20%20%20%0A%0A%20%20%20%20%20%20%20%20circle_marker_fb882cf20d034a9eb4a913130b269c62.bindPopup%28popup_19a46256ca0e4550845b11fb72a1b3f6%29%0A%20%20%20%20%20%20%20%20%3B%0A%0A%20%20%20%20%20%20%20%20%0A%20%20%20%20%0A%3C/script%3E onload=\"this.contentDocument.open();this.contentDocument.write(    decodeURIComponent(this.getAttribute('data-html')));this.contentDocument.close();\" allowfullscreen webkitallowfullscreen mozallowfullscreen></iframe></div></div>"
     },
     "metadata": {},
     "execution_count": 452
    }
   ],
   "source": [
    "map_clusters = folium.Map(location=[latitude, longitude], zoom_start=11)\n",
    "\n",
    "# set color scheme for the clusters\n",
    "x = np.arange(kclusters)\n",
    "ys = [i + x + (i*x)**2 for i in range(kclusters)]\n",
    "colors_array = cm.rainbow(np.linspace(0, 1, len(ys)))\n",
    "rainbow = [colors.rgb2hex(i) for i in colors_array]\n",
    "\n",
    "# add markers to the map\n",
    "markers_colors = []\n",
    "for lat, lon, poi, cluster in zip(ny_merged['Latitude'], ny_merged['Longitude'], ny_merged['Neighborhood'], ny_merged\n",
    "['Cluster Labels']):\n",
    "    label = folium.Popup(str(poi) + ' Cluster ' + str(cluster), parse_html=True)\n",
    "    folium.CircleMarker(\n",
    "        [lat, lon],\n",
    "        radius=5,\n",
    "        popup=label,\n",
    "        color=rainbow[cluster-1],\n",
    "        fill=True,\n",
    "        fill_color=rainbow[cluster-1],\n",
    "        fill_opacity=0.7).add_to(map_clusters)\n",
    "       \n",
    "map_clusters"
   ]
  },
  {
   "cell_type": "code",
   "execution_count": 469,
   "metadata": {},
   "outputs": [
    {
     "output_type": "execute_result",
     "data": {
      "text/plain": [
       "       Borough  Cluster Labels 1st Most Common Venue 2nd Most Common Venue  \\\n",
       "2   North York               0    Chinese Restaurant                  Café   \n",
       "5   North York               0      Ramen Restaurant           Coffee Shop   \n",
       "7   North York               0              Wine Bar              Pharmacy   \n",
       "11  North York               0                  Bank           Coffee Shop   \n",
       "14  North York               0         Shopping Mall         Grocery Store   \n",
       "16  North York               0  Gym / Fitness Center          Liquor Store   \n",
       "17  North York               0          Hockey Arena           Pizza Place   \n",
       "18  North York               0           Coffee Shop    Italian Restaurant   \n",
       "22  North York               0           Pizza Place  Caribbean Restaurant   \n",
       "\n",
       "        3rd Most Common Venue 4th Most Common Venue 5th Most Common Venue  \\\n",
       "2         Japanese Restaurant                  Bank     Accessories Store   \n",
       "5            Sushi Restaurant                  Café         Shopping Mall   \n",
       "7                 Pizza Place           Coffee Shop     Accessories Store   \n",
       "11  Middle Eastern Restaurant    Chinese Restaurant           Pizza Place   \n",
       "14                      Hotel                  Bank                  Park   \n",
       "16              Grocery Store    Athletics & Sports        Discount Store   \n",
       "17      Portuguese Restaurant           Coffee Shop     Accessories Store   \n",
       "18                Pizza Place        Sandwich Place             Juice Bar   \n",
       "22               Intersection     Accessories Store                Lounge   \n",
       "\n",
       "   6th Most Common Venue          7th Most Common Venue  \\\n",
       "2          Luggage Store  Paper / Office Supplies Store   \n",
       "5            Pizza Place                         Lounge   \n",
       "7                 Lounge                  Movie Theater   \n",
       "11         Deli / Bodega              Mobile Phone Shop   \n",
       "14          Liquor Store                  Movie Theater   \n",
       "16         Movie Theater              Mobile Phone Shop   \n",
       "17         Luggage Store                  Movie Theater   \n",
       "18             Pet Store                       Pharmacy   \n",
       "22         Movie Theater              Mobile Phone Shop   \n",
       "\n",
       "      8th Most Common Venue      9th Most Common Venue  \\\n",
       "2             Movie Theater          Mobile Phone Shop   \n",
       "5      Fast Food Restaurant          Electronics Store   \n",
       "7         Mobile Phone Shop         Miscellaneous Shop   \n",
       "11                    Diner                   Pharmacy   \n",
       "14        Mobile Phone Shop         Miscellaneous Shop   \n",
       "16       Miscellaneous Shop  Middle Eastern Restaurant   \n",
       "17        Mobile Phone Shop         Miscellaneous Shop   \n",
       "18  Comfort Food Restaurant       Fast Food Restaurant   \n",
       "22       Miscellaneous Shop  Middle Eastern Restaurant   \n",
       "\n",
       "       10th Most Common Venue  \n",
       "2          Miscellaneous Shop  \n",
       "5   Middle Eastern Restaurant  \n",
       "7   Middle Eastern Restaurant  \n",
       "11             Sandwich Place  \n",
       "14  Middle Eastern Restaurant  \n",
       "16              Metro Station  \n",
       "17  Middle Eastern Restaurant  \n",
       "18                       Café  \n",
       "22              Metro Station  "
      ],
      "text/html": "<div>\n<style scoped>\n    .dataframe tbody tr th:only-of-type {\n        vertical-align: middle;\n    }\n\n    .dataframe tbody tr th {\n        vertical-align: top;\n    }\n\n    .dataframe thead th {\n        text-align: right;\n    }\n</style>\n<table border=\"1\" class=\"dataframe\">\n  <thead>\n    <tr style=\"text-align: right;\">\n      <th></th>\n      <th>Borough</th>\n      <th>Cluster Labels</th>\n      <th>1st Most Common Venue</th>\n      <th>2nd Most Common Venue</th>\n      <th>3rd Most Common Venue</th>\n      <th>4th Most Common Venue</th>\n      <th>5th Most Common Venue</th>\n      <th>6th Most Common Venue</th>\n      <th>7th Most Common Venue</th>\n      <th>8th Most Common Venue</th>\n      <th>9th Most Common Venue</th>\n      <th>10th Most Common Venue</th>\n    </tr>\n  </thead>\n  <tbody>\n    <tr>\n      <th>2</th>\n      <td>North York</td>\n      <td>0</td>\n      <td>Chinese Restaurant</td>\n      <td>Café</td>\n      <td>Japanese Restaurant</td>\n      <td>Bank</td>\n      <td>Accessories Store</td>\n      <td>Luggage Store</td>\n      <td>Paper / Office Supplies Store</td>\n      <td>Movie Theater</td>\n      <td>Mobile Phone Shop</td>\n      <td>Miscellaneous Shop</td>\n    </tr>\n    <tr>\n      <th>5</th>\n      <td>North York</td>\n      <td>0</td>\n      <td>Ramen Restaurant</td>\n      <td>Coffee Shop</td>\n      <td>Sushi Restaurant</td>\n      <td>Café</td>\n      <td>Shopping Mall</td>\n      <td>Pizza Place</td>\n      <td>Lounge</td>\n      <td>Fast Food Restaurant</td>\n      <td>Electronics Store</td>\n      <td>Middle Eastern Restaurant</td>\n    </tr>\n    <tr>\n      <th>7</th>\n      <td>North York</td>\n      <td>0</td>\n      <td>Wine Bar</td>\n      <td>Pharmacy</td>\n      <td>Pizza Place</td>\n      <td>Coffee Shop</td>\n      <td>Accessories Store</td>\n      <td>Lounge</td>\n      <td>Movie Theater</td>\n      <td>Mobile Phone Shop</td>\n      <td>Miscellaneous Shop</td>\n      <td>Middle Eastern Restaurant</td>\n    </tr>\n    <tr>\n      <th>11</th>\n      <td>North York</td>\n      <td>0</td>\n      <td>Bank</td>\n      <td>Coffee Shop</td>\n      <td>Middle Eastern Restaurant</td>\n      <td>Chinese Restaurant</td>\n      <td>Pizza Place</td>\n      <td>Deli / Bodega</td>\n      <td>Mobile Phone Shop</td>\n      <td>Diner</td>\n      <td>Pharmacy</td>\n      <td>Sandwich Place</td>\n    </tr>\n    <tr>\n      <th>14</th>\n      <td>North York</td>\n      <td>0</td>\n      <td>Shopping Mall</td>\n      <td>Grocery Store</td>\n      <td>Hotel</td>\n      <td>Bank</td>\n      <td>Park</td>\n      <td>Liquor Store</td>\n      <td>Movie Theater</td>\n      <td>Mobile Phone Shop</td>\n      <td>Miscellaneous Shop</td>\n      <td>Middle Eastern Restaurant</td>\n    </tr>\n    <tr>\n      <th>16</th>\n      <td>North York</td>\n      <td>0</td>\n      <td>Gym / Fitness Center</td>\n      <td>Liquor Store</td>\n      <td>Grocery Store</td>\n      <td>Athletics &amp; Sports</td>\n      <td>Discount Store</td>\n      <td>Movie Theater</td>\n      <td>Mobile Phone Shop</td>\n      <td>Miscellaneous Shop</td>\n      <td>Middle Eastern Restaurant</td>\n      <td>Metro Station</td>\n    </tr>\n    <tr>\n      <th>17</th>\n      <td>North York</td>\n      <td>0</td>\n      <td>Hockey Arena</td>\n      <td>Pizza Place</td>\n      <td>Portuguese Restaurant</td>\n      <td>Coffee Shop</td>\n      <td>Accessories Store</td>\n      <td>Luggage Store</td>\n      <td>Movie Theater</td>\n      <td>Mobile Phone Shop</td>\n      <td>Miscellaneous Shop</td>\n      <td>Middle Eastern Restaurant</td>\n    </tr>\n    <tr>\n      <th>18</th>\n      <td>North York</td>\n      <td>0</td>\n      <td>Coffee Shop</td>\n      <td>Italian Restaurant</td>\n      <td>Pizza Place</td>\n      <td>Sandwich Place</td>\n      <td>Juice Bar</td>\n      <td>Pet Store</td>\n      <td>Pharmacy</td>\n      <td>Comfort Food Restaurant</td>\n      <td>Fast Food Restaurant</td>\n      <td>Café</td>\n    </tr>\n    <tr>\n      <th>22</th>\n      <td>North York</td>\n      <td>0</td>\n      <td>Pizza Place</td>\n      <td>Caribbean Restaurant</td>\n      <td>Intersection</td>\n      <td>Accessories Store</td>\n      <td>Lounge</td>\n      <td>Movie Theater</td>\n      <td>Mobile Phone Shop</td>\n      <td>Miscellaneous Shop</td>\n      <td>Middle Eastern Restaurant</td>\n      <td>Metro Station</td>\n    </tr>\n  </tbody>\n</table>\n</div>"
     },
     "metadata": {},
     "execution_count": 469
    }
   ],
   "source": [
    "first_cluster =ny_merged.loc[ny_merged['Cluster Labels'] == 0, ny_merged.columns[[1] + list(range(5, ny_merged.shape[1]))]]\n",
    "first_cluster"
   ]
  },
  {
   "cell_type": "code",
   "execution_count": 470,
   "metadata": {},
   "outputs": [
    {
     "output_type": "execute_result",
     "data": {
      "text/plain": [
       "       Borough  Cluster Labels 1st Most Common Venue 2nd Most Common Venue  \\\n",
       "0   North York               1  Fast Food Restaurant           Golf Course   \n",
       "1   North York               1        Clothing Store           Coffee Shop   \n",
       "9   North York               1                   Gym  Caribbean Restaurant   \n",
       "10  North York               1                   Gym           Coffee Shop   \n",
       "12  North York               1           Coffee Shop  Caribbean Restaurant   \n",
       "13  North York               1               Airport      Business Service   \n",
       "19  North York               1        Clothing Store     Accessories Store   \n",
       "20  North York               1            Playground                Bakery   \n",
       "\n",
       "   3rd Most Common Venue     4th Most Common Venue 5th Most Common Venue  \\\n",
       "0                   Pool  Mediterranean Restaurant               Dog Run   \n",
       "1   Fast Food Restaurant       Japanese Restaurant            Restaurant   \n",
       "9                   Café       Japanese Restaurant         Luggage Store   \n",
       "10            Restaurant                Beer Store        Discount Store   \n",
       "12    Miscellaneous Shop    Furniture / Home Store                   Bar   \n",
       "13                  Park              Liquor Store         Movie Theater   \n",
       "19              Boutique     Vietnamese Restaurant            Shoe Store   \n",
       "20   Japanese Restaurant          Sushi Restaurant     Accessories Store   \n",
       "\n",
       "            6th Most Common Venue 7th Most Common Venue  \\\n",
       "0                    Liquor Store     Mobile Phone Shop   \n",
       "1                       Juice Bar                Bakery   \n",
       "9   Paper / Office Supplies Store         Movie Theater   \n",
       "10                 Clothing Store    Chinese Restaurant   \n",
       "12                  Metro Station        Massage Studio   \n",
       "13              Mobile Phone Shop    Miscellaneous Shop   \n",
       "19             Miscellaneous Shop             Gift Shop   \n",
       "20                         Lounge         Movie Theater   \n",
       "\n",
       "        8th Most Common Venue      9th Most Common Venue  \\\n",
       "0          Miscellaneous Shop  Middle Eastern Restaurant   \n",
       "1                        Bank                 Food Court   \n",
       "9           Mobile Phone Shop         Miscellaneous Shop   \n",
       "10             Sandwich Place              Shopping Mall   \n",
       "12              Luggage Store                       Park   \n",
       "13  Middle Eastern Restaurant              Metro Station   \n",
       "19     Furniture / Home Store                Coffee Shop   \n",
       "20          Mobile Phone Shop         Miscellaneous Shop   \n",
       "\n",
       "           10th Most Common Venue  \n",
       "0                   Metro Station  \n",
       "1              Salon / Barbershop  \n",
       "9       Middle Eastern Restaurant  \n",
       "10            Sporting Goods Shop  \n",
       "12  Paper / Office Supplies Store  \n",
       "13                    Men's Store  \n",
       "19                   Carpet Store  \n",
       "20      Middle Eastern Restaurant  "
      ],
      "text/html": "<div>\n<style scoped>\n    .dataframe tbody tr th:only-of-type {\n        vertical-align: middle;\n    }\n\n    .dataframe tbody tr th {\n        vertical-align: top;\n    }\n\n    .dataframe thead th {\n        text-align: right;\n    }\n</style>\n<table border=\"1\" class=\"dataframe\">\n  <thead>\n    <tr style=\"text-align: right;\">\n      <th></th>\n      <th>Borough</th>\n      <th>Cluster Labels</th>\n      <th>1st Most Common Venue</th>\n      <th>2nd Most Common Venue</th>\n      <th>3rd Most Common Venue</th>\n      <th>4th Most Common Venue</th>\n      <th>5th Most Common Venue</th>\n      <th>6th Most Common Venue</th>\n      <th>7th Most Common Venue</th>\n      <th>8th Most Common Venue</th>\n      <th>9th Most Common Venue</th>\n      <th>10th Most Common Venue</th>\n    </tr>\n  </thead>\n  <tbody>\n    <tr>\n      <th>0</th>\n      <td>North York</td>\n      <td>1</td>\n      <td>Fast Food Restaurant</td>\n      <td>Golf Course</td>\n      <td>Pool</td>\n      <td>Mediterranean Restaurant</td>\n      <td>Dog Run</td>\n      <td>Liquor Store</td>\n      <td>Mobile Phone Shop</td>\n      <td>Miscellaneous Shop</td>\n      <td>Middle Eastern Restaurant</td>\n      <td>Metro Station</td>\n    </tr>\n    <tr>\n      <th>1</th>\n      <td>North York</td>\n      <td>1</td>\n      <td>Clothing Store</td>\n      <td>Coffee Shop</td>\n      <td>Fast Food Restaurant</td>\n      <td>Japanese Restaurant</td>\n      <td>Restaurant</td>\n      <td>Juice Bar</td>\n      <td>Bakery</td>\n      <td>Bank</td>\n      <td>Food Court</td>\n      <td>Salon / Barbershop</td>\n    </tr>\n    <tr>\n      <th>9</th>\n      <td>North York</td>\n      <td>1</td>\n      <td>Gym</td>\n      <td>Caribbean Restaurant</td>\n      <td>Café</td>\n      <td>Japanese Restaurant</td>\n      <td>Luggage Store</td>\n      <td>Paper / Office Supplies Store</td>\n      <td>Movie Theater</td>\n      <td>Mobile Phone Shop</td>\n      <td>Miscellaneous Shop</td>\n      <td>Middle Eastern Restaurant</td>\n    </tr>\n    <tr>\n      <th>10</th>\n      <td>North York</td>\n      <td>1</td>\n      <td>Gym</td>\n      <td>Coffee Shop</td>\n      <td>Restaurant</td>\n      <td>Beer Store</td>\n      <td>Discount Store</td>\n      <td>Clothing Store</td>\n      <td>Chinese Restaurant</td>\n      <td>Sandwich Place</td>\n      <td>Shopping Mall</td>\n      <td>Sporting Goods Shop</td>\n    </tr>\n    <tr>\n      <th>12</th>\n      <td>North York</td>\n      <td>1</td>\n      <td>Coffee Shop</td>\n      <td>Caribbean Restaurant</td>\n      <td>Miscellaneous Shop</td>\n      <td>Furniture / Home Store</td>\n      <td>Bar</td>\n      <td>Metro Station</td>\n      <td>Massage Studio</td>\n      <td>Luggage Store</td>\n      <td>Park</td>\n      <td>Paper / Office Supplies Store</td>\n    </tr>\n    <tr>\n      <th>13</th>\n      <td>North York</td>\n      <td>1</td>\n      <td>Airport</td>\n      <td>Business Service</td>\n      <td>Park</td>\n      <td>Liquor Store</td>\n      <td>Movie Theater</td>\n      <td>Mobile Phone Shop</td>\n      <td>Miscellaneous Shop</td>\n      <td>Middle Eastern Restaurant</td>\n      <td>Metro Station</td>\n      <td>Men's Store</td>\n    </tr>\n    <tr>\n      <th>19</th>\n      <td>North York</td>\n      <td>1</td>\n      <td>Clothing Store</td>\n      <td>Accessories Store</td>\n      <td>Boutique</td>\n      <td>Vietnamese Restaurant</td>\n      <td>Shoe Store</td>\n      <td>Miscellaneous Shop</td>\n      <td>Gift Shop</td>\n      <td>Furniture / Home Store</td>\n      <td>Coffee Shop</td>\n      <td>Carpet Store</td>\n    </tr>\n    <tr>\n      <th>20</th>\n      <td>North York</td>\n      <td>1</td>\n      <td>Playground</td>\n      <td>Bakery</td>\n      <td>Japanese Restaurant</td>\n      <td>Sushi Restaurant</td>\n      <td>Accessories Store</td>\n      <td>Lounge</td>\n      <td>Movie Theater</td>\n      <td>Mobile Phone Shop</td>\n      <td>Miscellaneous Shop</td>\n      <td>Middle Eastern Restaurant</td>\n    </tr>\n  </tbody>\n</table>\n</div>"
     },
     "metadata": {},
     "execution_count": 470
    }
   ],
   "source": [
    "second_cluster =ny_merged.loc[ny_merged['Cluster Labels'] == 1, ny_merged.columns[[1] + list(range(5, ny_merged.shape[1]))]]\n",
    "second_cluster"
   ]
  },
  {
   "cell_type": "code",
   "execution_count": 471,
   "metadata": {},
   "outputs": [
    {
     "output_type": "execute_result",
     "data": {
      "text/plain": [
       "       Borough  Cluster Labels 1st Most Common Venue  \\\n",
       "4   North York               2                   Gym   \n",
       "6   North York               2                  Park   \n",
       "8   North York               2     Food & Drink Shop   \n",
       "21  North York               2                  Park   \n",
       "\n",
       "         2nd Most Common Venue 3rd Most Common Venue 4th Most Common Venue  \\\n",
       "4                         Park         Movie Theater     Mobile Phone Shop   \n",
       "6   Construction & Landscaping     Convenience Store                Lounge   \n",
       "8                         Park     Accessories Store          Liquor Store   \n",
       "21  Construction & Landscaping                Bakery      Basketball Court   \n",
       "\n",
       "   5th Most Common Venue          6th Most Common Venue 7th Most Common Venue  \\\n",
       "4     Miscellaneous Shop      Middle Eastern Restaurant         Metro Station   \n",
       "6          Movie Theater              Mobile Phone Shop    Miscellaneous Shop   \n",
       "8          Movie Theater              Mobile Phone Shop    Miscellaneous Shop   \n",
       "21                Lounge  Paper / Office Supplies Store         Movie Theater   \n",
       "\n",
       "        8th Most Common Venue     9th Most Common Venue  \\\n",
       "4                 Men's Store  Mediterranean Restaurant   \n",
       "6   Middle Eastern Restaurant             Metro Station   \n",
       "8   Middle Eastern Restaurant             Metro Station   \n",
       "21          Mobile Phone Shop        Miscellaneous Shop   \n",
       "\n",
       "       10th Most Common Venue  \n",
       "4              Massage Studio  \n",
       "6                 Men's Store  \n",
       "8                 Men's Store  \n",
       "21  Middle Eastern Restaurant  "
      ],
      "text/html": "<div>\n<style scoped>\n    .dataframe tbody tr th:only-of-type {\n        vertical-align: middle;\n    }\n\n    .dataframe tbody tr th {\n        vertical-align: top;\n    }\n\n    .dataframe thead th {\n        text-align: right;\n    }\n</style>\n<table border=\"1\" class=\"dataframe\">\n  <thead>\n    <tr style=\"text-align: right;\">\n      <th></th>\n      <th>Borough</th>\n      <th>Cluster Labels</th>\n      <th>1st Most Common Venue</th>\n      <th>2nd Most Common Venue</th>\n      <th>3rd Most Common Venue</th>\n      <th>4th Most Common Venue</th>\n      <th>5th Most Common Venue</th>\n      <th>6th Most Common Venue</th>\n      <th>7th Most Common Venue</th>\n      <th>8th Most Common Venue</th>\n      <th>9th Most Common Venue</th>\n      <th>10th Most Common Venue</th>\n    </tr>\n  </thead>\n  <tbody>\n    <tr>\n      <th>4</th>\n      <td>North York</td>\n      <td>2</td>\n      <td>Gym</td>\n      <td>Park</td>\n      <td>Movie Theater</td>\n      <td>Mobile Phone Shop</td>\n      <td>Miscellaneous Shop</td>\n      <td>Middle Eastern Restaurant</td>\n      <td>Metro Station</td>\n      <td>Men's Store</td>\n      <td>Mediterranean Restaurant</td>\n      <td>Massage Studio</td>\n    </tr>\n    <tr>\n      <th>6</th>\n      <td>North York</td>\n      <td>2</td>\n      <td>Park</td>\n      <td>Construction &amp; Landscaping</td>\n      <td>Convenience Store</td>\n      <td>Lounge</td>\n      <td>Movie Theater</td>\n      <td>Mobile Phone Shop</td>\n      <td>Miscellaneous Shop</td>\n      <td>Middle Eastern Restaurant</td>\n      <td>Metro Station</td>\n      <td>Men's Store</td>\n    </tr>\n    <tr>\n      <th>8</th>\n      <td>North York</td>\n      <td>2</td>\n      <td>Food &amp; Drink Shop</td>\n      <td>Park</td>\n      <td>Accessories Store</td>\n      <td>Liquor Store</td>\n      <td>Movie Theater</td>\n      <td>Mobile Phone Shop</td>\n      <td>Miscellaneous Shop</td>\n      <td>Middle Eastern Restaurant</td>\n      <td>Metro Station</td>\n      <td>Men's Store</td>\n    </tr>\n    <tr>\n      <th>21</th>\n      <td>North York</td>\n      <td>2</td>\n      <td>Park</td>\n      <td>Construction &amp; Landscaping</td>\n      <td>Bakery</td>\n      <td>Basketball Court</td>\n      <td>Lounge</td>\n      <td>Paper / Office Supplies Store</td>\n      <td>Movie Theater</td>\n      <td>Mobile Phone Shop</td>\n      <td>Miscellaneous Shop</td>\n      <td>Middle Eastern Restaurant</td>\n    </tr>\n  </tbody>\n</table>\n</div>"
     },
     "metadata": {},
     "execution_count": 471
    }
   ],
   "source": [
    "third_cluster =ny_merged.loc[ny_merged['Cluster Labels'] == 2, ny_merged.columns[[1] + list(range(5, ny_merged.shape[1]))]]\n",
    "third_cluster"
   ]
  },
  {
   "cell_type": "code",
   "execution_count": 472,
   "metadata": {},
   "outputs": [
    {
     "output_type": "execute_result",
     "data": {
      "text/plain": [
       "       Borough  Cluster Labels          1st Most Common Venue  \\\n",
       "15  North York               3               Business Service   \n",
       "23  North York               3  Paper / Office Supplies Store   \n",
       "\n",
       "   2nd Most Common Venue 3rd Most Common Venue 4th Most Common Venue  \\\n",
       "15        Baseball Field            Food Truck     Accessories Store   \n",
       "23        Baseball Field     Accessories Store          Liquor Store   \n",
       "\n",
       "   5th Most Common Venue          6th Most Common Venue 7th Most Common Venue  \\\n",
       "15                Lounge  Paper / Office Supplies Store         Movie Theater   \n",
       "23         Movie Theater              Mobile Phone Shop    Miscellaneous Shop   \n",
       "\n",
       "        8th Most Common Venue 9th Most Common Venue     10th Most Common Venue  \n",
       "15          Mobile Phone Shop    Miscellaneous Shop  Middle Eastern Restaurant  \n",
       "23  Middle Eastern Restaurant         Metro Station                Men's Store  "
      ],
      "text/html": "<div>\n<style scoped>\n    .dataframe tbody tr th:only-of-type {\n        vertical-align: middle;\n    }\n\n    .dataframe tbody tr th {\n        vertical-align: top;\n    }\n\n    .dataframe thead th {\n        text-align: right;\n    }\n</style>\n<table border=\"1\" class=\"dataframe\">\n  <thead>\n    <tr style=\"text-align: right;\">\n      <th></th>\n      <th>Borough</th>\n      <th>Cluster Labels</th>\n      <th>1st Most Common Venue</th>\n      <th>2nd Most Common Venue</th>\n      <th>3rd Most Common Venue</th>\n      <th>4th Most Common Venue</th>\n      <th>5th Most Common Venue</th>\n      <th>6th Most Common Venue</th>\n      <th>7th Most Common Venue</th>\n      <th>8th Most Common Venue</th>\n      <th>9th Most Common Venue</th>\n      <th>10th Most Common Venue</th>\n    </tr>\n  </thead>\n  <tbody>\n    <tr>\n      <th>15</th>\n      <td>North York</td>\n      <td>3</td>\n      <td>Business Service</td>\n      <td>Baseball Field</td>\n      <td>Food Truck</td>\n      <td>Accessories Store</td>\n      <td>Lounge</td>\n      <td>Paper / Office Supplies Store</td>\n      <td>Movie Theater</td>\n      <td>Mobile Phone Shop</td>\n      <td>Miscellaneous Shop</td>\n      <td>Middle Eastern Restaurant</td>\n    </tr>\n    <tr>\n      <th>23</th>\n      <td>North York</td>\n      <td>3</td>\n      <td>Paper / Office Supplies Store</td>\n      <td>Baseball Field</td>\n      <td>Accessories Store</td>\n      <td>Liquor Store</td>\n      <td>Movie Theater</td>\n      <td>Mobile Phone Shop</td>\n      <td>Miscellaneous Shop</td>\n      <td>Middle Eastern Restaurant</td>\n      <td>Metro Station</td>\n      <td>Men's Store</td>\n    </tr>\n  </tbody>\n</table>\n</div>"
     },
     "metadata": {},
     "execution_count": 472
    }
   ],
   "source": [
    "fourth_cluster =ny_merged.loc[ny_merged['Cluster Labels'] == 3, ny_merged.columns[[1] + list(range(5, ny_merged.shape[1]))]]\n",
    "fourth_cluster"
   ]
  },
  {
   "cell_type": "code",
   "execution_count": 475,
   "metadata": {},
   "outputs": [
    {
     "output_type": "stream",
     "name": "stdout",
     "text": [
      "                      Venues  Count\n0  Middle Eastern Restaurant      7\n1          Mobile Phone Shop      7\n2         Miscellaneous Shop      6\n3                Pizza Place      6\n4              Movie Theater      6\n5                Coffee Shop      5\n6          Accessories Store      4\n7                     Lounge      3\n8                   Pharmacy      3\n9                       Café      3 \n\n                          Venues  Count\n0             Miscellaneous Shop      6\n1              Mobile Phone Shop      4\n2                    Coffee Shop      4\n3      Middle Eastern Restaurant      4\n4                 Clothing Store      3\n5                  Movie Theater      3\n6                  Metro Station      3\n7            Japanese Restaurant      3\n8                   Liquor Store      2\n9  Paper / Office Supplies Store      2 \n\n                       Venues  Count\n0                        Park      4\n1               Movie Theater      4\n2   Middle Eastern Restaurant      4\n3           Mobile Phone Shop      4\n4          Miscellaneous Shop      4\n5                 Men's Store      3\n6               Metro Station      3\n7  Construction & Landscaping      2\n8                      Lounge      2\n9              Massage Studio      1 \n\n                          Venues  Count\n0             Miscellaneous Shop      2\n1      Middle Eastern Restaurant      2\n2              Mobile Phone Shop      2\n3                 Baseball Field      2\n4  Paper / Office Supplies Store      2\n5                  Movie Theater      2\n6              Accessories Store      2\n7               Business Service      1\n8                     Food Truck      1\n9                         Lounge      1 \n\n"
     ]
    }
   ],
   "source": [
    "clusters = [first_cluster, second_cluster, third_cluster, fourth_cluster]\n",
    "for cluster in clusters:\n",
    "    print(get_most_common_place(cluster, 2).head(10),\"\\n\")"
   ]
  },
  {
   "cell_type": "code",
   "execution_count": null,
   "metadata": {},
   "outputs": [],
   "source": [
    "from the clusterization we see that the first clusters is a very busy neighbourhood, the second cluster is moderatively busy with fewer places, the third place is a more quiet neighbourhood with more venues like parks and movie theaters and finally the last venue with relatively few places to visit nearby."
   ]
  }
 ]
}