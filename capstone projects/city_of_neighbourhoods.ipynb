{
 "metadata": {
  "language_info": {
   "codemirror_mode": {
    "name": "ipython",
    "version": 3
   },
   "file_extension": ".py",
   "mimetype": "text/x-python",
   "name": "python",
   "nbconvert_exporter": "python",
   "pygments_lexer": "ipython3",
   "version": "3.8.5"
  },
  "orig_nbformat": 2,
  "kernelspec": {
   "name": "python3",
   "display_name": "Python 3.8.5 64-bit",
   "metadata": {
    "interpreter": {
     "hash": "aee8b7b246df8f9039afb4144a1f6fd8d2ca17a180786b69acc140d282b71a49"
    }
   }
  }
 },
 "nbformat": 4,
 "nbformat_minor": 2,
 "cells": [
  {
   "source": [
    "# Toronto - The City Of Neighborhoods "
   ],
   "cell_type": "markdown",
   "metadata": {}
  },
  {
   "source": [
    "The strength and vitality of the many neighbourhoods that make up Toronto, Ontario, Canada has earned the city its unofficial nickname of \"the city of neighbourhoods. There are over 140 neighbourhoods officially recognized by the City of Toronto. The aim of this project is to explore, segment and clusterise Toronto according to its neighborhoods and find similarites and disimilarities using data science techniques."
   ],
   "cell_type": "markdown",
   "metadata": {}
  },
  {
   "source": [
    "### Install Dependencies"
   ],
   "cell_type": "markdown",
   "metadata": {}
  },
  {
   "cell_type": "code",
   "execution_count": null,
   "metadata": {},
   "outputs": [],
   "source": [
    "!pip3 install bs4\n",
    "!pip3 install requests\n",
    "!pip3 install html5lib"
   ]
  },
  {
   "source": [
    "### Import Dependencies\n",
    " We import Beautifulsoup dependency for web scraping of wikipedia page, requests for making http calls, html5lib a type of beautifulsoup parser for html files and pandas for working with extracted data in the form of a dataframe\n",
    " "
   ],
   "cell_type": "markdown",
   "metadata": {}
  },
  {
   "cell_type": "code",
   "execution_count": 116,
   "metadata": {},
   "outputs": [],
   "source": [
    "from bs4 import BeautifulSoup\n",
    "import requests\n",
    "import html5lib\n",
    "import pandas as pd"
   ]
  },
  {
   "source": [
    "## Data Collection - Scrape Files"
   ],
   "cell_type": "markdown",
   "metadata": {}
  },
  {
   "cell_type": "code",
   "execution_count": 138,
   "metadata": {
    "tags": []
   },
   "outputs": [],
   "source": [
    "scraping_url = \"https://en.wikipedia.org/wiki/List_of_postal_codes_of_Canada:_M\"\n",
    "html_file = requests.get(scraping_url).text\t\n",
    "soup = BeautifulSoup(html_file, \"html5lib\")\n"
   ]
  },
  {
   "source": [
    "## Data Preprocessing - Convert Files into DataFrame\n",
    "\n",
    "The scraped html files will be conerted using pandas into a dataframe consisting on three columns postal code , borough and neighborhood"
   ],
   "cell_type": "markdown",
   "metadata": {}
  },
  {
   "cell_type": "code",
   "execution_count": 139,
   "metadata": {},
   "outputs": [
    {
     "output_type": "execute_result",
     "data": {
      "text/plain": [
       "  PostalCode      Borough                                       Neighborhood\n",
       "0        M1B  Scarborough                                    Malvern , Rouge\n",
       "1        M1C  Scarborough           Rouge Hill , Port Union , Highland Creek\n",
       "2        M1E  Scarborough                Guildwood , Morningside , West Hill\n",
       "3        M1G  Scarborough                                             Woburn\n",
       "4        M1H  Scarborough                                          Cedarbrae\n",
       "5        M1J  Scarborough                                Scarborough Village\n",
       "6        M1K  Scarborough      Kennedy Park , Ionview , East Birchmount Park\n",
       "7        M1L  Scarborough                  Golden Mile , Clairlea , Oakridge\n",
       "8        M1M  Scarborough  Cliffside , Cliffcrest , Scarborough Village West\n",
       "9        M1N  Scarborough                       Birch Cliff , Cliffside West"
      ],
      "text/html": "<div>\n<style scoped>\n    .dataframe tbody tr th:only-of-type {\n        vertical-align: middle;\n    }\n\n    .dataframe tbody tr th {\n        vertical-align: top;\n    }\n\n    .dataframe thead th {\n        text-align: right;\n    }\n</style>\n<table border=\"1\" class=\"dataframe\">\n  <thead>\n    <tr style=\"text-align: right;\">\n      <th></th>\n      <th>PostalCode</th>\n      <th>Borough</th>\n      <th>Neighborhood</th>\n    </tr>\n  </thead>\n  <tbody>\n    <tr>\n      <th>0</th>\n      <td>M1B</td>\n      <td>Scarborough</td>\n      <td>Malvern , Rouge</td>\n    </tr>\n    <tr>\n      <th>1</th>\n      <td>M1C</td>\n      <td>Scarborough</td>\n      <td>Rouge Hill , Port Union , Highland Creek</td>\n    </tr>\n    <tr>\n      <th>2</th>\n      <td>M1E</td>\n      <td>Scarborough</td>\n      <td>Guildwood , Morningside , West Hill</td>\n    </tr>\n    <tr>\n      <th>3</th>\n      <td>M1G</td>\n      <td>Scarborough</td>\n      <td>Woburn</td>\n    </tr>\n    <tr>\n      <th>4</th>\n      <td>M1H</td>\n      <td>Scarborough</td>\n      <td>Cedarbrae</td>\n    </tr>\n    <tr>\n      <th>5</th>\n      <td>M1J</td>\n      <td>Scarborough</td>\n      <td>Scarborough Village</td>\n    </tr>\n    <tr>\n      <th>6</th>\n      <td>M1K</td>\n      <td>Scarborough</td>\n      <td>Kennedy Park , Ionview , East Birchmount Park</td>\n    </tr>\n    <tr>\n      <th>7</th>\n      <td>M1L</td>\n      <td>Scarborough</td>\n      <td>Golden Mile , Clairlea , Oakridge</td>\n    </tr>\n    <tr>\n      <th>8</th>\n      <td>M1M</td>\n      <td>Scarborough</td>\n      <td>Cliffside , Cliffcrest , Scarborough Village West</td>\n    </tr>\n    <tr>\n      <th>9</th>\n      <td>M1N</td>\n      <td>Scarborough</td>\n      <td>Birch Cliff , Cliffside West</td>\n    </tr>\n  </tbody>\n</table>\n</div>"
     },
     "metadata": {},
     "execution_count": 139
    }
   ],
   "source": [
    "# Create a list of neighborhoods\n",
    "neighborhoods = []\n",
    "for row in soup.find(\"table\").findAll(\"td\"):\n",
    "    data = {}\n",
    "    if row.span.text == \"Not assigned\":\n",
    "        pass\n",
    "    else:\n",
    "        data[\"PostalCode\"] = row.p.text[:3]\n",
    "        data[\"Borough\"] = row.span.text.split(\"(\")[0]\n",
    "        data[\"Neighborhood\"] = (((row.span.text.split(\"(\")[1]).strip(\")\")).replace(\"/\",\",\").replace(')',' ')).strip(' ')\n",
    "        neighborhoods.append(data)\n",
    "\n",
    "# create dataframe\n",
    "df = pd.DataFrame(neighborhoods)\n",
    "\n",
    "# replace outlying formats for boroughs\n",
    "df['Borough']=df['Borough'].replace({\n",
    "    'Downtown TorontoStn A PO Boxes25 The Esplanade':'Downtown Toronto Stn A',\n",
    "    'East TorontoBusiness reply mail Processing Centre969 Eastern':'East Toronto Business',\n",
    "    'EtobicokeNorthwest':'Etobicoke Northwest',\n",
    "    'East YorkEast Toronto':'East York/East Toronto',\n",
    "    'MississaugaCanada Post Gateway Processing Centre':'Mississauga'})\n",
    "\n",
    "# replace not assigned neighborhoods                                           \n",
    "not_assigned_neighborhoods = df[df[\"Neighborhood\"]== \"Not assigned\"]\n",
    "not_assigned_neighborhoods[\"Neighborhood\"] = not_assigned_neighborhoods[\"Borough\"]\n",
    "df.sort_values([\"PostalCode\"],ascending=True, inplace=True)\n",
    "df.reset_index(drop=True,inplace=True)\n",
    "df.head(10)\n",
    "    "
   ]
  },
  {
   "source": [
    "## Data Exploration"
   ],
   "cell_type": "markdown",
   "metadata": {}
  },
  {
   "cell_type": "code",
   "execution_count": 123,
   "metadata": {},
   "outputs": [
    {
     "output_type": "execute_result",
     "data": {
      "text/plain": [
       "(103, 3)"
      ]
     },
     "metadata": {},
     "execution_count": 123
    }
   ],
   "source": [
    "\n",
    "df.shape"
   ]
  }
 ]
}